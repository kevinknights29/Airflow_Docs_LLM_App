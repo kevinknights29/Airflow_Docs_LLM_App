{
 "cells": [
  {
   "cell_type": "markdown",
   "id": "4f97178c-58d0-443f-b043-f4230c2a524b",
   "metadata": {},
   "source": [
    "# Vector Database Initialization"
   ]
  },
  {
   "cell_type": "markdown",
   "id": "ec2ad1ff-fed6-4a60-92e2-40a83c43b5b5",
   "metadata": {},
   "source": [
    "## Dependencies"
   ]
  },
  {
   "cell_type": "code",
   "execution_count": null,
   "id": "c286ad94-6e17-4c33-a111-a14e49b24227",
   "metadata": {
    "tags": []
   },
   "outputs": [
    {
     "name": "stdout",
     "output_type": "stream",
     "text": [
      "Requirement already satisfied: beautifulsoup4 in /opt/conda/lib/python3.11/site-packages (4.12.2)\n",
      "Requirement already satisfied: requests in /opt/conda/lib/python3.11/site-packages (2.31.0)\n",
      "Requirement already satisfied: pandas in /opt/conda/lib/python3.11/site-packages (2.0.3)\n",
      "Requirement already satisfied: langchain in /home/jovyan/.local/lib/python3.11/site-packages (0.0.231)\n",
      "Requirement already satisfied: tiktoken in /home/jovyan/.local/lib/python3.11/site-packages (0.4.0)\n",
      "Requirement already satisfied: pyarrow in /opt/conda/lib/python3.11/site-packages (12.0.1)\n",
      "Requirement already satisfied: fastparquet in /home/jovyan/.local/lib/python3.11/site-packages (2023.7.0)\n",
      "Requirement already satisfied: chromadb in /home/jovyan/.local/lib/python3.11/site-packages (0.3.29)\n",
      "Collecting sentence_transformers\n",
      "  Downloading sentence-transformers-2.2.2.tar.gz (85 kB)\n",
      "\u001b[2K     \u001b[90m━━━━━━━━━━━━━━━━━━━━━━━━━━━━━━━━━━━━━━━\u001b[0m \u001b[32m86.0/86.0 kB\u001b[0m \u001b[31m393.1 kB/s\u001b[0m eta \u001b[36m0:00:00\u001b[0ma \u001b[36m0:00:01\u001b[0m\n",
      "\u001b[?25h  Preparing metadata (setup.py) ... \u001b[?25ldone\n",
      "\u001b[?25hRequirement already satisfied: soupsieve>1.2 in /opt/conda/lib/python3.11/site-packages (from beautifulsoup4) (2.3.2.post1)\n",
      "Requirement already satisfied: charset-normalizer<4,>=2 in /opt/conda/lib/python3.11/site-packages (from requests) (3.2.0)\n",
      "Requirement already satisfied: idna<4,>=2.5 in /opt/conda/lib/python3.11/site-packages (from requests) (3.4)\n",
      "Requirement already satisfied: urllib3<3,>=1.21.1 in /opt/conda/lib/python3.11/site-packages (from requests) (2.0.3)\n",
      "Requirement already satisfied: certifi>=2017.4.17 in /opt/conda/lib/python3.11/site-packages (from requests) (2023.5.7)\n",
      "Requirement already satisfied: python-dateutil>=2.8.2 in /opt/conda/lib/python3.11/site-packages (from pandas) (2.8.2)\n",
      "Requirement already satisfied: pytz>=2020.1 in /opt/conda/lib/python3.11/site-packages (from pandas) (2023.3)\n",
      "Requirement already satisfied: tzdata>=2022.1 in /opt/conda/lib/python3.11/site-packages (from pandas) (2023.3)\n",
      "Requirement already satisfied: numpy>=1.21.0 in /opt/conda/lib/python3.11/site-packages (from pandas) (1.24.4)\n",
      "Requirement already satisfied: PyYAML>=5.4.1 in /opt/conda/lib/python3.11/site-packages (from langchain) (6.0)\n",
      "Requirement already satisfied: SQLAlchemy<3,>=1.4 in /opt/conda/lib/python3.11/site-packages (from langchain) (2.0.18)\n",
      "Requirement already satisfied: aiohttp<4.0.0,>=3.8.3 in /home/jovyan/.local/lib/python3.11/site-packages (from langchain) (3.8.4)\n",
      "Requirement already satisfied: dataclasses-json<0.6.0,>=0.5.7 in /home/jovyan/.local/lib/python3.11/site-packages (from langchain) (0.5.9)\n",
      "Requirement already satisfied: langchainplus-sdk<0.0.21,>=0.0.20 in /home/jovyan/.local/lib/python3.11/site-packages (from langchain) (0.0.20)\n",
      "Requirement already satisfied: numexpr<3.0.0,>=2.8.4 in /opt/conda/lib/python3.11/site-packages (from langchain) (2.8.4)\n",
      "Requirement already satisfied: openapi-schema-pydantic<2.0,>=1.2 in /home/jovyan/.local/lib/python3.11/site-packages (from langchain) (1.2.4)\n",
      "Requirement already satisfied: pydantic<2,>=1 in /home/jovyan/.local/lib/python3.11/site-packages (from langchain) (1.10.11)\n",
      "Requirement already satisfied: tenacity<9.0.0,>=8.1.0 in /home/jovyan/.local/lib/python3.11/site-packages (from langchain) (8.2.2)\n",
      "Requirement already satisfied: regex>=2022.1.18 in /home/jovyan/.local/lib/python3.11/site-packages (from tiktoken) (2023.6.3)\n",
      "Requirement already satisfied: cramjam>=2.3 in /home/jovyan/.local/lib/python3.11/site-packages (from fastparquet) (2.6.2)\n",
      "Requirement already satisfied: fsspec in /opt/conda/lib/python3.11/site-packages (from fastparquet) (2023.6.0)\n",
      "Requirement already satisfied: packaging in /opt/conda/lib/python3.11/site-packages (from fastparquet) (23.1)\n",
      "Requirement already satisfied: hnswlib>=0.7 in /home/jovyan/.local/lib/python3.11/site-packages (from chromadb) (0.7.0)\n",
      "Requirement already satisfied: clickhouse-connect>=0.5.7 in /home/jovyan/.local/lib/python3.11/site-packages (from chromadb) (0.6.6)\n",
      "Requirement already satisfied: duckdb>=0.7.1 in /home/jovyan/.local/lib/python3.11/site-packages (from chromadb) (0.8.1)\n",
      "Requirement already satisfied: fastapi==0.85.1 in /home/jovyan/.local/lib/python3.11/site-packages (from chromadb) (0.85.1)\n",
      "Requirement already satisfied: uvicorn[standard]>=0.18.3 in /home/jovyan/.local/lib/python3.11/site-packages (from chromadb) (0.22.0)\n",
      "Requirement already satisfied: posthog>=2.4.0 in /home/jovyan/.local/lib/python3.11/site-packages (from chromadb) (3.0.1)\n",
      "Requirement already satisfied: typing-extensions>=4.5.0 in /opt/conda/lib/python3.11/site-packages (from chromadb) (4.7.1)\n",
      "Requirement already satisfied: pulsar-client>=3.1.0 in /home/jovyan/.local/lib/python3.11/site-packages (from chromadb) (3.2.0)\n",
      "Requirement already satisfied: onnxruntime>=1.14.1 in /home/jovyan/.local/lib/python3.11/site-packages (from chromadb) (1.15.1)\n",
      "Requirement already satisfied: tokenizers>=0.13.2 in /home/jovyan/.local/lib/python3.11/site-packages (from chromadb) (0.13.3)\n",
      "Requirement already satisfied: tqdm>=4.65.0 in /opt/conda/lib/python3.11/site-packages (from chromadb) (4.65.0)\n",
      "Requirement already satisfied: overrides>=7.3.1 in /opt/conda/lib/python3.11/site-packages (from chromadb) (7.3.1)\n",
      "Requirement already satisfied: starlette==0.20.4 in /home/jovyan/.local/lib/python3.11/site-packages (from fastapi==0.85.1->chromadb) (0.20.4)\n",
      "Requirement already satisfied: anyio<5,>=3.4.0 in /opt/conda/lib/python3.11/site-packages (from starlette==0.20.4->fastapi==0.85.1->chromadb) (3.7.1)\n",
      "Collecting transformers<5.0.0,>=4.6.0 (from sentence_transformers)\n",
      "  Downloading transformers-4.30.2-py3-none-any.whl (7.2 MB)\n",
      "\u001b[2K     \u001b[90m━━━━━━━━━━━━━━━━━━━━━━━━━━━━━━━━━━━━━━━━\u001b[0m \u001b[32m7.2/7.2 MB\u001b[0m \u001b[31m35.0 kB/s\u001b[0m eta \u001b[36m0:00:00\u001b[0m00:01\u001b[0m00:06\u001b[0m\n",
      "\u001b[?25hCollecting torch>=1.6.0 (from sentence_transformers)\n",
      "  Downloading torch-2.0.1-cp311-cp311-manylinux2014_aarch64.whl (74.0 MB)\n",
      "\u001b[2K     \u001b[91m━━━━━━━━\u001b[0m\u001b[91m╸\u001b[0m\u001b[90m━━━━━━━━━━━━━━━━━━━━━━━━━━━━━━━\u001b[0m \u001b[32m16.3/74.0 MB\u001b[0m \u001b[31m34.5 kB/s\u001b[0m eta \u001b[36m0:27:52\u001b[0m"
     ]
    }
   ],
   "source": [
    "%pip install beautifulsoup4 requests pandas langchain tiktoken pyarrow fastparquet chromadb sentence_transformers --user"
   ]
  },
  {
   "cell_type": "code",
   "execution_count": 2,
   "id": "8a18e5e1-3edb-4597-a6c4-b5e4cdb179a0",
   "metadata": {
    "tags": []
   },
   "outputs": [
    {
     "name": "stdout",
     "output_type": "stream",
     "text": [
      "Requirement already satisfied: pydantic==1.10.11 in /home/jovyan/.local/lib/python3.11/site-packages (1.10.11)\n",
      "Requirement already satisfied: typing-extensions>=4.2.0 in /opt/conda/lib/python3.11/site-packages (from pydantic==1.10.11) (4.7.1)\n",
      "Note: you may need to restart the kernel to use updated packages.\n"
     ]
    }
   ],
   "source": [
    "%pip install pydantic==1.10.11 --user"
   ]
  },
  {
   "cell_type": "markdown",
   "id": "02f8fe43-4564-4af0-806c-5ba884003511",
   "metadata": {},
   "source": [
    "## Setup"
   ]
  },
  {
   "cell_type": "markdown",
   "id": "1d8cc8ea-3595-4324-809b-3aa3ce779618",
   "metadata": {},
   "source": [
    "### Documents URL Scraping"
   ]
  },
  {
   "cell_type": "code",
   "execution_count": 3,
   "id": "f5fd454a-7e5c-4a3f-97ae-fe5c3f04e122",
   "metadata": {
    "tags": []
   },
   "outputs": [
    {
     "name": "stdout",
     "output_type": "stream",
     "text": [
      "https://airflow.apache.org/docs/apache-airflow/stable/integration.html\n",
      "https://airflow.apache.org/docs/apache-airflow/stable/stable-rest-api-ref.html\n",
      "https://airflow.apache.org/docs/apache-airflow/stable/tutorial/index.html\n",
      "https://airflow.apache.org/docs/apache-airflow/stable/configurations-ref.html\n",
      "https://airflow.apache.org/docs/apache-airflow/stable/core-concepts/index.html\n",
      "https://airflow.apache.org/docs/apache-airflow/stable/\n",
      "https://airflow.apache.org/docs/apache-airflow/stable/start.html\n",
      "https://airflow.apache.org/docs/apache-airflow/stable/extra-packages-ref.html\n",
      "https://airflow.apache.org/docs/apache-airflow/stable/license.html\n",
      "https://airflow.apache.org/docs/apache-airflow/stable/release_notes.html\n",
      "https://airflow.apache.org/docs/apache-airflow/stable/cli-and-env-variables-ref.html\n",
      "https://airflow.apache.org/docs/apache-airflow/stable/deprecated-rest-api-ref.html\n",
      "https://airflow.apache.org/docs/apache-airflow/stable/public-airflow-interface.html\n",
      "https://airflow.apache.org/docs/apache-airflow/stable/migrations-ref.html\n",
      "https://airflow.apache.org/docs/apache-airflow/stable/project.html\n",
      "https://airflow.apache.org/docs/apache-airflow/stable/installation/index.html\n",
      "https://airflow.apache.org/docs/apache-airflow/stable/operators-and-hooks-ref.html\n",
      "https://airflow.apache.org/docs/apache-airflow/stable/best-practices.html\n",
      "https://airflow.apache.org/docs/apache-airflow/stable/release-process.html\n",
      "https://airflow.apache.org/docs/apache-airflow/stable/administration-and-deployment/index.html\n",
      "https://airflow.apache.org/docs/apache-airflow/stable/templates-ref.html\n",
      "https://airflow.apache.org/docs/apache-airflow/stable/authoring-and-scheduling/index.html\n",
      "https://airflow.apache.org/docs/apache-airflow/stable/faq.html\n",
      "https://airflow.apache.org/docs/apache-airflow/stable/ui.html\n",
      "https://airflow.apache.org/docs/apache-airflow/stable/security/index.html\n",
      "https://airflow.apache.org/docs/apache-airflow/stable/database-erd-ref.html\n",
      "https://airflow.apache.org/docs/apache-airflow/stable/howto/index.html\n",
      "https://airflow.apache.org/docs/apache-airflow/stable/privacy_notice.html\n"
     ]
    }
   ],
   "source": [
    "from pathlib import Path\n",
    "from urllib.parse import urlparse\n",
    "from bs4 import BeautifulSoup\n",
    "import requests\n",
    "\n",
    "root_url = \"https://airflow.apache.org/docs/apache-airflow/stable/\"\n",
    "root_response = requests.get(root_url)\n",
    "root_html = root_response.content.decode(\"utf-8\")\n",
    "soup = BeautifulSoup(root_html, 'html.parser')\n",
    "\n",
    "root_url_parts = urlparse(root_url)\n",
    "root_links = soup.find_all(\"a\", attrs={\"class\": \"reference internal\"})\n",
    "\n",
    "result = set()\n",
    "for root_link in root_links:\n",
    "    path = root_url_parts.path + root_link.get(\"href\")\n",
    "    path = str(Path(path).resolve())\n",
    "    path = urlparse(path).path\n",
    "    url = f\"{root_url_parts.scheme}://{root_url_parts.netloc}{path}\"\n",
    "    result.add(url)\n",
    "urls = list(result)\n",
    "print(*urls, sep=\"\\n\")"
   ]
  },
  {
   "cell_type": "code",
   "execution_count": 4,
   "id": "0c302bf0-b2a0-44a2-b395-06b7d73b8291",
   "metadata": {
    "tags": []
   },
   "outputs": [
    {
     "name": "stdout",
     "output_type": "stream",
     "text": [
      "Total documents:  1488\n"
     ]
    }
   ],
   "source": [
    "from langchain.document_loaders import WebBaseLoader\n",
    "from langchain.text_splitter import RecursiveCharacterTextSplitter\n",
    "from langchain.text_splitter import CharacterTextSplitter\n",
    "\n",
    "loader = WebBaseLoader(urls)\n",
    "documents = loader.load()\n",
    "\n",
    "# Select one of the following:\n",
    "text_splitter = RecursiveCharacterTextSplitter(chunk_size=1000, chunk_overlap=100)\n",
    "# text_splitter = CharacterTextSplitter.from_tiktoken_encoder(chunk_size=1000, chunk_overlap=100)\n",
    "\n",
    "splitted_documents = text_splitter.split_documents(documents)\n",
    "print(\"Total documents: \", len(splitted_documents))"
   ]
  },
  {
   "cell_type": "code",
   "execution_count": 5,
   "id": "5077025e-c22b-4606-aeed-46ef66cb9e2d",
   "metadata": {
    "tags": []
   },
   "outputs": [
    {
     "data": {
      "text/html": [
       "<div>\n",
       "<style scoped>\n",
       "    .dataframe tbody tr th:only-of-type {\n",
       "        vertical-align: middle;\n",
       "    }\n",
       "\n",
       "    .dataframe tbody tr th {\n",
       "        vertical-align: top;\n",
       "    }\n",
       "\n",
       "    .dataframe thead th {\n",
       "        text-align: right;\n",
       "    }\n",
       "</style>\n",
       "<table border=\"1\" class=\"dataframe\">\n",
       "  <thead>\n",
       "    <tr style=\"text-align: right;\">\n",
       "      <th></th>\n",
       "      <th>page_content</th>\n",
       "      <th>source</th>\n",
       "      <th>title</th>\n",
       "      <th>language</th>\n",
       "    </tr>\n",
       "  </thead>\n",
       "  <tbody>\n",
       "    <tr>\n",
       "      <th>0</th>\n",
       "      <td>Integration — Airflow Documentation\\n\\n\\n\\n\\n\\...</td>\n",
       "      <td>https://airflow.apache.org/docs/apache-airflow...</td>\n",
       "      <td>Integration — Airflow Documentation</td>\n",
       "      <td>en</td>\n",
       "    </tr>\n",
       "    <tr>\n",
       "      <th>1</th>\n",
       "      <td>Announcements\\n                            \\n\\...</td>\n",
       "      <td>https://airflow.apache.org/docs/apache-airflow...</td>\n",
       "      <td>Integration — Airflow Documentation</td>\n",
       "      <td>en</td>\n",
       "    </tr>\n",
       "    <tr>\n",
       "      <th>2</th>\n",
       "      <td>Database Migrations\\nDatabase ERD Schema\\n\\n\\n...</td>\n",
       "      <td>https://airflow.apache.org/docs/apache-airflow...</td>\n",
       "      <td>Integration — Airflow Documentation</td>\n",
       "      <td>en</td>\n",
       "    </tr>\n",
       "    <tr>\n",
       "      <th>3</th>\n",
       "      <td>It also has integration with Sentry service fo...</td>\n",
       "      <td>https://airflow.apache.org/docs/apache-airflow...</td>\n",
       "      <td>Integration — Airflow Documentation</td>\n",
       "      <td>en</td>\n",
       "    </tr>\n",
       "    <tr>\n",
       "      <th>4</th>\n",
       "      <td>Airflow REST API</td>\n",
       "      <td>https://airflow.apache.org/docs/apache-airflow...</td>\n",
       "      <td>Airflow REST API</td>\n",
       "      <td>Unknown</td>\n",
       "    </tr>\n",
       "  </tbody>\n",
       "</table>\n",
       "</div>"
      ],
      "text/plain": [
       "                                        page_content  \\\n",
       "0  Integration — Airflow Documentation\\n\\n\\n\\n\\n\\...   \n",
       "1  Announcements\\n                            \\n\\...   \n",
       "2  Database Migrations\\nDatabase ERD Schema\\n\\n\\n...   \n",
       "3  It also has integration with Sentry service fo...   \n",
       "4                                   Airflow REST API   \n",
       "\n",
       "                                              source  \\\n",
       "0  https://airflow.apache.org/docs/apache-airflow...   \n",
       "1  https://airflow.apache.org/docs/apache-airflow...   \n",
       "2  https://airflow.apache.org/docs/apache-airflow...   \n",
       "3  https://airflow.apache.org/docs/apache-airflow...   \n",
       "4  https://airflow.apache.org/docs/apache-airflow...   \n",
       "\n",
       "                                 title language  \n",
       "0  Integration — Airflow Documentation       en  \n",
       "1  Integration — Airflow Documentation       en  \n",
       "2  Integration — Airflow Documentation       en  \n",
       "3  Integration — Airflow Documentation       en  \n",
       "4                     Airflow REST API  Unknown  "
      ]
     },
     "execution_count": 5,
     "metadata": {},
     "output_type": "execute_result"
    }
   ],
   "source": [
    "import pandas as pd\n",
    "\n",
    "page_contents = []\n",
    "sources = []\n",
    "titles = []\n",
    "languages = []\n",
    "\n",
    "for document in splitted_documents:\n",
    "    page_contents.append(document.page_content)\n",
    "    if document.metadata:\n",
    "        sources.append(document.metadata.get('source', \"Unknown\"))\n",
    "        titles.append(document.metadata.get('title', \"Unknown\"))\n",
    "        languages.append(document.metadata.get('language', \"Unknown\"))\n",
    "\n",
    "documents_df = pd.DataFrame({\n",
    "    'page_content': page_contents,\n",
    "    'source': sources,\n",
    "    'title': titles,\n",
    "    'language': languages\n",
    "})\n",
    "documents_df.fillna(\"Unknown\", inplace=True)\n",
    "documents_df.head()"
   ]
  },
  {
   "cell_type": "code",
   "execution_count": 6,
   "id": "de23fd28-8073-4b58-8860-259e2c599823",
   "metadata": {
    "tags": []
   },
   "outputs": [],
   "source": [
    "# Replace \\n and \\t with a space\n",
    "documents_df[\"page_content\"] = documents_df[\"page_content\"].replace('\\n', ' ', regex=True)\n",
    "documents_df[\"page_content\"] = documents_df[\"page_content\"].replace('\\t', ' ', regex=True)\n",
    "# Remove leading and trailing spaces\n",
    "documents_df[\"page_content\"] = documents_df[\"page_content\"].str.strip()"
   ]
  },
  {
   "cell_type": "code",
   "execution_count": 7,
   "id": "2cad5690-fb66-4655-a09d-b0e06e9d0c91",
   "metadata": {
    "tags": []
   },
   "outputs": [
    {
     "data": {
      "text/html": [
       "<div>\n",
       "<style scoped>\n",
       "    .dataframe tbody tr th:only-of-type {\n",
       "        vertical-align: middle;\n",
       "    }\n",
       "\n",
       "    .dataframe tbody tr th {\n",
       "        vertical-align: top;\n",
       "    }\n",
       "\n",
       "    .dataframe thead th {\n",
       "        text-align: right;\n",
       "    }\n",
       "</style>\n",
       "<table border=\"1\" class=\"dataframe\">\n",
       "  <thead>\n",
       "    <tr style=\"text-align: right;\">\n",
       "      <th></th>\n",
       "      <th>page_content</th>\n",
       "      <th>source</th>\n",
       "      <th>title</th>\n",
       "      <th>language</th>\n",
       "    </tr>\n",
       "  </thead>\n",
       "  <tbody>\n",
       "    <tr>\n",
       "      <th>0</th>\n",
       "      <td>Integration — Airflow Documentation           ...</td>\n",
       "      <td>https://airflow.apache.org/docs/apache-airflow...</td>\n",
       "      <td>Integration — Airflow Documentation</td>\n",
       "      <td>en</td>\n",
       "    </tr>\n",
       "    <tr>\n",
       "      <th>1</th>\n",
       "      <td>Announcements                                 ...</td>\n",
       "      <td>https://airflow.apache.org/docs/apache-airflow...</td>\n",
       "      <td>Integration — Airflow Documentation</td>\n",
       "      <td>en</td>\n",
       "    </tr>\n",
       "    <tr>\n",
       "      <th>2</th>\n",
       "      <td>Database Migrations Database ERD Schema       ...</td>\n",
       "      <td>https://airflow.apache.org/docs/apache-airflow...</td>\n",
       "      <td>Integration — Airflow Documentation</td>\n",
       "      <td>en</td>\n",
       "    </tr>\n",
       "    <tr>\n",
       "      <th>3</th>\n",
       "      <td>It also has integration with Sentry service fo...</td>\n",
       "      <td>https://airflow.apache.org/docs/apache-airflow...</td>\n",
       "      <td>Integration — Airflow Documentation</td>\n",
       "      <td>en</td>\n",
       "    </tr>\n",
       "    <tr>\n",
       "      <th>4</th>\n",
       "      <td>Airflow REST API</td>\n",
       "      <td>https://airflow.apache.org/docs/apache-airflow...</td>\n",
       "      <td>Airflow REST API</td>\n",
       "      <td>Unknown</td>\n",
       "    </tr>\n",
       "  </tbody>\n",
       "</table>\n",
       "</div>"
      ],
      "text/plain": [
       "                                        page_content  \\\n",
       "0  Integration — Airflow Documentation           ...   \n",
       "1  Announcements                                 ...   \n",
       "2  Database Migrations Database ERD Schema       ...   \n",
       "3  It also has integration with Sentry service fo...   \n",
       "4                                   Airflow REST API   \n",
       "\n",
       "                                              source  \\\n",
       "0  https://airflow.apache.org/docs/apache-airflow...   \n",
       "1  https://airflow.apache.org/docs/apache-airflow...   \n",
       "2  https://airflow.apache.org/docs/apache-airflow...   \n",
       "3  https://airflow.apache.org/docs/apache-airflow...   \n",
       "4  https://airflow.apache.org/docs/apache-airflow...   \n",
       "\n",
       "                                 title language  \n",
       "0  Integration — Airflow Documentation       en  \n",
       "1  Integration — Airflow Documentation       en  \n",
       "2  Integration — Airflow Documentation       en  \n",
       "3  Integration — Airflow Documentation       en  \n",
       "4                     Airflow REST API  Unknown  "
      ]
     },
     "execution_count": 7,
     "metadata": {},
     "output_type": "execute_result"
    }
   ],
   "source": [
    "documents_df.head()"
   ]
  },
  {
   "cell_type": "code",
   "execution_count": 8,
   "id": "42988831-2705-4103-af39-fe651bd9a4ee",
   "metadata": {
    "tags": []
   },
   "outputs": [],
   "source": [
    "from urllib.parse import urlparse\n",
    "\n",
    "def decompose_url(url):\n",
    "    parsed = urlparse(url)\n",
    "    \n",
    "    # The root url will be the scheme plus '://' plus the netloc\n",
    "    root_url = parsed.scheme + \"://\" + parsed.netloc\n",
    "    \n",
    "    # The path will be split into parts by '/'\n",
    "    path_parts = parsed.path.strip('/').split('/')\n",
    "    \n",
    "    # The section and page depend on how many parts there are\n",
    "    if len(path_parts) >= 2:\n",
    "        # The section will be the second to last part\n",
    "        section = path_parts[-2]\n",
    "        # The page will be the last part\n",
    "        page = path_parts[-1]\n",
    "    elif len(path_parts) == 1:\n",
    "        # If there's only one part, we'll assume it's the page\n",
    "        section = None\n",
    "        page = path_parts[0]\n",
    "    else:\n",
    "        # If there are no parts, then both section and page will be None\n",
    "        section = None\n",
    "        page = None\n",
    "    \n",
    "    return root_url, section, page\n",
    "\n",
    "# Apply the function to the 'source' column of your dataframe\n",
    "documents_df['root_url'], documents_df['section'], documents_df['page'] = zip(*documents_df['source'].map(decompose_url))\n"
   ]
  },
  {
   "cell_type": "code",
   "execution_count": 9,
   "id": "80a09926-f15c-42d1-a07a-39cbd25459f8",
   "metadata": {
    "tags": []
   },
   "outputs": [
    {
     "data": {
      "text/html": [
       "<div>\n",
       "<style scoped>\n",
       "    .dataframe tbody tr th:only-of-type {\n",
       "        vertical-align: middle;\n",
       "    }\n",
       "\n",
       "    .dataframe tbody tr th {\n",
       "        vertical-align: top;\n",
       "    }\n",
       "\n",
       "    .dataframe thead th {\n",
       "        text-align: right;\n",
       "    }\n",
       "</style>\n",
       "<table border=\"1\" class=\"dataframe\">\n",
       "  <thead>\n",
       "    <tr style=\"text-align: right;\">\n",
       "      <th></th>\n",
       "      <th>page_content</th>\n",
       "      <th>source</th>\n",
       "      <th>title</th>\n",
       "      <th>language</th>\n",
       "      <th>root_url</th>\n",
       "      <th>section</th>\n",
       "      <th>page</th>\n",
       "    </tr>\n",
       "  </thead>\n",
       "  <tbody>\n",
       "    <tr>\n",
       "      <th>0</th>\n",
       "      <td>Integration — Airflow Documentation           ...</td>\n",
       "      <td>https://airflow.apache.org/docs/apache-airflow...</td>\n",
       "      <td>Integration — Airflow Documentation</td>\n",
       "      <td>en</td>\n",
       "      <td>https://airflow.apache.org</td>\n",
       "      <td>stable</td>\n",
       "      <td>integration.html</td>\n",
       "    </tr>\n",
       "    <tr>\n",
       "      <th>1</th>\n",
       "      <td>Announcements                                 ...</td>\n",
       "      <td>https://airflow.apache.org/docs/apache-airflow...</td>\n",
       "      <td>Integration — Airflow Documentation</td>\n",
       "      <td>en</td>\n",
       "      <td>https://airflow.apache.org</td>\n",
       "      <td>stable</td>\n",
       "      <td>integration.html</td>\n",
       "    </tr>\n",
       "    <tr>\n",
       "      <th>2</th>\n",
       "      <td>Database Migrations Database ERD Schema       ...</td>\n",
       "      <td>https://airflow.apache.org/docs/apache-airflow...</td>\n",
       "      <td>Integration — Airflow Documentation</td>\n",
       "      <td>en</td>\n",
       "      <td>https://airflow.apache.org</td>\n",
       "      <td>stable</td>\n",
       "      <td>integration.html</td>\n",
       "    </tr>\n",
       "    <tr>\n",
       "      <th>3</th>\n",
       "      <td>It also has integration with Sentry service fo...</td>\n",
       "      <td>https://airflow.apache.org/docs/apache-airflow...</td>\n",
       "      <td>Integration — Airflow Documentation</td>\n",
       "      <td>en</td>\n",
       "      <td>https://airflow.apache.org</td>\n",
       "      <td>stable</td>\n",
       "      <td>integration.html</td>\n",
       "    </tr>\n",
       "    <tr>\n",
       "      <th>4</th>\n",
       "      <td>Airflow REST API</td>\n",
       "      <td>https://airflow.apache.org/docs/apache-airflow...</td>\n",
       "      <td>Airflow REST API</td>\n",
       "      <td>Unknown</td>\n",
       "      <td>https://airflow.apache.org</td>\n",
       "      <td>stable</td>\n",
       "      <td>stable-rest-api-ref.html</td>\n",
       "    </tr>\n",
       "  </tbody>\n",
       "</table>\n",
       "</div>"
      ],
      "text/plain": [
       "                                        page_content  \\\n",
       "0  Integration — Airflow Documentation           ...   \n",
       "1  Announcements                                 ...   \n",
       "2  Database Migrations Database ERD Schema       ...   \n",
       "3  It also has integration with Sentry service fo...   \n",
       "4                                   Airflow REST API   \n",
       "\n",
       "                                              source  \\\n",
       "0  https://airflow.apache.org/docs/apache-airflow...   \n",
       "1  https://airflow.apache.org/docs/apache-airflow...   \n",
       "2  https://airflow.apache.org/docs/apache-airflow...   \n",
       "3  https://airflow.apache.org/docs/apache-airflow...   \n",
       "4  https://airflow.apache.org/docs/apache-airflow...   \n",
       "\n",
       "                                 title language                    root_url  \\\n",
       "0  Integration — Airflow Documentation       en  https://airflow.apache.org   \n",
       "1  Integration — Airflow Documentation       en  https://airflow.apache.org   \n",
       "2  Integration — Airflow Documentation       en  https://airflow.apache.org   \n",
       "3  Integration — Airflow Documentation       en  https://airflow.apache.org   \n",
       "4                     Airflow REST API  Unknown  https://airflow.apache.org   \n",
       "\n",
       "  section                      page  \n",
       "0  stable          integration.html  \n",
       "1  stable          integration.html  \n",
       "2  stable          integration.html  \n",
       "3  stable          integration.html  \n",
       "4  stable  stable-rest-api-ref.html  "
      ]
     },
     "execution_count": 9,
     "metadata": {},
     "output_type": "execute_result"
    }
   ],
   "source": [
    "documents_df.head()"
   ]
  },
  {
   "cell_type": "code",
   "execution_count": 10,
   "id": "c6ee6180-cf0d-4afd-8138-c2d88d22ad0b",
   "metadata": {
    "tags": []
   },
   "outputs": [
    {
     "data": {
      "text/plain": [
       "page_content    0\n",
       "source          0\n",
       "title           0\n",
       "language        0\n",
       "root_url        0\n",
       "section         0\n",
       "page            0\n",
       "dtype: int64"
      ]
     },
     "execution_count": 10,
     "metadata": {},
     "output_type": "execute_result"
    }
   ],
   "source": [
    "documents_df.isnull().sum()"
   ]
  },
  {
   "cell_type": "code",
   "execution_count": 11,
   "id": "c7999a66-e2d9-431d-9ec1-86905749ca34",
   "metadata": {
    "tags": []
   },
   "outputs": [],
   "source": [
    "documents_df.to_parquet('./parquets/documents_with_rec-char-split.parquet')"
   ]
  },
  {
   "cell_type": "markdown",
   "id": "0422fd15-43d5-4dd6-b792-3a1d67fa65f4",
   "metadata": {},
   "source": [
    "## Storage"
   ]
  },
  {
   "cell_type": "code",
   "execution_count": 17,
   "id": "a8162035-d238-4557-b066-58a649599eb9",
   "metadata": {
    "tags": []
   },
   "outputs": [],
   "source": [
    "import chromadb\n",
    "from chromadb.config import Settings\n",
    "client = chromadb.Client(Settings(\n",
    "    chroma_db_impl=\"duckdb+parquet\",\n",
    "    persist_directory=\"./db/\"\n",
    "))"
   ]
  },
  {
   "cell_type": "code",
   "execution_count": 24,
   "id": "28c89d14-9df5-4e59-a330-84772ce51eb9",
   "metadata": {},
   "outputs": [],
   "source": [
    "client.delete_collection(name=collection_name)"
   ]
  },
  {
   "cell_type": "code",
   "execution_count": 25,
   "id": "c878a393-b82c-4c69-a91f-16d25df820b9",
   "metadata": {
    "tags": []
   },
   "outputs": [
    {
     "ename": "ValueError",
     "evalue": "The sentence_transformers python package is not installed. Please install it with `pip install sentence_transformers`",
     "output_type": "error",
     "traceback": [
      "\u001b[0;31m---------------------------------------------------------------------------\u001b[0m",
      "\u001b[0;31mModuleNotFoundError\u001b[0m                       Traceback (most recent call last)",
      "File \u001b[0;32m~/.local/lib/python3.11/site-packages/chromadb/utils/embedding_functions.py:32\u001b[0m, in \u001b[0;36mSentenceTransformerEmbeddingFunction.__init__\u001b[0;34m(self, model_name, device, normalize_embeddings)\u001b[0m\n\u001b[1;32m     31\u001b[0m \u001b[38;5;28;01mtry\u001b[39;00m:\n\u001b[0;32m---> 32\u001b[0m     \u001b[38;5;28;01mfrom\u001b[39;00m \u001b[38;5;21;01msentence_transformers\u001b[39;00m \u001b[38;5;28;01mimport\u001b[39;00m SentenceTransformer\n\u001b[1;32m     33\u001b[0m \u001b[38;5;28;01mexcept\u001b[39;00m \u001b[38;5;167;01mImportError\u001b[39;00m:\n",
      "\u001b[0;31mModuleNotFoundError\u001b[0m: No module named 'sentence_transformers'",
      "\nDuring handling of the above exception, another exception occurred:\n",
      "\u001b[0;31mValueError\u001b[0m                                Traceback (most recent call last)",
      "Cell \u001b[0;32mIn[25], line 3\u001b[0m\n\u001b[1;32m      1\u001b[0m \u001b[38;5;28;01mfrom\u001b[39;00m \u001b[38;5;21;01mchromadb\u001b[39;00m\u001b[38;5;21;01m.\u001b[39;00m\u001b[38;5;21;01mutils\u001b[39;00m \u001b[38;5;28;01mimport\u001b[39;00m embedding_functions\n\u001b[0;32m----> 3\u001b[0m sentence_transformer_ef \u001b[38;5;241m=\u001b[39m \u001b[43membedding_functions\u001b[49m\u001b[38;5;241;43m.\u001b[39;49m\u001b[43mSentenceTransformerEmbeddingFunction\u001b[49m\u001b[43m(\u001b[49m\u001b[43mmodel_name\u001b[49m\u001b[38;5;241;43m=\u001b[39;49m\u001b[38;5;124;43m\"\u001b[39;49m\u001b[38;5;124;43mall-mpnet-base-v2\u001b[39;49m\u001b[38;5;124;43m\"\u001b[39;49m\u001b[43m)\u001b[49m\n\u001b[1;32m      4\u001b[0m collection_name \u001b[38;5;241m=\u001b[39m \u001b[38;5;124m\"\u001b[39m\u001b[38;5;124mairflow_docs_stable\u001b[39m\u001b[38;5;124m\"\u001b[39m\n\u001b[1;32m      6\u001b[0m \u001b[38;5;28;01mif\u001b[39;00m \u001b[38;5;28mlen\u001b[39m(client\u001b[38;5;241m.\u001b[39mlist_collections()) \u001b[38;5;241m>\u001b[39m \u001b[38;5;241m0\u001b[39m \u001b[38;5;129;01mand\u001b[39;00m collection_name \u001b[38;5;129;01min\u001b[39;00m [\n\u001b[1;32m      7\u001b[0m     client\u001b[38;5;241m.\u001b[39mlist_collections()[\u001b[38;5;241m0\u001b[39m]\u001b[38;5;241m.\u001b[39mname\n\u001b[1;32m      8\u001b[0m ]:\n",
      "File \u001b[0;32m~/.local/lib/python3.11/site-packages/chromadb/utils/embedding_functions.py:34\u001b[0m, in \u001b[0;36mSentenceTransformerEmbeddingFunction.__init__\u001b[0;34m(self, model_name, device, normalize_embeddings)\u001b[0m\n\u001b[1;32m     32\u001b[0m         \u001b[38;5;28;01mfrom\u001b[39;00m \u001b[38;5;21;01msentence_transformers\u001b[39;00m \u001b[38;5;28;01mimport\u001b[39;00m SentenceTransformer\n\u001b[1;32m     33\u001b[0m     \u001b[38;5;28;01mexcept\u001b[39;00m \u001b[38;5;167;01mImportError\u001b[39;00m:\n\u001b[0;32m---> 34\u001b[0m         \u001b[38;5;28;01mraise\u001b[39;00m \u001b[38;5;167;01mValueError\u001b[39;00m(\n\u001b[1;32m     35\u001b[0m             \u001b[38;5;124m\"\u001b[39m\u001b[38;5;124mThe sentence_transformers python package is not installed. Please install it with `pip install sentence_transformers`\u001b[39m\u001b[38;5;124m\"\u001b[39m\n\u001b[1;32m     36\u001b[0m         )\n\u001b[1;32m     37\u001b[0m     \u001b[38;5;28mself\u001b[39m\u001b[38;5;241m.\u001b[39mmodels[model_name] \u001b[38;5;241m=\u001b[39m SentenceTransformer(model_name, device\u001b[38;5;241m=\u001b[39mdevice)\n\u001b[1;32m     38\u001b[0m \u001b[38;5;28mself\u001b[39m\u001b[38;5;241m.\u001b[39m_model \u001b[38;5;241m=\u001b[39m \u001b[38;5;28mself\u001b[39m\u001b[38;5;241m.\u001b[39mmodels[model_name]\n",
      "\u001b[0;31mValueError\u001b[0m: The sentence_transformers python package is not installed. Please install it with `pip install sentence_transformers`"
     ]
    }
   ],
   "source": [
    "from chromadb.utils import embedding_functions\n",
    "\n",
    "sentence_transformer_ef = embedding_functions.SentenceTransformerEmbeddingFunction(model_name=\"all-mpnet-base-v2\")\n",
    "collection_name = \"airflow_docs_stable\"\n",
    "\n",
    "if len(client.list_collections()) > 0 and collection_name in [\n",
    "    client.list_collections()[0].name\n",
    "]:\n",
    "    client.delete_collection(name=collection_name)\n",
    "print(f\"Creating collection: '{collection_name}'\")\n",
    "collection = client.create_collection(name=collection_name, embedding_function=sentence_transformer_ef)"
   ]
  },
  {
   "cell_type": "code",
   "execution_count": 23,
   "id": "67c648e1-3a32-461d-8a33-118667f1c8cd",
   "metadata": {
    "tags": []
   },
   "outputs": [
    {
     "ename": "Exception",
     "evalue": "No such file or directory (os error 2)",
     "output_type": "error",
     "traceback": [
      "\u001b[0;31m---------------------------------------------------------------------------\u001b[0m",
      "\u001b[0;31mException\u001b[0m                                 Traceback (most recent call last)",
      "Cell \u001b[0;32mIn[23], line 8\u001b[0m\n\u001b[1;32m      2\u001b[0m \u001b[38;5;28;01mif\u001b[39;00m pd\u001b[38;5;241m.\u001b[39mnotnull(row[\u001b[38;5;124m'\u001b[39m\u001b[38;5;124msource\u001b[39m\u001b[38;5;124m'\u001b[39m]) \u001b[38;5;129;01mand\u001b[39;00m pd\u001b[38;5;241m.\u001b[39mnotnull(row[\u001b[38;5;124m'\u001b[39m\u001b[38;5;124msection\u001b[39m\u001b[38;5;124m'\u001b[39m]) \u001b[38;5;129;01mand\u001b[39;00m pd\u001b[38;5;241m.\u001b[39mnotnull(row[\u001b[38;5;124m'\u001b[39m\u001b[38;5;124mpage\u001b[39m\u001b[38;5;124m'\u001b[39m]):\n\u001b[1;32m      3\u001b[0m     metadata \u001b[38;5;241m=\u001b[39m {\n\u001b[1;32m      4\u001b[0m         \u001b[38;5;124m'\u001b[39m\u001b[38;5;124msource\u001b[39m\u001b[38;5;124m'\u001b[39m: row[\u001b[38;5;124m'\u001b[39m\u001b[38;5;124msource\u001b[39m\u001b[38;5;124m'\u001b[39m],\n\u001b[1;32m      5\u001b[0m         \u001b[38;5;124m'\u001b[39m\u001b[38;5;124msection\u001b[39m\u001b[38;5;124m'\u001b[39m: row[\u001b[38;5;124m'\u001b[39m\u001b[38;5;124msection\u001b[39m\u001b[38;5;124m'\u001b[39m],\n\u001b[1;32m      6\u001b[0m         \u001b[38;5;124m'\u001b[39m\u001b[38;5;124mpage\u001b[39m\u001b[38;5;124m'\u001b[39m: row[\u001b[38;5;124m'\u001b[39m\u001b[38;5;124mpage\u001b[39m\u001b[38;5;124m'\u001b[39m]\n\u001b[1;32m      7\u001b[0m     }\n\u001b[0;32m----> 8\u001b[0m \u001b[43mcollection\u001b[49m\u001b[38;5;241;43m.\u001b[39;49m\u001b[43madd\u001b[49m\u001b[43m(\u001b[49m\n\u001b[1;32m      9\u001b[0m \u001b[43m    \u001b[49m\u001b[43mdocuments\u001b[49m\u001b[38;5;241;43m=\u001b[39;49m\u001b[43m[\u001b[49m\u001b[43mrow\u001b[49m\u001b[43m[\u001b[49m\u001b[38;5;124;43m'\u001b[39;49m\u001b[38;5;124;43mpage_content\u001b[39;49m\u001b[38;5;124;43m'\u001b[39;49m\u001b[43m]\u001b[49m\u001b[43m]\u001b[49m\u001b[43m,\u001b[49m\n\u001b[1;32m     10\u001b[0m \u001b[43m    \u001b[49m\u001b[43mmetadatas\u001b[49m\u001b[38;5;241;43m=\u001b[39;49m\u001b[43m[\u001b[49m\u001b[43mmetadata\u001b[49m\u001b[43m]\u001b[49m\u001b[43m,\u001b[49m\n\u001b[1;32m     11\u001b[0m \u001b[43m    \u001b[49m\u001b[43mids\u001b[49m\u001b[38;5;241;43m=\u001b[39;49m\u001b[43m[\u001b[49m\u001b[38;5;28;43mstr\u001b[39;49m\u001b[43m(\u001b[49m\u001b[43mindex\u001b[49m\u001b[43m)\u001b[49m\u001b[43m]\u001b[49m\u001b[43m,\u001b[49m\n\u001b[1;32m     12\u001b[0m \u001b[43m\u001b[49m\u001b[43m)\u001b[49m\n",
      "File \u001b[0;32m~/.local/lib/python3.11/site-packages/chromadb/api/models/Collection.py:96\u001b[0m, in \u001b[0;36mCollection.add\u001b[0;34m(self, ids, embeddings, metadatas, documents, increment_index)\u001b[0m\n\u001b[1;32m     69\u001b[0m \u001b[38;5;28;01mdef\u001b[39;00m \u001b[38;5;21madd\u001b[39m(\n\u001b[1;32m     70\u001b[0m     \u001b[38;5;28mself\u001b[39m,\n\u001b[1;32m     71\u001b[0m     ids: OneOrMany[ID],\n\u001b[0;32m   (...)\u001b[0m\n\u001b[1;32m     75\u001b[0m     increment_index: \u001b[38;5;28mbool\u001b[39m \u001b[38;5;241m=\u001b[39m \u001b[38;5;28;01mTrue\u001b[39;00m,\n\u001b[1;32m     76\u001b[0m ) \u001b[38;5;241m-\u001b[39m\u001b[38;5;241m>\u001b[39m \u001b[38;5;28;01mNone\u001b[39;00m:\n\u001b[1;32m     77\u001b[0m \u001b[38;5;250m    \u001b[39m\u001b[38;5;124;03m\"\"\"Add embeddings to the data store.\u001b[39;00m\n\u001b[1;32m     78\u001b[0m \u001b[38;5;124;03m    Args:\u001b[39;00m\n\u001b[1;32m     79\u001b[0m \u001b[38;5;124;03m        ids: The ids of the embeddings you wish to add\u001b[39;00m\n\u001b[0;32m   (...)\u001b[0m\n\u001b[1;32m     93\u001b[0m \n\u001b[1;32m     94\u001b[0m \u001b[38;5;124;03m    \"\"\"\u001b[39;00m\n\u001b[0;32m---> 96\u001b[0m     ids, embeddings, metadatas, documents \u001b[38;5;241m=\u001b[39m \u001b[38;5;28;43mself\u001b[39;49m\u001b[38;5;241;43m.\u001b[39;49m\u001b[43m_validate_embedding_set\u001b[49m\u001b[43m(\u001b[49m\n\u001b[1;32m     97\u001b[0m \u001b[43m        \u001b[49m\u001b[43mids\u001b[49m\u001b[43m,\u001b[49m\u001b[43m \u001b[49m\u001b[43membeddings\u001b[49m\u001b[43m,\u001b[49m\u001b[43m \u001b[49m\u001b[43mmetadatas\u001b[49m\u001b[43m,\u001b[49m\u001b[43m \u001b[49m\u001b[43mdocuments\u001b[49m\n\u001b[1;32m     98\u001b[0m \u001b[43m    \u001b[49m\u001b[43m)\u001b[49m\n\u001b[1;32m    100\u001b[0m     \u001b[38;5;28mself\u001b[39m\u001b[38;5;241m.\u001b[39m_client\u001b[38;5;241m.\u001b[39m_add(\n\u001b[1;32m    101\u001b[0m         ids, \u001b[38;5;28mself\u001b[39m\u001b[38;5;241m.\u001b[39mid, embeddings, metadatas, documents, increment_index\n\u001b[1;32m    102\u001b[0m     )\n",
      "File \u001b[0;32m~/.local/lib/python3.11/site-packages/chromadb/api/models/Collection.py:390\u001b[0m, in \u001b[0;36mCollection._validate_embedding_set\u001b[0;34m(self, ids, embeddings, metadatas, documents, require_embeddings_or_documents)\u001b[0m\n\u001b[1;32m    386\u001b[0m     \u001b[38;5;28;01mif\u001b[39;00m \u001b[38;5;28mself\u001b[39m\u001b[38;5;241m.\u001b[39m_embedding_function \u001b[38;5;129;01mis\u001b[39;00m \u001b[38;5;28;01mNone\u001b[39;00m:\n\u001b[1;32m    387\u001b[0m         \u001b[38;5;28;01mraise\u001b[39;00m \u001b[38;5;167;01mValueError\u001b[39;00m(\n\u001b[1;32m    388\u001b[0m             \u001b[38;5;124m\"\u001b[39m\u001b[38;5;124mYou must provide embeddings or a function to compute them\u001b[39m\u001b[38;5;124m\"\u001b[39m\n\u001b[1;32m    389\u001b[0m         )\n\u001b[0;32m--> 390\u001b[0m     embeddings \u001b[38;5;241m=\u001b[39m \u001b[38;5;28;43mself\u001b[39;49m\u001b[38;5;241;43m.\u001b[39;49m\u001b[43m_embedding_function\u001b[49m\u001b[43m(\u001b[49m\u001b[43mdocuments\u001b[49m\u001b[43m)\u001b[49m\n\u001b[1;32m    392\u001b[0m \u001b[38;5;66;03m# if embeddings is None:\u001b[39;00m\n\u001b[1;32m    393\u001b[0m \u001b[38;5;66;03m#     raise ValueError(\u001b[39;00m\n\u001b[1;32m    394\u001b[0m \u001b[38;5;66;03m#         \"Something went wrong. Embeddings should be computed at this point\"\u001b[39;00m\n\u001b[1;32m    395\u001b[0m \u001b[38;5;66;03m#     )\u001b[39;00m\n\u001b[1;32m    397\u001b[0m \u001b[38;5;28;01mreturn\u001b[39;00m ids, embeddings, metadatas, documents\n",
      "File \u001b[0;32m~/.local/lib/python3.11/site-packages/chromadb/utils/embedding_functions.py:310\u001b[0m, in \u001b[0;36mONNXMiniLM_L6_V2.__call__\u001b[0;34m(self, texts)\u001b[0m\n\u001b[1;32m    307\u001b[0m \u001b[38;5;28;01mdef\u001b[39;00m \u001b[38;5;21m__call__\u001b[39m(\u001b[38;5;28mself\u001b[39m, texts: Documents) \u001b[38;5;241m-\u001b[39m\u001b[38;5;241m>\u001b[39m Embeddings:\n\u001b[1;32m    308\u001b[0m     \u001b[38;5;66;03m# Only download the model when it is actually used\u001b[39;00m\n\u001b[1;32m    309\u001b[0m     \u001b[38;5;28mself\u001b[39m\u001b[38;5;241m.\u001b[39m_download_model_if_not_exists()\n\u001b[0;32m--> 310\u001b[0m     \u001b[38;5;28;43mself\u001b[39;49m\u001b[38;5;241;43m.\u001b[39;49m\u001b[43m_init_model_and_tokenizer\u001b[49m\u001b[43m(\u001b[49m\u001b[43m)\u001b[49m\n\u001b[1;32m    311\u001b[0m     res \u001b[38;5;241m=\u001b[39m cast(Embeddings, \u001b[38;5;28mself\u001b[39m\u001b[38;5;241m.\u001b[39m_forward(texts)\u001b[38;5;241m.\u001b[39mtolist())\n\u001b[1;32m    312\u001b[0m     \u001b[38;5;28;01mreturn\u001b[39;00m res\n",
      "File \u001b[0;32m~/.local/lib/python3.11/site-packages/chromadb/utils/embedding_functions.py:296\u001b[0m, in \u001b[0;36mONNXMiniLM_L6_V2._init_model_and_tokenizer\u001b[0;34m(self)\u001b[0m\n\u001b[1;32m    294\u001b[0m \u001b[38;5;28;01mdef\u001b[39;00m \u001b[38;5;21m_init_model_and_tokenizer\u001b[39m(\u001b[38;5;28mself\u001b[39m) \u001b[38;5;241m-\u001b[39m\u001b[38;5;241m>\u001b[39m \u001b[38;5;28;01mNone\u001b[39;00m:\n\u001b[1;32m    295\u001b[0m     \u001b[38;5;28;01mif\u001b[39;00m \u001b[38;5;28mself\u001b[39m\u001b[38;5;241m.\u001b[39mmodel \u001b[38;5;129;01mis\u001b[39;00m \u001b[38;5;28;01mNone\u001b[39;00m \u001b[38;5;129;01mand\u001b[39;00m \u001b[38;5;28mself\u001b[39m\u001b[38;5;241m.\u001b[39mtokenizer \u001b[38;5;129;01mis\u001b[39;00m \u001b[38;5;28;01mNone\u001b[39;00m:\n\u001b[0;32m--> 296\u001b[0m         \u001b[38;5;28mself\u001b[39m\u001b[38;5;241m.\u001b[39mtokenizer \u001b[38;5;241m=\u001b[39m \u001b[38;5;28;43mself\u001b[39;49m\u001b[38;5;241;43m.\u001b[39;49m\u001b[43mTokenizer\u001b[49m\u001b[38;5;241;43m.\u001b[39;49m\u001b[43mfrom_file\u001b[49m\u001b[43m(\u001b[49m\n\u001b[1;32m    297\u001b[0m \u001b[43m            \u001b[49m\u001b[38;5;28;43mstr\u001b[39;49m\u001b[43m(\u001b[49m\u001b[38;5;28;43mself\u001b[39;49m\u001b[38;5;241;43m.\u001b[39;49m\u001b[43mDOWNLOAD_PATH\u001b[49m\u001b[43m \u001b[49m\u001b[38;5;241;43m/\u001b[39;49m\u001b[43m \u001b[49m\u001b[38;5;28;43mself\u001b[39;49m\u001b[38;5;241;43m.\u001b[39;49m\u001b[43mEXTRACTED_FOLDER_NAME\u001b[49m\u001b[43m \u001b[49m\u001b[38;5;241;43m/\u001b[39;49m\u001b[43m \u001b[49m\u001b[38;5;124;43m\"\u001b[39;49m\u001b[38;5;124;43mtokenizer.json\u001b[39;49m\u001b[38;5;124;43m\"\u001b[39;49m\u001b[43m)\u001b[49m\n\u001b[1;32m    298\u001b[0m \u001b[43m        \u001b[49m\u001b[43m)\u001b[49m\n\u001b[1;32m    299\u001b[0m         \u001b[38;5;66;03m# max_seq_length = 256, for some reason sentence-transformers uses 256 even though the HF config has a max length of 128\u001b[39;00m\n\u001b[1;32m    300\u001b[0m         \u001b[38;5;66;03m# https://github.com/UKPLab/sentence-transformers/blob/3e1929fddef16df94f8bc6e3b10598a98f46e62d/docs/_static/html/models_en_sentence_embeddings.html#LL480\u001b[39;00m\n\u001b[1;32m    301\u001b[0m         \u001b[38;5;28mself\u001b[39m\u001b[38;5;241m.\u001b[39mtokenizer\u001b[38;5;241m.\u001b[39menable_truncation(max_length\u001b[38;5;241m=\u001b[39m\u001b[38;5;241m256\u001b[39m)\n",
      "\u001b[0;31mException\u001b[0m: No such file or directory (os error 2)"
     ]
    }
   ],
   "source": [
    "for index, row in documents_df.iterrows():\n",
    "    if pd.notnull(row['source']) and pd.notnull(row['section']) and pd.notnull(row['page']):\n",
    "        metadata = {\n",
    "            'source': row['source'],\n",
    "            'section': row['section'],\n",
    "            'page': row['page']\n",
    "        }\n",
    "    collection.add(\n",
    "        documents=[row['page_content']],\n",
    "        metadatas=[metadata],\n",
    "        ids=[str(index)],\n",
    "    )"
   ]
  },
  {
   "cell_type": "code",
   "execution_count": null,
   "id": "287c88d9-1198-4e88-961c-e1b47c965839",
   "metadata": {
    "tags": []
   },
   "outputs": [],
   "source": [
    "client.persist()"
   ]
  },
  {
   "cell_type": "markdown",
   "id": "0ba79850-be47-4cba-8395-08f728755a5a",
   "metadata": {},
   "source": [
    "## Testing"
   ]
  },
  {
   "cell_type": "code",
   "execution_count": null,
   "id": "0bf6c074-550c-421a-b493-038d359041c1",
   "metadata": {},
   "outputs": [],
   "source": [
    "question = \"How to create a DAG?\"\n",
    "results = collection.query(\n",
    "    query_texts=[question],\n",
    "    n_results=3,\n",
    ")\n",
    "formatted_result = \"\\n\\n\".join(results[\"documents\"][0])\n",
    "print(formatted_result)"
   ]
  }
 ],
 "metadata": {
  "kernelspec": {
   "display_name": "Python 3 (ipykernel)",
   "language": "python",
   "name": "python3"
  },
  "language_info": {
   "codemirror_mode": {
    "name": "ipython",
    "version": 3
   },
   "file_extension": ".py",
   "mimetype": "text/x-python",
   "name": "python",
   "nbconvert_exporter": "python",
   "pygments_lexer": "ipython3",
   "version": "3.11.4"
  }
 },
 "nbformat": 4,
 "nbformat_minor": 5
}
