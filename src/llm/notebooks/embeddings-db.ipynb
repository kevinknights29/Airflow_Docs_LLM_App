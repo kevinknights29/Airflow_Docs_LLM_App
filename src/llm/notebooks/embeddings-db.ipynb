{
 "cells": [
  {
   "cell_type": "markdown",
   "id": "4f97178c-58d0-443f-b043-f4230c2a524b",
   "metadata": {},
   "source": [
    "# Vector Database Initialization"
   ]
  },
  {
   "cell_type": "markdown",
   "id": "ec2ad1ff-fed6-4a60-92e2-40a83c43b5b5",
   "metadata": {},
   "source": [
    "## Dependencies"
   ]
  },
  {
   "cell_type": "code",
   "execution_count": 11,
   "id": "c286ad94-6e17-4c33-a111-a14e49b24227",
   "metadata": {
    "execution": {
     "iopub.execute_input": "2023-07-19T03:29:33.485059Z",
     "iopub.status.busy": "2023-07-19T03:29:33.483068Z",
     "iopub.status.idle": "2023-07-19T03:29:36.252088Z",
     "shell.execute_reply": "2023-07-19T03:29:36.251185Z",
     "shell.execute_reply.started": "2023-07-19T03:29:33.484896Z"
    },
    "tags": []
   },
   "outputs": [
    {
     "name": "stdout",
     "output_type": "stream",
     "text": [
      "Requirement already satisfied: beautifulsoup4 in /opt/conda/lib/python3.11/site-packages (4.12.2)\n",
      "Requirement already satisfied: requests in /opt/conda/lib/python3.11/site-packages (2.31.0)\n",
      "Requirement already satisfied: pandas in /opt/conda/lib/python3.11/site-packages (2.0.3)\n",
      "Requirement already satisfied: langchain in /home/jovyan/.local/lib/python3.11/site-packages (0.0.235)\n",
      "Requirement already satisfied: tiktoken in /home/jovyan/.local/lib/python3.11/site-packages (0.4.0)\n",
      "Requirement already satisfied: pyarrow in /opt/conda/lib/python3.11/site-packages (12.0.1)\n",
      "Requirement already satisfied: fastparquet in /home/jovyan/.local/lib/python3.11/site-packages (2023.7.0)\n",
      "Requirement already satisfied: chromadb in /home/jovyan/.local/lib/python3.11/site-packages (0.4.1)\n",
      "Requirement already satisfied: sentence_transformers in /home/jovyan/.local/lib/python3.11/site-packages (2.2.2)\n",
      "Requirement already satisfied: soupsieve>1.2 in /opt/conda/lib/python3.11/site-packages (from beautifulsoup4) (2.3.2.post1)\n",
      "Requirement already satisfied: charset-normalizer<4,>=2 in /opt/conda/lib/python3.11/site-packages (from requests) (3.2.0)\n",
      "Requirement already satisfied: idna<4,>=2.5 in /opt/conda/lib/python3.11/site-packages (from requests) (3.4)\n",
      "Requirement already satisfied: urllib3<3,>=1.21.1 in /opt/conda/lib/python3.11/site-packages (from requests) (2.0.3)\n",
      "Requirement already satisfied: certifi>=2017.4.17 in /opt/conda/lib/python3.11/site-packages (from requests) (2023.5.7)\n",
      "Requirement already satisfied: python-dateutil>=2.8.2 in /opt/conda/lib/python3.11/site-packages (from pandas) (2.8.2)\n",
      "Requirement already satisfied: pytz>=2020.1 in /opt/conda/lib/python3.11/site-packages (from pandas) (2023.3)\n",
      "Requirement already satisfied: tzdata>=2022.1 in /opt/conda/lib/python3.11/site-packages (from pandas) (2023.3)\n",
      "Requirement already satisfied: numpy>=1.21.0 in /opt/conda/lib/python3.11/site-packages (from pandas) (1.24.4)\n",
      "Requirement already satisfied: PyYAML>=5.4.1 in /opt/conda/lib/python3.11/site-packages (from langchain) (6.0)\n",
      "Requirement already satisfied: SQLAlchemy<3,>=1.4 in /opt/conda/lib/python3.11/site-packages (from langchain) (2.0.19)\n",
      "Requirement already satisfied: aiohttp<4.0.0,>=3.8.3 in /home/jovyan/.local/lib/python3.11/site-packages (from langchain) (3.8.4)\n",
      "Requirement already satisfied: dataclasses-json<0.6.0,>=0.5.7 in /home/jovyan/.local/lib/python3.11/site-packages (from langchain) (0.5.12)\n",
      "Requirement already satisfied: langsmith<0.0.8,>=0.0.7 in /home/jovyan/.local/lib/python3.11/site-packages (from langchain) (0.0.7)\n",
      "Requirement already satisfied: numexpr<3.0.0,>=2.8.4 in /opt/conda/lib/python3.11/site-packages (from langchain) (2.8.4)\n",
      "Requirement already satisfied: openapi-schema-pydantic<2.0,>=1.2 in /home/jovyan/.local/lib/python3.11/site-packages (from langchain) (1.2.4)\n",
      "Requirement already satisfied: pydantic<2,>=1 in /home/jovyan/.local/lib/python3.11/site-packages (from langchain) (1.10.11)\n",
      "Requirement already satisfied: tenacity<9.0.0,>=8.1.0 in /home/jovyan/.local/lib/python3.11/site-packages (from langchain) (8.2.2)\n",
      "Requirement already satisfied: regex>=2022.1.18 in /home/jovyan/.local/lib/python3.11/site-packages (from tiktoken) (2023.6.3)\n",
      "Requirement already satisfied: cramjam>=2.3 in /home/jovyan/.local/lib/python3.11/site-packages (from fastparquet) (2.6.2)\n",
      "Requirement already satisfied: fsspec in /opt/conda/lib/python3.11/site-packages (from fastparquet) (2023.6.0)\n",
      "Requirement already satisfied: packaging in /opt/conda/lib/python3.11/site-packages (from fastparquet) (23.1)\n",
      "Requirement already satisfied: chroma-hnswlib==0.7.1 in /home/jovyan/.local/lib/python3.11/site-packages (from chromadb) (0.7.1)\n",
      "Requirement already satisfied: fastapi<0.100.0,>=0.95.2 in /home/jovyan/.local/lib/python3.11/site-packages (from chromadb) (0.99.1)\n",
      "Requirement already satisfied: uvicorn[standard]>=0.18.3 in /home/jovyan/.local/lib/python3.11/site-packages (from chromadb) (0.23.1)\n",
      "Requirement already satisfied: posthog>=2.4.0 in /home/jovyan/.local/lib/python3.11/site-packages (from chromadb) (3.0.1)\n",
      "Requirement already satisfied: typing-extensions>=4.5.0 in /opt/conda/lib/python3.11/site-packages (from chromadb) (4.7.1)\n",
      "Requirement already satisfied: pulsar-client>=3.1.0 in /home/jovyan/.local/lib/python3.11/site-packages (from chromadb) (3.2.0)\n",
      "Requirement already satisfied: onnxruntime>=1.14.1 in /home/jovyan/.local/lib/python3.11/site-packages (from chromadb) (1.15.1)\n",
      "Requirement already satisfied: tokenizers>=0.13.2 in /home/jovyan/.local/lib/python3.11/site-packages (from chromadb) (0.13.3)\n",
      "Requirement already satisfied: pypika>=0.48.9 in /home/jovyan/.local/lib/python3.11/site-packages (from chromadb) (0.48.9)\n",
      "Requirement already satisfied: tqdm>=4.65.0 in /opt/conda/lib/python3.11/site-packages (from chromadb) (4.65.0)\n",
      "Requirement already satisfied: overrides>=7.3.1 in /opt/conda/lib/python3.11/site-packages (from chromadb) (7.3.1)\n",
      "Requirement already satisfied: importlib-resources in /opt/conda/lib/python3.11/site-packages (from chromadb) (6.0.0)\n",
      "Requirement already satisfied: transformers<5.0.0,>=4.6.0 in /home/jovyan/.local/lib/python3.11/site-packages (from sentence_transformers) (4.31.0)\n",
      "Requirement already satisfied: torch>=1.6.0 in /home/jovyan/.local/lib/python3.11/site-packages (from sentence_transformers) (2.0.1)\n",
      "Requirement already satisfied: torchvision in /home/jovyan/.local/lib/python3.11/site-packages (from sentence_transformers) (0.15.2)\n",
      "Requirement already satisfied: scikit-learn in /opt/conda/lib/python3.11/site-packages (from sentence_transformers) (1.3.0)\n",
      "Requirement already satisfied: scipy in /opt/conda/lib/python3.11/site-packages (from sentence_transformers) (1.11.1)\n",
      "Requirement already satisfied: nltk in /home/jovyan/.local/lib/python3.11/site-packages (from sentence_transformers) (3.8.1)\n",
      "Requirement already satisfied: sentencepiece in /home/jovyan/.local/lib/python3.11/site-packages (from sentence_transformers) (0.1.99)\n",
      "Requirement already satisfied: huggingface-hub>=0.4.0 in /home/jovyan/.local/lib/python3.11/site-packages (from sentence_transformers) (0.16.4)\n",
      "Requirement already satisfied: attrs>=17.3.0 in /opt/conda/lib/python3.11/site-packages (from aiohttp<4.0.0,>=3.8.3->langchain) (23.1.0)\n",
      "Requirement already satisfied: multidict<7.0,>=4.5 in /home/jovyan/.local/lib/python3.11/site-packages (from aiohttp<4.0.0,>=3.8.3->langchain) (6.0.4)\n",
      "Requirement already satisfied: async-timeout<5.0,>=4.0.0a3 in /home/jovyan/.local/lib/python3.11/site-packages (from aiohttp<4.0.0,>=3.8.3->langchain) (4.0.2)\n",
      "Requirement already satisfied: yarl<2.0,>=1.0 in /home/jovyan/.local/lib/python3.11/site-packages (from aiohttp<4.0.0,>=3.8.3->langchain) (1.9.2)\n",
      "Requirement already satisfied: frozenlist>=1.1.1 in /home/jovyan/.local/lib/python3.11/site-packages (from aiohttp<4.0.0,>=3.8.3->langchain) (1.4.0)\n",
      "Requirement already satisfied: aiosignal>=1.1.2 in /home/jovyan/.local/lib/python3.11/site-packages (from aiohttp<4.0.0,>=3.8.3->langchain) (1.3.1)\n",
      "Requirement already satisfied: marshmallow<4.0.0,>=3.18.0 in /home/jovyan/.local/lib/python3.11/site-packages (from dataclasses-json<0.6.0,>=0.5.7->langchain) (3.19.0)\n",
      "Requirement already satisfied: typing-inspect<1,>=0.4.0 in /home/jovyan/.local/lib/python3.11/site-packages (from dataclasses-json<0.6.0,>=0.5.7->langchain) (0.9.0)\n",
      "Requirement already satisfied: starlette<0.28.0,>=0.27.0 in /home/jovyan/.local/lib/python3.11/site-packages (from fastapi<0.100.0,>=0.95.2->chromadb) (0.27.0)\n",
      "Requirement already satisfied: filelock in /home/jovyan/.local/lib/python3.11/site-packages (from huggingface-hub>=0.4.0->sentence_transformers) (3.12.2)\n",
      "Requirement already satisfied: coloredlogs in /home/jovyan/.local/lib/python3.11/site-packages (from onnxruntime>=1.14.1->chromadb) (15.0.1)\n",
      "Requirement already satisfied: flatbuffers in /home/jovyan/.local/lib/python3.11/site-packages (from onnxruntime>=1.14.1->chromadb) (23.5.26)\n",
      "Requirement already satisfied: protobuf in /opt/conda/lib/python3.11/site-packages (from onnxruntime>=1.14.1->chromadb) (4.23.3)\n",
      "Requirement already satisfied: sympy in /opt/conda/lib/python3.11/site-packages (from onnxruntime>=1.14.1->chromadb) (1.12)\n",
      "Requirement already satisfied: six>=1.5 in /opt/conda/lib/python3.11/site-packages (from posthog>=2.4.0->chromadb) (1.16.0)\n",
      "Requirement already satisfied: monotonic>=1.5 in /home/jovyan/.local/lib/python3.11/site-packages (from posthog>=2.4.0->chromadb) (1.6)\n",
      "Requirement already satisfied: backoff>=1.10.0 in /home/jovyan/.local/lib/python3.11/site-packages (from posthog>=2.4.0->chromadb) (2.2.1)\n",
      "Requirement already satisfied: greenlet!=0.4.17 in /opt/conda/lib/python3.11/site-packages (from SQLAlchemy<3,>=1.4->langchain) (2.0.2)\n",
      "Requirement already satisfied: networkx in /opt/conda/lib/python3.11/site-packages (from torch>=1.6.0->sentence_transformers) (3.1)\n",
      "Requirement already satisfied: jinja2 in /opt/conda/lib/python3.11/site-packages (from torch>=1.6.0->sentence_transformers) (3.1.2)\n",
      "Requirement already satisfied: safetensors>=0.3.1 in /home/jovyan/.local/lib/python3.11/site-packages (from transformers<5.0.0,>=4.6.0->sentence_transformers) (0.3.1)\n",
      "Requirement already satisfied: click>=7.0 in /opt/conda/lib/python3.11/site-packages (from uvicorn[standard]>=0.18.3->chromadb) (8.1.5)\n",
      "Requirement already satisfied: h11>=0.8 in /home/jovyan/.local/lib/python3.11/site-packages (from uvicorn[standard]>=0.18.3->chromadb) (0.14.0)\n",
      "Requirement already satisfied: httptools>=0.5.0 in /home/jovyan/.local/lib/python3.11/site-packages (from uvicorn[standard]>=0.18.3->chromadb) (0.6.0)\n",
      "Requirement already satisfied: python-dotenv>=0.13 in /home/jovyan/.local/lib/python3.11/site-packages (from uvicorn[standard]>=0.18.3->chromadb) (1.0.0)\n",
      "Requirement already satisfied: uvloop!=0.15.0,!=0.15.1,>=0.14.0 in /home/jovyan/.local/lib/python3.11/site-packages (from uvicorn[standard]>=0.18.3->chromadb) (0.17.0)\n",
      "Requirement already satisfied: watchfiles>=0.13 in /home/jovyan/.local/lib/python3.11/site-packages (from uvicorn[standard]>=0.18.3->chromadb) (0.19.0)\n",
      "Requirement already satisfied: websockets>=10.4 in /home/jovyan/.local/lib/python3.11/site-packages (from uvicorn[standard]>=0.18.3->chromadb) (11.0.3)\n",
      "Requirement already satisfied: joblib in /opt/conda/lib/python3.11/site-packages (from nltk->sentence_transformers) (1.3.0)\n",
      "Requirement already satisfied: threadpoolctl>=2.0.0 in /opt/conda/lib/python3.11/site-packages (from scikit-learn->sentence_transformers) (3.2.0)\n",
      "Requirement already satisfied: pillow!=8.3.*,>=5.3.0 in /opt/conda/lib/python3.11/site-packages (from torchvision->sentence_transformers) (10.0.0)\n",
      "Requirement already satisfied: anyio<5,>=3.4.0 in /opt/conda/lib/python3.11/site-packages (from starlette<0.28.0,>=0.27.0->fastapi<0.100.0,>=0.95.2->chromadb) (3.7.1)\n",
      "Requirement already satisfied: mypy-extensions>=0.3.0 in /opt/conda/lib/python3.11/site-packages (from typing-inspect<1,>=0.4.0->dataclasses-json<0.6.0,>=0.5.7->langchain) (1.0.0)\n",
      "Requirement already satisfied: humanfriendly>=9.1 in /home/jovyan/.local/lib/python3.11/site-packages (from coloredlogs->onnxruntime>=1.14.1->chromadb) (10.0)\n",
      "Requirement already satisfied: MarkupSafe>=2.0 in /opt/conda/lib/python3.11/site-packages (from jinja2->torch>=1.6.0->sentence_transformers) (2.1.3)\n",
      "Requirement already satisfied: mpmath>=0.19 in /opt/conda/lib/python3.11/site-packages (from sympy->onnxruntime>=1.14.1->chromadb) (1.3.0)\n",
      "Requirement already satisfied: sniffio>=1.1 in /opt/conda/lib/python3.11/site-packages (from anyio<5,>=3.4.0->starlette<0.28.0,>=0.27.0->fastapi<0.100.0,>=0.95.2->chromadb) (1.3.0)\n",
      "Note: you may need to restart the kernel to use updated packages.\n"
     ]
    }
   ],
   "source": [
    "%pip install beautifulsoup4 requests pandas langchain tiktoken pyarrow fastparquet chromadb sentence_transformers --user"
   ]
  },
  {
   "cell_type": "code",
   "execution_count": 12,
   "id": "8a18e5e1-3edb-4597-a6c4-b5e4cdb179a0",
   "metadata": {
    "execution": {
     "iopub.execute_input": "2023-07-19T03:29:36.253686Z",
     "iopub.status.busy": "2023-07-19T03:29:36.253481Z",
     "iopub.status.idle": "2023-07-19T03:29:38.075231Z",
     "shell.execute_reply": "2023-07-19T03:29:38.074294Z",
     "shell.execute_reply.started": "2023-07-19T03:29:36.253664Z"
    },
    "tags": []
   },
   "outputs": [
    {
     "name": "stdout",
     "output_type": "stream",
     "text": [
      "Requirement already satisfied: pydantic==1.10.11 in /home/jovyan/.local/lib/python3.11/site-packages (1.10.11)\n",
      "Requirement already satisfied: typing-extensions>=4.2.0 in /opt/conda/lib/python3.11/site-packages (from pydantic==1.10.11) (4.7.1)\n",
      "Note: you may need to restart the kernel to use updated packages.\n"
     ]
    }
   ],
   "source": [
    "%pip install pydantic==1.10.11 --user"
   ]
  },
  {
   "cell_type": "markdown",
   "id": "02f8fe43-4564-4af0-806c-5ba884003511",
   "metadata": {},
   "source": [
    "## Setup"
   ]
  },
  {
   "cell_type": "markdown",
   "id": "1d8cc8ea-3595-4324-809b-3aa3ce779618",
   "metadata": {},
   "source": [
    "### Documents URL Scraping"
   ]
  },
  {
   "cell_type": "code",
   "execution_count": 14,
   "id": "f5fd454a-7e5c-4a3f-97ae-fe5c3f04e122",
   "metadata": {
    "execution": {
     "iopub.execute_input": "2023-07-19T03:29:40.212995Z",
     "iopub.status.busy": "2023-07-19T03:29:40.212808Z",
     "iopub.status.idle": "2023-07-19T03:29:41.035776Z",
     "shell.execute_reply": "2023-07-19T03:29:41.035067Z",
     "shell.execute_reply.started": "2023-07-19T03:29:40.212975Z"
    },
    "tags": []
   },
   "outputs": [
    {
     "name": "stdout",
     "output_type": "stream",
     "text": [
      "https://airflow.apache.org/docs/apache-airflow/stable/operators-and-hooks-ref.html\n",
      "https://airflow.apache.org/docs/apache-airflow/stable/integration.html\n",
      "https://airflow.apache.org/docs/apache-airflow/stable/license.html\n",
      "https://airflow.apache.org/docs/apache-airflow/stable/privacy_notice.html\n",
      "https://airflow.apache.org/docs/apache-airflow/stable/stable-rest-api-ref.html\n",
      "https://airflow.apache.org/docs/apache-airflow/stable/howto/index.html\n",
      "https://airflow.apache.org/docs/apache-airflow/stable/project.html\n",
      "https://airflow.apache.org/docs/apache-airflow/stable/deprecated-rest-api-ref.html\n",
      "https://airflow.apache.org/docs/apache-airflow/stable/extra-packages-ref.html\n",
      "https://airflow.apache.org/docs/apache-airflow/stable/start.html\n",
      "https://airflow.apache.org/docs/apache-airflow/stable/ui.html\n",
      "https://airflow.apache.org/docs/apache-airflow/stable/cli-and-env-variables-ref.html\n",
      "https://airflow.apache.org/docs/apache-airflow/stable/faq.html\n",
      "https://airflow.apache.org/docs/apache-airflow/stable/administration-and-deployment/index.html\n",
      "https://airflow.apache.org/docs/apache-airflow/stable/release-process.html\n",
      "https://airflow.apache.org/docs/apache-airflow/stable/tutorial/index.html\n",
      "https://airflow.apache.org/docs/apache-airflow/stable/migrations-ref.html\n",
      "https://airflow.apache.org/docs/apache-airflow/stable/release_notes.html\n",
      "https://airflow.apache.org/docs/apache-airflow/stable/database-erd-ref.html\n",
      "https://airflow.apache.org/docs/apache-airflow/stable/security/index.html\n",
      "https://airflow.apache.org/docs/apache-airflow/stable/best-practices.html\n",
      "https://airflow.apache.org/docs/apache-airflow/stable/\n",
      "https://airflow.apache.org/docs/apache-airflow/stable/core-concepts/index.html\n",
      "https://airflow.apache.org/docs/apache-airflow/stable/installation/index.html\n",
      "https://airflow.apache.org/docs/apache-airflow/stable/public-airflow-interface.html\n",
      "https://airflow.apache.org/docs/apache-airflow/stable/templates-ref.html\n",
      "https://airflow.apache.org/docs/apache-airflow/stable/configurations-ref.html\n",
      "https://airflow.apache.org/docs/apache-airflow/stable/authoring-and-scheduling/index.html\n"
     ]
    }
   ],
   "source": [
    "from pathlib import Path\n",
    "from urllib.parse import urlparse\n",
    "\n",
    "import requests\n",
    "from bs4 import BeautifulSoup\n",
    "\n",
    "root_url = \"https://airflow.apache.org/docs/apache-airflow/stable/\"\n",
    "root_response = requests.get(root_url)\n",
    "root_html = root_response.content.decode(\"utf-8\")\n",
    "soup = BeautifulSoup(root_html, \"html.parser\")\n",
    "\n",
    "root_url_parts = urlparse(root_url)\n",
    "root_links = soup.find_all(\"a\", attrs={\"class\": \"reference internal\"})\n",
    "\n",
    "result = set()\n",
    "for root_link in root_links:\n",
    "    path = root_url_parts.path + root_link.get(\"href\")\n",
    "    path = str(Path(path).resolve())\n",
    "    path = urlparse(path).path\n",
    "    url = f\"{root_url_parts.scheme}://{root_url_parts.netloc}{path}\"\n",
    "    result.add(url)\n",
    "urls = list(result)\n",
    "print(*urls, sep=\"\\n\")"
   ]
  },
  {
   "cell_type": "code",
   "execution_count": 15,
   "id": "0c302bf0-b2a0-44a2-b395-06b7d73b8291",
   "metadata": {
    "execution": {
     "iopub.execute_input": "2023-07-19T03:29:41.036963Z",
     "iopub.status.busy": "2023-07-19T03:29:41.036750Z",
     "iopub.status.idle": "2023-07-19T03:29:57.513958Z",
     "shell.execute_reply": "2023-07-19T03:29:57.513357Z",
     "shell.execute_reply.started": "2023-07-19T03:29:41.036948Z"
    },
    "tags": []
   },
   "outputs": [
    {
     "name": "stdout",
     "output_type": "stream",
     "text": [
      "Total documents:  1488\n"
     ]
    }
   ],
   "source": [
    "from langchain.document_loaders import WebBaseLoader\n",
    "from langchain.text_splitter import (\n",
    "    CharacterTextSplitter,\n",
    "    RecursiveCharacterTextSplitter,\n",
    ")\n",
    "\n",
    "loader = WebBaseLoader(urls)\n",
    "documents = loader.load()\n",
    "\n",
    "# Select one of the following:\n",
    "text_splitter = RecursiveCharacterTextSplitter(chunk_size=1000, chunk_overlap=100)\n",
    "# text_splitter = CharacterTextSplitter.from_tiktoken_encoder(chunk_size=1000, chunk_overlap=100)\n",
    "\n",
    "splitted_documents = text_splitter.split_documents(documents)\n",
    "print(\"Total documents: \", len(splitted_documents))"
   ]
  },
  {
   "cell_type": "code",
   "execution_count": 16,
   "id": "5077025e-c22b-4606-aeed-46ef66cb9e2d",
   "metadata": {
    "execution": {
     "iopub.execute_input": "2023-07-19T03:29:57.514668Z",
     "iopub.status.busy": "2023-07-19T03:29:57.514548Z",
     "iopub.status.idle": "2023-07-19T03:29:57.534385Z",
     "shell.execute_reply": "2023-07-19T03:29:57.532972Z",
     "shell.execute_reply.started": "2023-07-19T03:29:57.514658Z"
    },
    "tags": []
   },
   "outputs": [
    {
     "data": {
      "text/html": [
       "<div>\n",
       "<style scoped>\n",
       "    .dataframe tbody tr th:only-of-type {\n",
       "        vertical-align: middle;\n",
       "    }\n",
       "\n",
       "    .dataframe tbody tr th {\n",
       "        vertical-align: top;\n",
       "    }\n",
       "\n",
       "    .dataframe thead th {\n",
       "        text-align: right;\n",
       "    }\n",
       "</style>\n",
       "<table border=\"1\" class=\"dataframe\">\n",
       "  <thead>\n",
       "    <tr style=\"text-align: right;\">\n",
       "      <th></th>\n",
       "      <th>page_content</th>\n",
       "      <th>source</th>\n",
       "      <th>title</th>\n",
       "      <th>language</th>\n",
       "    </tr>\n",
       "  </thead>\n",
       "  <tbody>\n",
       "    <tr>\n",
       "      <th>0</th>\n",
       "      <td>Operators and Hooks Reference — Airflow Docume...</td>\n",
       "      <td>https://airflow.apache.org/docs/apache-airflow...</td>\n",
       "      <td>Operators and Hooks Reference — Airflow Docume...</td>\n",
       "      <td>en</td>\n",
       "    </tr>\n",
       "    <tr>\n",
       "      <th>1</th>\n",
       "      <td>Announcements\\n                            \\n\\...</td>\n",
       "      <td>https://airflow.apache.org/docs/apache-airflow...</td>\n",
       "      <td>Operators and Hooks Reference — Airflow Docume...</td>\n",
       "      <td>en</td>\n",
       "    </tr>\n",
       "    <tr>\n",
       "      <th>2</th>\n",
       "      <td>Database Migrations\\nDatabase ERD Schema\\n\\n\\n...</td>\n",
       "      <td>https://airflow.apache.org/docs/apache-airflow...</td>\n",
       "      <td>Operators and Hooks Reference — Airflow Docume...</td>\n",
       "      <td>en</td>\n",
       "    </tr>\n",
       "    <tr>\n",
       "      <th>3</th>\n",
       "      <td>Module\\nGuides\\n\\n\\n\\nairflow.hooks.base\\n\\n\\n...</td>\n",
       "      <td>https://airflow.apache.org/docs/apache-airflow...</td>\n",
       "      <td>Operators and Hooks Reference — Airflow Docume...</td>\n",
       "      <td>en</td>\n",
       "    </tr>\n",
       "    <tr>\n",
       "      <th>4</th>\n",
       "      <td>Previous\\n\\n\\nNext\\n\\n\\n\\n\\n\\n\\n\\n\\nWas this e...</td>\n",
       "      <td>https://airflow.apache.org/docs/apache-airflow...</td>\n",
       "      <td>Operators and Hooks Reference — Airflow Docume...</td>\n",
       "      <td>en</td>\n",
       "    </tr>\n",
       "  </tbody>\n",
       "</table>\n",
       "</div>"
      ],
      "text/plain": [
       "                                        page_content  \\\n",
       "0  Operators and Hooks Reference — Airflow Docume...   \n",
       "1  Announcements\\n                            \\n\\...   \n",
       "2  Database Migrations\\nDatabase ERD Schema\\n\\n\\n...   \n",
       "3  Module\\nGuides\\n\\n\\n\\nairflow.hooks.base\\n\\n\\n...   \n",
       "4  Previous\\n\\n\\nNext\\n\\n\\n\\n\\n\\n\\n\\n\\nWas this e...   \n",
       "\n",
       "                                              source  \\\n",
       "0  https://airflow.apache.org/docs/apache-airflow...   \n",
       "1  https://airflow.apache.org/docs/apache-airflow...   \n",
       "2  https://airflow.apache.org/docs/apache-airflow...   \n",
       "3  https://airflow.apache.org/docs/apache-airflow...   \n",
       "4  https://airflow.apache.org/docs/apache-airflow...   \n",
       "\n",
       "                                               title language  \n",
       "0  Operators and Hooks Reference — Airflow Docume...       en  \n",
       "1  Operators and Hooks Reference — Airflow Docume...       en  \n",
       "2  Operators and Hooks Reference — Airflow Docume...       en  \n",
       "3  Operators and Hooks Reference — Airflow Docume...       en  \n",
       "4  Operators and Hooks Reference — Airflow Docume...       en  "
      ]
     },
     "execution_count": 16,
     "metadata": {},
     "output_type": "execute_result"
    }
   ],
   "source": [
    "import pandas as pd\n",
    "\n",
    "page_contents = []\n",
    "sources = []\n",
    "titles = []\n",
    "languages = []\n",
    "\n",
    "for document in splitted_documents:\n",
    "    page_contents.append(document.page_content)\n",
    "    if document.metadata:\n",
    "        sources.append(document.metadata.get(\"source\", \"Unknown\"))\n",
    "        titles.append(document.metadata.get(\"title\", \"Unknown\"))\n",
    "        languages.append(document.metadata.get(\"language\", \"Unknown\"))\n",
    "\n",
    "documents_df = pd.DataFrame(\n",
    "    {\n",
    "        \"page_content\": page_contents,\n",
    "        \"source\": sources,\n",
    "        \"title\": titles,\n",
    "        \"language\": languages,\n",
    "    }\n",
    ")\n",
    "documents_df.fillna(\"Unknown\", inplace=True)\n",
    "documents_df.head()"
   ]
  },
  {
   "cell_type": "code",
   "execution_count": 17,
   "id": "de23fd28-8073-4b58-8860-259e2c599823",
   "metadata": {
    "execution": {
     "iopub.execute_input": "2023-07-19T03:29:57.535611Z",
     "iopub.status.busy": "2023-07-19T03:29:57.535498Z",
     "iopub.status.idle": "2023-07-19T03:29:57.548004Z",
     "shell.execute_reply": "2023-07-19T03:29:57.546954Z",
     "shell.execute_reply.started": "2023-07-19T03:29:57.535601Z"
    },
    "tags": []
   },
   "outputs": [],
   "source": [
    "# Replace \\n and \\t with a space\n",
    "documents_df[\"page_content\"] = documents_df[\"page_content\"].replace(\n",
    "    \"\\n\", \" \", regex=True\n",
    ")\n",
    "documents_df[\"page_content\"] = documents_df[\"page_content\"].replace(\n",
    "    \"\\t\", \" \", regex=True\n",
    ")\n",
    "# Remove leading and trailing spaces\n",
    "documents_df[\"page_content\"] = documents_df[\"page_content\"].str.strip()"
   ]
  },
  {
   "cell_type": "code",
   "execution_count": 18,
   "id": "2cad5690-fb66-4655-a09d-b0e06e9d0c91",
   "metadata": {
    "execution": {
     "iopub.execute_input": "2023-07-19T03:29:57.548788Z",
     "iopub.status.busy": "2023-07-19T03:29:57.548637Z",
     "iopub.status.idle": "2023-07-19T03:29:57.557970Z",
     "shell.execute_reply": "2023-07-19T03:29:57.557258Z",
     "shell.execute_reply.started": "2023-07-19T03:29:57.548761Z"
    },
    "tags": []
   },
   "outputs": [
    {
     "data": {
      "text/html": [
       "<div>\n",
       "<style scoped>\n",
       "    .dataframe tbody tr th:only-of-type {\n",
       "        vertical-align: middle;\n",
       "    }\n",
       "\n",
       "    .dataframe tbody tr th {\n",
       "        vertical-align: top;\n",
       "    }\n",
       "\n",
       "    .dataframe thead th {\n",
       "        text-align: right;\n",
       "    }\n",
       "</style>\n",
       "<table border=\"1\" class=\"dataframe\">\n",
       "  <thead>\n",
       "    <tr style=\"text-align: right;\">\n",
       "      <th></th>\n",
       "      <th>page_content</th>\n",
       "      <th>source</th>\n",
       "      <th>title</th>\n",
       "      <th>language</th>\n",
       "    </tr>\n",
       "  </thead>\n",
       "  <tbody>\n",
       "    <tr>\n",
       "      <th>0</th>\n",
       "      <td>Operators and Hooks Reference — Airflow Docume...</td>\n",
       "      <td>https://airflow.apache.org/docs/apache-airflow...</td>\n",
       "      <td>Operators and Hooks Reference — Airflow Docume...</td>\n",
       "      <td>en</td>\n",
       "    </tr>\n",
       "    <tr>\n",
       "      <th>1</th>\n",
       "      <td>Announcements                                 ...</td>\n",
       "      <td>https://airflow.apache.org/docs/apache-airflow...</td>\n",
       "      <td>Operators and Hooks Reference — Airflow Docume...</td>\n",
       "      <td>en</td>\n",
       "    </tr>\n",
       "    <tr>\n",
       "      <th>2</th>\n",
       "      <td>Database Migrations Database ERD Schema       ...</td>\n",
       "      <td>https://airflow.apache.org/docs/apache-airflow...</td>\n",
       "      <td>Operators and Hooks Reference — Airflow Docume...</td>\n",
       "      <td>en</td>\n",
       "    </tr>\n",
       "    <tr>\n",
       "      <th>3</th>\n",
       "      <td>Module Guides    airflow.hooks.base   airflow....</td>\n",
       "      <td>https://airflow.apache.org/docs/apache-airflow...</td>\n",
       "      <td>Operators and Hooks Reference — Airflow Docume...</td>\n",
       "      <td>en</td>\n",
       "    </tr>\n",
       "    <tr>\n",
       "      <th>4</th>\n",
       "      <td>Previous   Next         Was this entry helpful...</td>\n",
       "      <td>https://airflow.apache.org/docs/apache-airflow...</td>\n",
       "      <td>Operators and Hooks Reference — Airflow Docume...</td>\n",
       "      <td>en</td>\n",
       "    </tr>\n",
       "  </tbody>\n",
       "</table>\n",
       "</div>"
      ],
      "text/plain": [
       "                                        page_content  \\\n",
       "0  Operators and Hooks Reference — Airflow Docume...   \n",
       "1  Announcements                                 ...   \n",
       "2  Database Migrations Database ERD Schema       ...   \n",
       "3  Module Guides    airflow.hooks.base   airflow....   \n",
       "4  Previous   Next         Was this entry helpful...   \n",
       "\n",
       "                                              source  \\\n",
       "0  https://airflow.apache.org/docs/apache-airflow...   \n",
       "1  https://airflow.apache.org/docs/apache-airflow...   \n",
       "2  https://airflow.apache.org/docs/apache-airflow...   \n",
       "3  https://airflow.apache.org/docs/apache-airflow...   \n",
       "4  https://airflow.apache.org/docs/apache-airflow...   \n",
       "\n",
       "                                               title language  \n",
       "0  Operators and Hooks Reference — Airflow Docume...       en  \n",
       "1  Operators and Hooks Reference — Airflow Docume...       en  \n",
       "2  Operators and Hooks Reference — Airflow Docume...       en  \n",
       "3  Operators and Hooks Reference — Airflow Docume...       en  \n",
       "4  Operators and Hooks Reference — Airflow Docume...       en  "
      ]
     },
     "execution_count": 18,
     "metadata": {},
     "output_type": "execute_result"
    }
   ],
   "source": [
    "documents_df.head()"
   ]
  },
  {
   "cell_type": "code",
   "execution_count": 19,
   "id": "42988831-2705-4103-af39-fe651bd9a4ee",
   "metadata": {
    "execution": {
     "iopub.execute_input": "2023-07-19T03:29:57.559754Z",
     "iopub.status.busy": "2023-07-19T03:29:57.559272Z",
     "iopub.status.idle": "2023-07-19T03:29:57.568301Z",
     "shell.execute_reply": "2023-07-19T03:29:57.567151Z",
     "shell.execute_reply.started": "2023-07-19T03:29:57.559736Z"
    },
    "tags": []
   },
   "outputs": [],
   "source": [
    "from urllib.parse import urlparse\n",
    "\n",
    "\n",
    "def decompose_url(url):\n",
    "    parsed = urlparse(url)\n",
    "\n",
    "    # The root url will be the scheme plus '://' plus the netloc\n",
    "    root_url = parsed.scheme + \"://\" + parsed.netloc\n",
    "\n",
    "    # The path will be split into parts by '/'\n",
    "    path_parts = parsed.path.strip(\"/\").split(\"/\")\n",
    "\n",
    "    # The section and page depend on how many parts there are\n",
    "    if len(path_parts) >= 2:\n",
    "        # The section will be the second to last part\n",
    "        section = path_parts[-2]\n",
    "        # The page will be the last part\n",
    "        page = path_parts[-1]\n",
    "    elif len(path_parts) == 1:\n",
    "        # If there's only one part, we'll assume it's the page\n",
    "        section = None\n",
    "        page = path_parts[0]\n",
    "    else:\n",
    "        # If there are no parts, then both section and page will be None\n",
    "        section = None\n",
    "        page = None\n",
    "\n",
    "    return root_url, section, page\n",
    "\n",
    "\n",
    "# Apply the function to the 'source' column of your dataframe\n",
    "documents_df[\"root_url\"], documents_df[\"section\"], documents_df[\"page\"] = zip(\n",
    "    *documents_df[\"source\"].map(decompose_url)\n",
    ")"
   ]
  },
  {
   "cell_type": "code",
   "execution_count": 20,
   "id": "80a09926-f15c-42d1-a07a-39cbd25459f8",
   "metadata": {
    "execution": {
     "iopub.execute_input": "2023-07-19T03:29:57.569004Z",
     "iopub.status.busy": "2023-07-19T03:29:57.568886Z",
     "iopub.status.idle": "2023-07-19T03:29:57.589157Z",
     "shell.execute_reply": "2023-07-19T03:29:57.588420Z",
     "shell.execute_reply.started": "2023-07-19T03:29:57.568996Z"
    },
    "tags": []
   },
   "outputs": [
    {
     "data": {
      "text/html": [
       "<div>\n",
       "<style scoped>\n",
       "    .dataframe tbody tr th:only-of-type {\n",
       "        vertical-align: middle;\n",
       "    }\n",
       "\n",
       "    .dataframe tbody tr th {\n",
       "        vertical-align: top;\n",
       "    }\n",
       "\n",
       "    .dataframe thead th {\n",
       "        text-align: right;\n",
       "    }\n",
       "</style>\n",
       "<table border=\"1\" class=\"dataframe\">\n",
       "  <thead>\n",
       "    <tr style=\"text-align: right;\">\n",
       "      <th></th>\n",
       "      <th>page_content</th>\n",
       "      <th>source</th>\n",
       "      <th>title</th>\n",
       "      <th>language</th>\n",
       "      <th>root_url</th>\n",
       "      <th>section</th>\n",
       "      <th>page</th>\n",
       "    </tr>\n",
       "  </thead>\n",
       "  <tbody>\n",
       "    <tr>\n",
       "      <th>0</th>\n",
       "      <td>Operators and Hooks Reference — Airflow Docume...</td>\n",
       "      <td>https://airflow.apache.org/docs/apache-airflow...</td>\n",
       "      <td>Operators and Hooks Reference — Airflow Docume...</td>\n",
       "      <td>en</td>\n",
       "      <td>https://airflow.apache.org</td>\n",
       "      <td>stable</td>\n",
       "      <td>operators-and-hooks-ref.html</td>\n",
       "    </tr>\n",
       "    <tr>\n",
       "      <th>1</th>\n",
       "      <td>Announcements                                 ...</td>\n",
       "      <td>https://airflow.apache.org/docs/apache-airflow...</td>\n",
       "      <td>Operators and Hooks Reference — Airflow Docume...</td>\n",
       "      <td>en</td>\n",
       "      <td>https://airflow.apache.org</td>\n",
       "      <td>stable</td>\n",
       "      <td>operators-and-hooks-ref.html</td>\n",
       "    </tr>\n",
       "    <tr>\n",
       "      <th>2</th>\n",
       "      <td>Database Migrations Database ERD Schema       ...</td>\n",
       "      <td>https://airflow.apache.org/docs/apache-airflow...</td>\n",
       "      <td>Operators and Hooks Reference — Airflow Docume...</td>\n",
       "      <td>en</td>\n",
       "      <td>https://airflow.apache.org</td>\n",
       "      <td>stable</td>\n",
       "      <td>operators-and-hooks-ref.html</td>\n",
       "    </tr>\n",
       "    <tr>\n",
       "      <th>3</th>\n",
       "      <td>Module Guides    airflow.hooks.base   airflow....</td>\n",
       "      <td>https://airflow.apache.org/docs/apache-airflow...</td>\n",
       "      <td>Operators and Hooks Reference — Airflow Docume...</td>\n",
       "      <td>en</td>\n",
       "      <td>https://airflow.apache.org</td>\n",
       "      <td>stable</td>\n",
       "      <td>operators-and-hooks-ref.html</td>\n",
       "    </tr>\n",
       "    <tr>\n",
       "      <th>4</th>\n",
       "      <td>Previous   Next         Was this entry helpful...</td>\n",
       "      <td>https://airflow.apache.org/docs/apache-airflow...</td>\n",
       "      <td>Operators and Hooks Reference — Airflow Docume...</td>\n",
       "      <td>en</td>\n",
       "      <td>https://airflow.apache.org</td>\n",
       "      <td>stable</td>\n",
       "      <td>operators-and-hooks-ref.html</td>\n",
       "    </tr>\n",
       "  </tbody>\n",
       "</table>\n",
       "</div>"
      ],
      "text/plain": [
       "                                        page_content  \\\n",
       "0  Operators and Hooks Reference — Airflow Docume...   \n",
       "1  Announcements                                 ...   \n",
       "2  Database Migrations Database ERD Schema       ...   \n",
       "3  Module Guides    airflow.hooks.base   airflow....   \n",
       "4  Previous   Next         Was this entry helpful...   \n",
       "\n",
       "                                              source  \\\n",
       "0  https://airflow.apache.org/docs/apache-airflow...   \n",
       "1  https://airflow.apache.org/docs/apache-airflow...   \n",
       "2  https://airflow.apache.org/docs/apache-airflow...   \n",
       "3  https://airflow.apache.org/docs/apache-airflow...   \n",
       "4  https://airflow.apache.org/docs/apache-airflow...   \n",
       "\n",
       "                                               title language  \\\n",
       "0  Operators and Hooks Reference — Airflow Docume...       en   \n",
       "1  Operators and Hooks Reference — Airflow Docume...       en   \n",
       "2  Operators and Hooks Reference — Airflow Docume...       en   \n",
       "3  Operators and Hooks Reference — Airflow Docume...       en   \n",
       "4  Operators and Hooks Reference — Airflow Docume...       en   \n",
       "\n",
       "                     root_url section                          page  \n",
       "0  https://airflow.apache.org  stable  operators-and-hooks-ref.html  \n",
       "1  https://airflow.apache.org  stable  operators-and-hooks-ref.html  \n",
       "2  https://airflow.apache.org  stable  operators-and-hooks-ref.html  \n",
       "3  https://airflow.apache.org  stable  operators-and-hooks-ref.html  \n",
       "4  https://airflow.apache.org  stable  operators-and-hooks-ref.html  "
      ]
     },
     "execution_count": 20,
     "metadata": {},
     "output_type": "execute_result"
    }
   ],
   "source": [
    "documents_df.head()"
   ]
  },
  {
   "cell_type": "code",
   "execution_count": 21,
   "id": "c6ee6180-cf0d-4afd-8138-c2d88d22ad0b",
   "metadata": {
    "execution": {
     "iopub.execute_input": "2023-07-19T03:29:57.591332Z",
     "iopub.status.busy": "2023-07-19T03:29:57.590685Z",
     "iopub.status.idle": "2023-07-19T03:29:57.598718Z",
     "shell.execute_reply": "2023-07-19T03:29:57.598149Z",
     "shell.execute_reply.started": "2023-07-19T03:29:57.591300Z"
    },
    "tags": []
   },
   "outputs": [
    {
     "data": {
      "text/plain": [
       "page_content    0\n",
       "source          0\n",
       "title           0\n",
       "language        0\n",
       "root_url        0\n",
       "section         0\n",
       "page            0\n",
       "dtype: int64"
      ]
     },
     "execution_count": 21,
     "metadata": {},
     "output_type": "execute_result"
    }
   ],
   "source": [
    "documents_df.isnull().sum()"
   ]
  },
  {
   "cell_type": "code",
   "execution_count": 22,
   "id": "c7999a66-e2d9-431d-9ec1-86905749ca34",
   "metadata": {
    "execution": {
     "iopub.execute_input": "2023-07-19T03:29:57.599349Z",
     "iopub.status.busy": "2023-07-19T03:29:57.599208Z",
     "iopub.status.idle": "2023-07-19T03:29:57.683457Z",
     "shell.execute_reply": "2023-07-19T03:29:57.683048Z",
     "shell.execute_reply.started": "2023-07-19T03:29:57.599335Z"
    },
    "tags": []
   },
   "outputs": [],
   "source": [
    "documents_df.to_parquet(\"./parquets/documents_with_rec-char-split.parquet\")"
   ]
  },
  {
   "cell_type": "markdown",
   "id": "0422fd15-43d5-4dd6-b792-3a1d67fa65f4",
   "metadata": {},
   "source": [
    "## Storage"
   ]
  },
  {
   "cell_type": "code",
   "execution_count": 23,
   "id": "a8162035-d238-4557-b066-58a649599eb9",
   "metadata": {
    "execution": {
     "iopub.execute_input": "2023-07-19T03:31:49.225147Z",
     "iopub.status.busy": "2023-07-19T03:31:49.223997Z",
     "iopub.status.idle": "2023-07-19T03:31:49.280000Z",
     "shell.execute_reply": "2023-07-19T03:31:49.279427Z",
     "shell.execute_reply.started": "2023-07-19T03:31:49.225106Z"
    },
    "tags": []
   },
   "outputs": [],
   "source": [
    "import chromadb\n",
    "\n",
    "client = chromadb.PersistentClient(path=\"./db\")"
   ]
  },
  {
   "cell_type": "code",
   "execution_count": 24,
   "id": "c878a393-b82c-4c69-a91f-16d25df820b9",
   "metadata": {
    "execution": {
     "iopub.execute_input": "2023-07-19T03:32:03.531874Z",
     "iopub.status.busy": "2023-07-19T03:32:03.530819Z",
     "iopub.status.idle": "2023-07-19T03:32:04.647848Z",
     "shell.execute_reply": "2023-07-19T03:32:04.647288Z",
     "shell.execute_reply.started": "2023-07-19T03:32:03.531808Z"
    },
    "tags": []
   },
   "outputs": [
    {
     "name": "stdout",
     "output_type": "stream",
     "text": [
      "Creating collection: 'airflow_docs_stable'\n"
     ]
    }
   ],
   "source": [
    "from chromadb.utils import embedding_functions\n",
    "\n",
    "sentence_transformer_ef = embedding_functions.SentenceTransformerEmbeddingFunction(\n",
    "    model_name=\"all-mpnet-base-v2\"\n",
    ")\n",
    "collection_name = \"airflow_docs_stable\"\n",
    "\n",
    "if len(client.list_collections()) > 0 and collection_name in [\n",
    "    client.list_collections()[0].name\n",
    "]:\n",
    "    client.delete_collection(name=collection_name)\n",
    "print(f\"Creating collection: '{collection_name}'\")\n",
    "collection = client.create_collection(\n",
    "    name=collection_name, embedding_function=sentence_transformer_ef\n",
    ")"
   ]
  },
  {
   "cell_type": "code",
   "execution_count": 25,
   "id": "67c648e1-3a32-461d-8a33-118667f1c8cd",
   "metadata": {
    "execution": {
     "iopub.execute_input": "2023-07-19T03:32:06.119409Z",
     "iopub.status.busy": "2023-07-19T03:32:06.117451Z",
     "iopub.status.idle": "2023-07-19T03:36:17.069005Z",
     "shell.execute_reply": "2023-07-19T03:36:17.067691Z",
     "shell.execute_reply.started": "2023-07-19T03:32:06.119345Z"
    },
    "tags": []
   },
   "outputs": [],
   "source": [
    "for index, row in documents_df.iterrows():\n",
    "    if (\n",
    "        pd.notnull(row[\"source\"])\n",
    "        and pd.notnull(row[\"section\"])\n",
    "        and pd.notnull(row[\"page\"])\n",
    "    ):\n",
    "        metadata = {\n",
    "            \"source\": row[\"source\"],\n",
    "            \"section\": row[\"section\"],\n",
    "            \"page\": row[\"page\"],\n",
    "        }\n",
    "    collection.add(\n",
    "        documents=[row[\"page_content\"]],\n",
    "        metadatas=[metadata],\n",
    "        ids=[str(index)],\n",
    "    )"
   ]
  },
  {
   "cell_type": "markdown",
   "id": "0ba79850-be47-4cba-8395-08f728755a5a",
   "metadata": {},
   "source": [
    "## Testing"
   ]
  },
  {
   "cell_type": "markdown",
   "id": "22f81647-0258-44b8-afb9-289803047781",
   "metadata": {},
   "source": [
    "### Retriving Information from Vector Store"
   ]
  },
  {
   "cell_type": "code",
   "execution_count": 27,
   "id": "0bf6c074-550c-421a-b493-038d359041c1",
   "metadata": {
    "execution": {
     "iopub.execute_input": "2023-07-19T03:36:32.436909Z",
     "iopub.status.busy": "2023-07-19T03:36:32.436101Z",
     "iopub.status.idle": "2023-07-19T03:36:32.511505Z",
     "shell.execute_reply": "2023-07-19T03:36:32.510838Z",
     "shell.execute_reply.started": "2023-07-19T03:36:32.436881Z"
    },
    "tags": []
   },
   "outputs": [
    {
     "name": "stdout",
     "output_type": "stream",
     "text": [
      "Named Arguments¶  -d, --dag-id The id of the dag  --limit Return a limited number of records  -o, --output Possible choices: table, json, yaml, plain Output format. Allowed values: json, yaml, plain, table (default: table) Default: “table”  --state Possible choices: queued, running, success, failed Only list the dag runs corresponding to the state  -v, --verbose Make logging output more verbose Default: False\n",
      "\n",
      "Using the Public Interface for DAG Authors¶  DAGs¶ The DAG is Airflow’s core entity that represents a recurring workflow. You can create a DAG by instantiating the DAG class in your DAG file. You can also instantiate them via :class::~airflow.models.dagbag.DagBag class that reads DAGs from a file or a folder. DAGs can also have parameters specified via :class::~airflow.models.param.Param class. Airflow has a set of example DAGs that you can use to learn how to write DAGs   airflow.example_dags   You can read more about DAGs in DAGs. References for the modules used in DAGs are here:   airflow.models.dag airflow.models.dagbag airflow.models.param     Operators¶ Operators allow for generation of certain types of tasks that become nodes in the DAG when instantiated. There are 3 main types of operators:\n",
      "\n",
      "Named Arguments¶  -D, --daemon Daemonize instead of running in the foreground Default: False  -p, --do-pickle Attempt to pickle the DAG object to send over to the workers, instead of letting workers run their version of the code Default: False  -l, --log-file Location of the log file  -n, --num-runs Set the number of runs to execute before exiting Default: -1  --pid PID file location  --stderr Redirect stderr to this file  --stdout Redirect stdout to this file  -S, --subdir File location or directory from which to look for the dag. Defaults to ‘[AIRFLOW_HOME]/dags’ where [AIRFLOW_HOME] is the value you set for ‘AIRFLOW_HOME’ config you set in ‘airflow.cfg’ Default: “[AIRFLOW_HOME]/dags”  -v, --verbose Make logging output more verbose Default: False      dags¶ Manage DAGs airflow dags [-h] COMMAND ...    Positional Arguments¶\n"
     ]
    }
   ],
   "source": [
    "question = \"How to create a DAG?\"\n",
    "results = collection.query(\n",
    "    query_texts=[question],\n",
    "    n_results=3,\n",
    ")\n",
    "formatted_result = \"\\n\\n\".join(results[\"documents\"][0])\n",
    "print(formatted_result)"
   ]
  },
  {
   "cell_type": "markdown",
   "id": "ed4bc16b-f5e1-4033-a1c2-ac897126db33",
   "metadata": {},
   "source": [
    "### Loading Vector Store"
   ]
  },
  {
   "cell_type": "code",
   "execution_count": 31,
   "id": "31846678-4e36-4bb9-9be0-e7a7b69b713f",
   "metadata": {
    "execution": {
     "iopub.execute_input": "2023-07-19T03:46:15.198975Z",
     "iopub.status.busy": "2023-07-19T03:46:15.195742Z",
     "iopub.status.idle": "2023-07-19T03:46:16.300036Z",
     "shell.execute_reply": "2023-07-19T03:46:16.299505Z",
     "shell.execute_reply.started": "2023-07-19T03:46:15.198876Z"
    },
    "tags": []
   },
   "outputs": [
    {
     "name": "stdout",
     "output_type": "stream",
     "text": [
      "Documents Loaded: 1488\n"
     ]
    }
   ],
   "source": [
    "import chromadb\n",
    "from langchain.embeddings.sentence_transformer import SentenceTransformerEmbeddings\n",
    "from langchain.vectorstores import Chroma\n",
    "\n",
    "client = chromadb.PersistentClient(path=\"./db\")\n",
    "embeddings = SentenceTransformerEmbeddings(\n",
    "    model_name=\"all-mpnet-base-v2\",\n",
    ")\n",
    "vector_db = Chroma(\n",
    "    client=client,\n",
    "    collection_name=\"airflow_docs_stable\",\n",
    "    embedding_function=embeddings,\n",
    ")\n",
    "print(f\"Documents Loaded: {vector_db._collection.count()}\")"
   ]
  }
 ],
 "metadata": {
  "kernelspec": {
   "display_name": "Python 3 (ipykernel)",
   "language": "python",
   "name": "python3"
  },
  "language_info": {
   "codemirror_mode": {
    "name": "ipython",
    "version": 3
   },
   "file_extension": ".py",
   "mimetype": "text/x-python",
   "name": "python",
   "nbconvert_exporter": "python",
   "pygments_lexer": "ipython3",
   "version": "3.11.4"
  }
 },
 "nbformat": 4,
 "nbformat_minor": 5
}
