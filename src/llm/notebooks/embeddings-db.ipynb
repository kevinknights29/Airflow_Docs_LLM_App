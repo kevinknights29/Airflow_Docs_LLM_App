{
 "cells": [
  {
   "cell_type": "markdown",
   "id": "4f97178c-58d0-443f-b043-f4230c2a524b",
   "metadata": {},
   "source": [
    "# Vector Database Initialization"
   ]
  },
  {
   "cell_type": "markdown",
   "id": "ec2ad1ff-fed6-4a60-92e2-40a83c43b5b5",
   "metadata": {},
   "source": [
    "## Dependencies"
   ]
  },
  {
   "cell_type": "code",
   "execution_count": 26,
   "id": "c286ad94-6e17-4c33-a111-a14e49b24227",
   "metadata": {
    "tags": []
   },
   "outputs": [
    {
     "name": "stdout",
     "output_type": "stream",
     "text": [
      "Requirement already satisfied: beautifulsoup4 in /opt/conda/lib/python3.11/site-packages (4.12.2)\n",
      "Requirement already satisfied: requests in /opt/conda/lib/python3.11/site-packages (2.31.0)\n",
      "Requirement already satisfied: pandas in /opt/conda/lib/python3.11/site-packages (2.0.3)\n",
      "Requirement already satisfied: langchain in /home/jovyan/.local/lib/python3.11/site-packages (0.0.231)\n",
      "Requirement already satisfied: tiktoken in /home/jovyan/.local/lib/python3.11/site-packages (0.4.0)\n",
      "Requirement already satisfied: pyarrow in /opt/conda/lib/python3.11/site-packages (12.0.1)\n",
      "Requirement already satisfied: fastparquet in /home/jovyan/.local/lib/python3.11/site-packages (2023.7.0)\n",
      "Requirement already satisfied: chromadb in /home/jovyan/.local/lib/python3.11/site-packages (0.3.29)\n",
      "Collecting sentence_transformers\n",
      "  Downloading sentence-transformers-2.2.2.tar.gz (85 kB)\n",
      "\u001b[2K     \u001b[90m━━━━━━━━━━━━━━━━━━━━━━━━━━━━━━━━━━━━━━━\u001b[0m \u001b[32m86.0/86.0 kB\u001b[0m \u001b[31m393.1 kB/s\u001b[0m eta \u001b[36m0:00:00\u001b[0ma \u001b[36m0:00:01\u001b[0m\n",
      "\u001b[?25h  Preparing metadata (setup.py) ... \u001b[?25ldone\n",
      "\u001b[?25hRequirement already satisfied: soupsieve>1.2 in /opt/conda/lib/python3.11/site-packages (from beautifulsoup4) (2.3.2.post1)\n",
      "Requirement already satisfied: charset-normalizer<4,>=2 in /opt/conda/lib/python3.11/site-packages (from requests) (3.2.0)\n",
      "Requirement already satisfied: idna<4,>=2.5 in /opt/conda/lib/python3.11/site-packages (from requests) (3.4)\n",
      "Requirement already satisfied: urllib3<3,>=1.21.1 in /opt/conda/lib/python3.11/site-packages (from requests) (2.0.3)\n",
      "Requirement already satisfied: certifi>=2017.4.17 in /opt/conda/lib/python3.11/site-packages (from requests) (2023.5.7)\n",
      "Requirement already satisfied: python-dateutil>=2.8.2 in /opt/conda/lib/python3.11/site-packages (from pandas) (2.8.2)\n",
      "Requirement already satisfied: pytz>=2020.1 in /opt/conda/lib/python3.11/site-packages (from pandas) (2023.3)\n",
      "Requirement already satisfied: tzdata>=2022.1 in /opt/conda/lib/python3.11/site-packages (from pandas) (2023.3)\n",
      "Requirement already satisfied: numpy>=1.21.0 in /opt/conda/lib/python3.11/site-packages (from pandas) (1.24.4)\n",
      "Requirement already satisfied: PyYAML>=5.4.1 in /opt/conda/lib/python3.11/site-packages (from langchain) (6.0)\n",
      "Requirement already satisfied: SQLAlchemy<3,>=1.4 in /opt/conda/lib/python3.11/site-packages (from langchain) (2.0.18)\n",
      "Requirement already satisfied: aiohttp<4.0.0,>=3.8.3 in /home/jovyan/.local/lib/python3.11/site-packages (from langchain) (3.8.4)\n",
      "Requirement already satisfied: dataclasses-json<0.6.0,>=0.5.7 in /home/jovyan/.local/lib/python3.11/site-packages (from langchain) (0.5.9)\n",
      "Requirement already satisfied: langchainplus-sdk<0.0.21,>=0.0.20 in /home/jovyan/.local/lib/python3.11/site-packages (from langchain) (0.0.20)\n",
      "Requirement already satisfied: numexpr<3.0.0,>=2.8.4 in /opt/conda/lib/python3.11/site-packages (from langchain) (2.8.4)\n",
      "Requirement already satisfied: openapi-schema-pydantic<2.0,>=1.2 in /home/jovyan/.local/lib/python3.11/site-packages (from langchain) (1.2.4)\n",
      "Requirement already satisfied: pydantic<2,>=1 in /home/jovyan/.local/lib/python3.11/site-packages (from langchain) (1.10.11)\n",
      "Requirement already satisfied: tenacity<9.0.0,>=8.1.0 in /home/jovyan/.local/lib/python3.11/site-packages (from langchain) (8.2.2)\n",
      "Requirement already satisfied: regex>=2022.1.18 in /home/jovyan/.local/lib/python3.11/site-packages (from tiktoken) (2023.6.3)\n",
      "Requirement already satisfied: cramjam>=2.3 in /home/jovyan/.local/lib/python3.11/site-packages (from fastparquet) (2.6.2)\n",
      "Requirement already satisfied: fsspec in /opt/conda/lib/python3.11/site-packages (from fastparquet) (2023.6.0)\n",
      "Requirement already satisfied: packaging in /opt/conda/lib/python3.11/site-packages (from fastparquet) (23.1)\n",
      "Requirement already satisfied: hnswlib>=0.7 in /home/jovyan/.local/lib/python3.11/site-packages (from chromadb) (0.7.0)\n",
      "Requirement already satisfied: clickhouse-connect>=0.5.7 in /home/jovyan/.local/lib/python3.11/site-packages (from chromadb) (0.6.6)\n",
      "Requirement already satisfied: duckdb>=0.7.1 in /home/jovyan/.local/lib/python3.11/site-packages (from chromadb) (0.8.1)\n",
      "Requirement already satisfied: fastapi==0.85.1 in /home/jovyan/.local/lib/python3.11/site-packages (from chromadb) (0.85.1)\n",
      "Requirement already satisfied: uvicorn[standard]>=0.18.3 in /home/jovyan/.local/lib/python3.11/site-packages (from chromadb) (0.22.0)\n",
      "Requirement already satisfied: posthog>=2.4.0 in /home/jovyan/.local/lib/python3.11/site-packages (from chromadb) (3.0.1)\n",
      "Requirement already satisfied: typing-extensions>=4.5.0 in /opt/conda/lib/python3.11/site-packages (from chromadb) (4.7.1)\n",
      "Requirement already satisfied: pulsar-client>=3.1.0 in /home/jovyan/.local/lib/python3.11/site-packages (from chromadb) (3.2.0)\n",
      "Requirement already satisfied: onnxruntime>=1.14.1 in /home/jovyan/.local/lib/python3.11/site-packages (from chromadb) (1.15.1)\n",
      "Requirement already satisfied: tokenizers>=0.13.2 in /home/jovyan/.local/lib/python3.11/site-packages (from chromadb) (0.13.3)\n",
      "Requirement already satisfied: tqdm>=4.65.0 in /opt/conda/lib/python3.11/site-packages (from chromadb) (4.65.0)\n",
      "Requirement already satisfied: overrides>=7.3.1 in /opt/conda/lib/python3.11/site-packages (from chromadb) (7.3.1)\n",
      "Requirement already satisfied: starlette==0.20.4 in /home/jovyan/.local/lib/python3.11/site-packages (from fastapi==0.85.1->chromadb) (0.20.4)\n",
      "Requirement already satisfied: anyio<5,>=3.4.0 in /opt/conda/lib/python3.11/site-packages (from starlette==0.20.4->fastapi==0.85.1->chromadb) (3.7.1)\n",
      "Collecting transformers<5.0.0,>=4.6.0 (from sentence_transformers)\n",
      "  Downloading transformers-4.30.2-py3-none-any.whl (7.2 MB)\n",
      "\u001b[2K     \u001b[90m━━━━━━━━━━━━━━━━━━━━━━━━━━━━━━━━━━━━━━━━\u001b[0m \u001b[32m7.2/7.2 MB\u001b[0m \u001b[31m35.0 kB/s\u001b[0m eta \u001b[36m0:00:00\u001b[0m00:01\u001b[0m00:06\u001b[0m\n",
      "\u001b[?25hCollecting torch>=1.6.0 (from sentence_transformers)\n",
      "  Downloading torch-2.0.1-cp311-cp311-manylinux2014_aarch64.whl (74.0 MB)\n",
      "\u001b[2K     \u001b[90m━━━━━━━━━━━━━━━━━━━━━━━━━━━━━━━━━━━━━━━━\u001b[0m \u001b[32m74.0/74.0 MB\u001b[0m \u001b[31m71.9 kB/s\u001b[0m eta \u001b[36m0:00:00\u001b[0m00:01\u001b[0m00:29\u001b[0m\n",
      "\u001b[?25hCollecting torchvision (from sentence_transformers)\n",
      "  Downloading torchvision-0.15.2-cp311-cp311-manylinux2014_aarch64.whl (1.2 MB)\n",
      "\u001b[2K     \u001b[90m━━━━━━━━━━━━━━━━━━━━━━━━━━━━━━━━━━━━━━━━\u001b[0m \u001b[32m1.2/1.2 MB\u001b[0m \u001b[31m68.5 kB/s\u001b[0m eta \u001b[36m0:00:00\u001b[0m00:01\u001b[0m00:01\u001b[0m\n",
      "\u001b[?25hRequirement already satisfied: scikit-learn in /opt/conda/lib/python3.11/site-packages (from sentence_transformers) (1.3.0)\n",
      "Requirement already satisfied: scipy in /opt/conda/lib/python3.11/site-packages (from sentence_transformers) (1.11.1)\n",
      "Collecting nltk (from sentence_transformers)\n",
      "  Downloading nltk-3.8.1-py3-none-any.whl (1.5 MB)\n",
      "\u001b[2K     \u001b[90m━━━━━━━━━━━━━━━━━━━━━━━━━━━━━━━━━━━━━━━━\u001b[0m \u001b[32m1.5/1.5 MB\u001b[0m \u001b[31m70.2 kB/s\u001b[0m eta \u001b[36m0:00:00\u001b[0m00:01\u001b[0m00:01\u001b[0m\n",
      "\u001b[?25hCollecting sentencepiece (from sentence_transformers)\n",
      "  Downloading sentencepiece-0.1.99-cp311-cp311-manylinux_2_17_aarch64.manylinux2014_aarch64.whl (1.3 MB)\n",
      "\u001b[2K     \u001b[90m━━━━━━━━━━━━━━━━━━━━━━━━━━━━━━━━━━━━━━━━\u001b[0m \u001b[32m1.3/1.3 MB\u001b[0m \u001b[31m75.6 kB/s\u001b[0m eta \u001b[36m0:00:00\u001b[0m00:01\u001b[0m00:01\u001b[0mm\n",
      "\u001b[?25hCollecting huggingface-hub>=0.4.0 (from sentence_transformers)\n",
      "  Downloading huggingface_hub-0.16.4-py3-none-any.whl (268 kB)\n",
      "\u001b[2K     \u001b[90m━━━━━━━━━━━━━━━━━━━━━━━━━━━━━━━━━━━━━━\u001b[0m \u001b[32m268.8/268.8 kB\u001b[0m \u001b[31m83.2 kB/s\u001b[0m eta \u001b[36m0:00:00\u001b[0m00:01\u001b[0m00:01\u001b[0m\n",
      "\u001b[?25hRequirement already satisfied: attrs>=17.3.0 in /opt/conda/lib/python3.11/site-packages (from aiohttp<4.0.0,>=3.8.3->langchain) (23.1.0)\n",
      "Requirement already satisfied: multidict<7.0,>=4.5 in /home/jovyan/.local/lib/python3.11/site-packages (from aiohttp<4.0.0,>=3.8.3->langchain) (6.0.4)\n",
      "Requirement already satisfied: async-timeout<5.0,>=4.0.0a3 in /home/jovyan/.local/lib/python3.11/site-packages (from aiohttp<4.0.0,>=3.8.3->langchain) (4.0.2)\n",
      "Requirement already satisfied: yarl<2.0,>=1.0 in /home/jovyan/.local/lib/python3.11/site-packages (from aiohttp<4.0.0,>=3.8.3->langchain) (1.9.2)\n",
      "Requirement already satisfied: frozenlist>=1.1.1 in /home/jovyan/.local/lib/python3.11/site-packages (from aiohttp<4.0.0,>=3.8.3->langchain) (1.4.0)\n",
      "Requirement already satisfied: aiosignal>=1.1.2 in /home/jovyan/.local/lib/python3.11/site-packages (from aiohttp<4.0.0,>=3.8.3->langchain) (1.3.1)\n",
      "Requirement already satisfied: importlib-metadata in /opt/conda/lib/python3.11/site-packages (from clickhouse-connect>=0.5.7->chromadb) (6.8.0)\n",
      "Requirement already satisfied: zstandard in /opt/conda/lib/python3.11/site-packages (from clickhouse-connect>=0.5.7->chromadb) (0.19.0)\n",
      "Requirement already satisfied: lz4 in /opt/conda/lib/python3.11/site-packages (from clickhouse-connect>=0.5.7->chromadb) (4.3.2)\n",
      "Requirement already satisfied: marshmallow<4.0.0,>=3.3.0 in /home/jovyan/.local/lib/python3.11/site-packages (from dataclasses-json<0.6.0,>=0.5.7->langchain) (3.19.0)\n",
      "Requirement already satisfied: marshmallow-enum<2.0.0,>=1.5.1 in /home/jovyan/.local/lib/python3.11/site-packages (from dataclasses-json<0.6.0,>=0.5.7->langchain) (1.5.1)\n",
      "Requirement already satisfied: typing-inspect>=0.4.0 in /home/jovyan/.local/lib/python3.11/site-packages (from dataclasses-json<0.6.0,>=0.5.7->langchain) (0.9.0)\n",
      "Collecting filelock (from huggingface-hub>=0.4.0->sentence_transformers)\n",
      "  Downloading filelock-3.12.2-py3-none-any.whl (10 kB)\n",
      "Requirement already satisfied: coloredlogs in /home/jovyan/.local/lib/python3.11/site-packages (from onnxruntime>=1.14.1->chromadb) (15.0.1)\n",
      "Requirement already satisfied: flatbuffers in /home/jovyan/.local/lib/python3.11/site-packages (from onnxruntime>=1.14.1->chromadb) (23.5.26)\n",
      "Requirement already satisfied: protobuf in /opt/conda/lib/python3.11/site-packages (from onnxruntime>=1.14.1->chromadb) (4.23.3)\n",
      "Requirement already satisfied: sympy in /opt/conda/lib/python3.11/site-packages (from onnxruntime>=1.14.1->chromadb) (1.12)\n",
      "Requirement already satisfied: six>=1.5 in /opt/conda/lib/python3.11/site-packages (from posthog>=2.4.0->chromadb) (1.16.0)\n",
      "Requirement already satisfied: monotonic>=1.5 in /home/jovyan/.local/lib/python3.11/site-packages (from posthog>=2.4.0->chromadb) (1.6)\n",
      "Requirement already satisfied: backoff>=1.10.0 in /home/jovyan/.local/lib/python3.11/site-packages (from posthog>=2.4.0->chromadb) (2.2.1)\n",
      "Requirement already satisfied: greenlet!=0.4.17 in /opt/conda/lib/python3.11/site-packages (from SQLAlchemy<3,>=1.4->langchain) (2.0.2)\n",
      "Requirement already satisfied: networkx in /opt/conda/lib/python3.11/site-packages (from torch>=1.6.0->sentence_transformers) (3.1)\n",
      "Requirement already satisfied: jinja2 in /opt/conda/lib/python3.11/site-packages (from torch>=1.6.0->sentence_transformers) (3.1.2)\n",
      "Collecting safetensors>=0.3.1 (from transformers<5.0.0,>=4.6.0->sentence_transformers)\n",
      "  Downloading safetensors-0.3.1-cp311-cp311-manylinux_2_17_aarch64.manylinux2014_aarch64.whl (1.2 MB)\n",
      "\u001b[2K     \u001b[90m━━━━━━━━━━━━━━━━━━━━━━━━━━━━━━━━━━━━━━━━\u001b[0m \u001b[32m1.2/1.2 MB\u001b[0m \u001b[31m96.5 kB/s\u001b[0m eta \u001b[36m0:00:00\u001b[0m00:01\u001b[0m00:01\u001b[0m\n",
      "\u001b[?25hRequirement already satisfied: click>=7.0 in /opt/conda/lib/python3.11/site-packages (from uvicorn[standard]>=0.18.3->chromadb) (8.1.4)\n",
      "Requirement already satisfied: h11>=0.8 in /home/jovyan/.local/lib/python3.11/site-packages (from uvicorn[standard]>=0.18.3->chromadb) (0.14.0)\n",
      "Requirement already satisfied: httptools>=0.5.0 in /home/jovyan/.local/lib/python3.11/site-packages (from uvicorn[standard]>=0.18.3->chromadb) (0.6.0)\n",
      "Requirement already satisfied: python-dotenv>=0.13 in /home/jovyan/.local/lib/python3.11/site-packages (from uvicorn[standard]>=0.18.3->chromadb) (1.0.0)\n",
      "Requirement already satisfied: uvloop!=0.15.0,!=0.15.1,>=0.14.0 in /home/jovyan/.local/lib/python3.11/site-packages (from uvicorn[standard]>=0.18.3->chromadb) (0.17.0)\n",
      "Requirement already satisfied: watchfiles>=0.13 in /home/jovyan/.local/lib/python3.11/site-packages (from uvicorn[standard]>=0.18.3->chromadb) (0.19.0)\n",
      "Requirement already satisfied: websockets>=10.4 in /home/jovyan/.local/lib/python3.11/site-packages (from uvicorn[standard]>=0.18.3->chromadb) (11.0.3)\n",
      "Requirement already satisfied: joblib in /opt/conda/lib/python3.11/site-packages (from nltk->sentence_transformers) (1.3.0)\n",
      "Requirement already satisfied: threadpoolctl>=2.0.0 in /opt/conda/lib/python3.11/site-packages (from scikit-learn->sentence_transformers) (3.1.0)\n",
      "Requirement already satisfied: pillow!=8.3.*,>=5.3.0 in /opt/conda/lib/python3.11/site-packages (from torchvision->sentence_transformers) (10.0.0)\n",
      "Requirement already satisfied: mypy-extensions>=0.3.0 in /home/jovyan/.local/lib/python3.11/site-packages (from typing-inspect>=0.4.0->dataclasses-json<0.6.0,>=0.5.7->langchain) (1.0.0)\n",
      "Requirement already satisfied: humanfriendly>=9.1 in /home/jovyan/.local/lib/python3.11/site-packages (from coloredlogs->onnxruntime>=1.14.1->chromadb) (10.0)\n",
      "Requirement already satisfied: zipp>=0.5 in /opt/conda/lib/python3.11/site-packages (from importlib-metadata->clickhouse-connect>=0.5.7->chromadb) (3.16.0)\n",
      "Requirement already satisfied: MarkupSafe>=2.0 in /opt/conda/lib/python3.11/site-packages (from jinja2->torch>=1.6.0->sentence_transformers) (2.1.3)\n",
      "Requirement already satisfied: mpmath>=0.19 in /opt/conda/lib/python3.11/site-packages (from sympy->onnxruntime>=1.14.1->chromadb) (1.3.0)\n",
      "Requirement already satisfied: sniffio>=1.1 in /opt/conda/lib/python3.11/site-packages (from anyio<5,>=3.4.0->starlette==0.20.4->fastapi==0.85.1->chromadb) (1.3.0)\n",
      "Building wheels for collected packages: sentence_transformers\n",
      "  Building wheel for sentence_transformers (setup.py) ... \u001b[?25ldone\n",
      "\u001b[?25h  Created wheel for sentence_transformers: filename=sentence_transformers-2.2.2-py3-none-any.whl size=125926 sha256=9736cff191d4be4b53b579ecf9547442574916e7cd34bf471226a68976b4b3fd\n",
      "  Stored in directory: /home/jovyan/.cache/pip/wheels/ff/27/bf/ffba8b318b02d7f691a57084ee154e26ed24d012b0c7805881\n",
      "Successfully built sentence_transformers\n",
      "Installing collected packages: sentencepiece, safetensors, nltk, filelock, torch, huggingface-hub, transformers, torchvision, sentence_transformers\n",
      "\u001b[33m  WARNING: The script nltk is installed in '/home/jovyan/.local/bin' which is not on PATH.\n",
      "  Consider adding this directory to PATH or, if you prefer to suppress this warning, use --no-warn-script-location.\u001b[0m\u001b[33m\n",
      "\u001b[0m\u001b[33m  WARNING: The scripts convert-caffe2-to-onnx, convert-onnx-to-caffe2 and torchrun are installed in '/home/jovyan/.local/bin' which is not on PATH.\n",
      "  Consider adding this directory to PATH or, if you prefer to suppress this warning, use --no-warn-script-location.\u001b[0m\u001b[33m\n",
      "\u001b[0m\u001b[33m  WARNING: The script huggingface-cli is installed in '/home/jovyan/.local/bin' which is not on PATH.\n",
      "  Consider adding this directory to PATH or, if you prefer to suppress this warning, use --no-warn-script-location.\u001b[0m\u001b[33m\n",
      "\u001b[0m\u001b[33m  WARNING: The script transformers-cli is installed in '/home/jovyan/.local/bin' which is not on PATH.\n",
      "  Consider adding this directory to PATH or, if you prefer to suppress this warning, use --no-warn-script-location.\u001b[0m\u001b[33m\n",
      "\u001b[0mSuccessfully installed filelock-3.12.2 huggingface-hub-0.16.4 nltk-3.8.1 safetensors-0.3.1 sentence_transformers-2.2.2 sentencepiece-0.1.99 torch-2.0.1 torchvision-0.15.2 transformers-4.30.2\n",
      "Note: you may need to restart the kernel to use updated packages.\n"
     ]
    }
   ],
   "source": [
    "%pip install beautifulsoup4 requests pandas langchain tiktoken pyarrow fastparquet chromadb sentence_transformers --user"
   ]
  },
  {
   "cell_type": "code",
   "execution_count": 2,
   "id": "8a18e5e1-3edb-4597-a6c4-b5e4cdb179a0",
   "metadata": {
    "tags": []
   },
   "outputs": [
    {
     "name": "stdout",
     "output_type": "stream",
     "text": [
      "Requirement already satisfied: pydantic==1.10.11 in /home/jovyan/.local/lib/python3.11/site-packages (1.10.11)\n",
      "Requirement already satisfied: typing-extensions>=4.2.0 in /opt/conda/lib/python3.11/site-packages (from pydantic==1.10.11) (4.7.1)\n",
      "Note: you may need to restart the kernel to use updated packages.\n"
     ]
    }
   ],
   "source": [
    "%pip install pydantic==1.10.11 --user"
   ]
  },
  {
   "cell_type": "markdown",
   "id": "02f8fe43-4564-4af0-806c-5ba884003511",
   "metadata": {},
   "source": [
    "## Setup"
   ]
  },
  {
   "cell_type": "markdown",
   "id": "1d8cc8ea-3595-4324-809b-3aa3ce779618",
   "metadata": {},
   "source": [
    "### Documents URL Scraping"
   ]
  },
  {
   "cell_type": "code",
   "execution_count": 3,
   "id": "f5fd454a-7e5c-4a3f-97ae-fe5c3f04e122",
   "metadata": {
    "tags": []
   },
   "outputs": [
    {
     "name": "stdout",
     "output_type": "stream",
     "text": [
      "https://airflow.apache.org/docs/apache-airflow/stable/integration.html\n",
      "https://airflow.apache.org/docs/apache-airflow/stable/stable-rest-api-ref.html\n",
      "https://airflow.apache.org/docs/apache-airflow/stable/tutorial/index.html\n",
      "https://airflow.apache.org/docs/apache-airflow/stable/configurations-ref.html\n",
      "https://airflow.apache.org/docs/apache-airflow/stable/core-concepts/index.html\n",
      "https://airflow.apache.org/docs/apache-airflow/stable/\n",
      "https://airflow.apache.org/docs/apache-airflow/stable/start.html\n",
      "https://airflow.apache.org/docs/apache-airflow/stable/extra-packages-ref.html\n",
      "https://airflow.apache.org/docs/apache-airflow/stable/license.html\n",
      "https://airflow.apache.org/docs/apache-airflow/stable/release_notes.html\n",
      "https://airflow.apache.org/docs/apache-airflow/stable/cli-and-env-variables-ref.html\n",
      "https://airflow.apache.org/docs/apache-airflow/stable/deprecated-rest-api-ref.html\n",
      "https://airflow.apache.org/docs/apache-airflow/stable/public-airflow-interface.html\n",
      "https://airflow.apache.org/docs/apache-airflow/stable/migrations-ref.html\n",
      "https://airflow.apache.org/docs/apache-airflow/stable/project.html\n",
      "https://airflow.apache.org/docs/apache-airflow/stable/installation/index.html\n",
      "https://airflow.apache.org/docs/apache-airflow/stable/operators-and-hooks-ref.html\n",
      "https://airflow.apache.org/docs/apache-airflow/stable/best-practices.html\n",
      "https://airflow.apache.org/docs/apache-airflow/stable/release-process.html\n",
      "https://airflow.apache.org/docs/apache-airflow/stable/administration-and-deployment/index.html\n",
      "https://airflow.apache.org/docs/apache-airflow/stable/templates-ref.html\n",
      "https://airflow.apache.org/docs/apache-airflow/stable/authoring-and-scheduling/index.html\n",
      "https://airflow.apache.org/docs/apache-airflow/stable/faq.html\n",
      "https://airflow.apache.org/docs/apache-airflow/stable/ui.html\n",
      "https://airflow.apache.org/docs/apache-airflow/stable/security/index.html\n",
      "https://airflow.apache.org/docs/apache-airflow/stable/database-erd-ref.html\n",
      "https://airflow.apache.org/docs/apache-airflow/stable/howto/index.html\n",
      "https://airflow.apache.org/docs/apache-airflow/stable/privacy_notice.html\n"
     ]
    }
   ],
   "source": [
    "from pathlib import Path\n",
    "from urllib.parse import urlparse\n",
    "from bs4 import BeautifulSoup\n",
    "import requests\n",
    "\n",
    "root_url = \"https://airflow.apache.org/docs/apache-airflow/stable/\"\n",
    "root_response = requests.get(root_url)\n",
    "root_html = root_response.content.decode(\"utf-8\")\n",
    "soup = BeautifulSoup(root_html, 'html.parser')\n",
    "\n",
    "root_url_parts = urlparse(root_url)\n",
    "root_links = soup.find_all(\"a\", attrs={\"class\": \"reference internal\"})\n",
    "\n",
    "result = set()\n",
    "for root_link in root_links:\n",
    "    path = root_url_parts.path + root_link.get(\"href\")\n",
    "    path = str(Path(path).resolve())\n",
    "    path = urlparse(path).path\n",
    "    url = f\"{root_url_parts.scheme}://{root_url_parts.netloc}{path}\"\n",
    "    result.add(url)\n",
    "urls = list(result)\n",
    "print(*urls, sep=\"\\n\")"
   ]
  },
  {
   "cell_type": "code",
   "execution_count": 4,
   "id": "0c302bf0-b2a0-44a2-b395-06b7d73b8291",
   "metadata": {
    "tags": []
   },
   "outputs": [
    {
     "name": "stdout",
     "output_type": "stream",
     "text": [
      "Total documents:  1488\n"
     ]
    }
   ],
   "source": [
    "from langchain.document_loaders import WebBaseLoader\n",
    "from langchain.text_splitter import RecursiveCharacterTextSplitter\n",
    "from langchain.text_splitter import CharacterTextSplitter\n",
    "\n",
    "loader = WebBaseLoader(urls)\n",
    "documents = loader.load()\n",
    "\n",
    "# Select one of the following:\n",
    "text_splitter = RecursiveCharacterTextSplitter(chunk_size=1000, chunk_overlap=100)\n",
    "# text_splitter = CharacterTextSplitter.from_tiktoken_encoder(chunk_size=1000, chunk_overlap=100)\n",
    "\n",
    "splitted_documents = text_splitter.split_documents(documents)\n",
    "print(\"Total documents: \", len(splitted_documents))"
   ]
  },
  {
   "cell_type": "code",
   "execution_count": 5,
   "id": "5077025e-c22b-4606-aeed-46ef66cb9e2d",
   "metadata": {
    "tags": []
   },
   "outputs": [
    {
     "data": {
      "text/html": [
       "<div>\n",
       "<style scoped>\n",
       "    .dataframe tbody tr th:only-of-type {\n",
       "        vertical-align: middle;\n",
       "    }\n",
       "\n",
       "    .dataframe tbody tr th {\n",
       "        vertical-align: top;\n",
       "    }\n",
       "\n",
       "    .dataframe thead th {\n",
       "        text-align: right;\n",
       "    }\n",
       "</style>\n",
       "<table border=\"1\" class=\"dataframe\">\n",
       "  <thead>\n",
       "    <tr style=\"text-align: right;\">\n",
       "      <th></th>\n",
       "      <th>page_content</th>\n",
       "      <th>source</th>\n",
       "      <th>title</th>\n",
       "      <th>language</th>\n",
       "    </tr>\n",
       "  </thead>\n",
       "  <tbody>\n",
       "    <tr>\n",
       "      <th>0</th>\n",
       "      <td>Integration — Airflow Documentation\\n\\n\\n\\n\\n\\...</td>\n",
       "      <td>https://airflow.apache.org/docs/apache-airflow...</td>\n",
       "      <td>Integration — Airflow Documentation</td>\n",
       "      <td>en</td>\n",
       "    </tr>\n",
       "    <tr>\n",
       "      <th>1</th>\n",
       "      <td>Announcements\\n                            \\n\\...</td>\n",
       "      <td>https://airflow.apache.org/docs/apache-airflow...</td>\n",
       "      <td>Integration — Airflow Documentation</td>\n",
       "      <td>en</td>\n",
       "    </tr>\n",
       "    <tr>\n",
       "      <th>2</th>\n",
       "      <td>Database Migrations\\nDatabase ERD Schema\\n\\n\\n...</td>\n",
       "      <td>https://airflow.apache.org/docs/apache-airflow...</td>\n",
       "      <td>Integration — Airflow Documentation</td>\n",
       "      <td>en</td>\n",
       "    </tr>\n",
       "    <tr>\n",
       "      <th>3</th>\n",
       "      <td>It also has integration with Sentry service fo...</td>\n",
       "      <td>https://airflow.apache.org/docs/apache-airflow...</td>\n",
       "      <td>Integration — Airflow Documentation</td>\n",
       "      <td>en</td>\n",
       "    </tr>\n",
       "    <tr>\n",
       "      <th>4</th>\n",
       "      <td>Airflow REST API</td>\n",
       "      <td>https://airflow.apache.org/docs/apache-airflow...</td>\n",
       "      <td>Airflow REST API</td>\n",
       "      <td>Unknown</td>\n",
       "    </tr>\n",
       "  </tbody>\n",
       "</table>\n",
       "</div>"
      ],
      "text/plain": [
       "                                        page_content  \\\n",
       "0  Integration — Airflow Documentation\\n\\n\\n\\n\\n\\...   \n",
       "1  Announcements\\n                            \\n\\...   \n",
       "2  Database Migrations\\nDatabase ERD Schema\\n\\n\\n...   \n",
       "3  It also has integration with Sentry service fo...   \n",
       "4                                   Airflow REST API   \n",
       "\n",
       "                                              source  \\\n",
       "0  https://airflow.apache.org/docs/apache-airflow...   \n",
       "1  https://airflow.apache.org/docs/apache-airflow...   \n",
       "2  https://airflow.apache.org/docs/apache-airflow...   \n",
       "3  https://airflow.apache.org/docs/apache-airflow...   \n",
       "4  https://airflow.apache.org/docs/apache-airflow...   \n",
       "\n",
       "                                 title language  \n",
       "0  Integration — Airflow Documentation       en  \n",
       "1  Integration — Airflow Documentation       en  \n",
       "2  Integration — Airflow Documentation       en  \n",
       "3  Integration — Airflow Documentation       en  \n",
       "4                     Airflow REST API  Unknown  "
      ]
     },
     "execution_count": 5,
     "metadata": {},
     "output_type": "execute_result"
    }
   ],
   "source": [
    "import pandas as pd\n",
    "\n",
    "page_contents = []\n",
    "sources = []\n",
    "titles = []\n",
    "languages = []\n",
    "\n",
    "for document in splitted_documents:\n",
    "    page_contents.append(document.page_content)\n",
    "    if document.metadata:\n",
    "        sources.append(document.metadata.get('source', \"Unknown\"))\n",
    "        titles.append(document.metadata.get('title', \"Unknown\"))\n",
    "        languages.append(document.metadata.get('language', \"Unknown\"))\n",
    "\n",
    "documents_df = pd.DataFrame({\n",
    "    'page_content': page_contents,\n",
    "    'source': sources,\n",
    "    'title': titles,\n",
    "    'language': languages\n",
    "})\n",
    "documents_df.fillna(\"Unknown\", inplace=True)\n",
    "documents_df.head()"
   ]
  },
  {
   "cell_type": "code",
   "execution_count": 6,
   "id": "de23fd28-8073-4b58-8860-259e2c599823",
   "metadata": {
    "tags": []
   },
   "outputs": [],
   "source": [
    "# Replace \\n and \\t with a space\n",
    "documents_df[\"page_content\"] = documents_df[\"page_content\"].replace('\\n', ' ', regex=True)\n",
    "documents_df[\"page_content\"] = documents_df[\"page_content\"].replace('\\t', ' ', regex=True)\n",
    "# Remove leading and trailing spaces\n",
    "documents_df[\"page_content\"] = documents_df[\"page_content\"].str.strip()"
   ]
  },
  {
   "cell_type": "code",
   "execution_count": 7,
   "id": "2cad5690-fb66-4655-a09d-b0e06e9d0c91",
   "metadata": {
    "tags": []
   },
   "outputs": [
    {
     "data": {
      "text/html": [
       "<div>\n",
       "<style scoped>\n",
       "    .dataframe tbody tr th:only-of-type {\n",
       "        vertical-align: middle;\n",
       "    }\n",
       "\n",
       "    .dataframe tbody tr th {\n",
       "        vertical-align: top;\n",
       "    }\n",
       "\n",
       "    .dataframe thead th {\n",
       "        text-align: right;\n",
       "    }\n",
       "</style>\n",
       "<table border=\"1\" class=\"dataframe\">\n",
       "  <thead>\n",
       "    <tr style=\"text-align: right;\">\n",
       "      <th></th>\n",
       "      <th>page_content</th>\n",
       "      <th>source</th>\n",
       "      <th>title</th>\n",
       "      <th>language</th>\n",
       "    </tr>\n",
       "  </thead>\n",
       "  <tbody>\n",
       "    <tr>\n",
       "      <th>0</th>\n",
       "      <td>Integration — Airflow Documentation           ...</td>\n",
       "      <td>https://airflow.apache.org/docs/apache-airflow...</td>\n",
       "      <td>Integration — Airflow Documentation</td>\n",
       "      <td>en</td>\n",
       "    </tr>\n",
       "    <tr>\n",
       "      <th>1</th>\n",
       "      <td>Announcements                                 ...</td>\n",
       "      <td>https://airflow.apache.org/docs/apache-airflow...</td>\n",
       "      <td>Integration — Airflow Documentation</td>\n",
       "      <td>en</td>\n",
       "    </tr>\n",
       "    <tr>\n",
       "      <th>2</th>\n",
       "      <td>Database Migrations Database ERD Schema       ...</td>\n",
       "      <td>https://airflow.apache.org/docs/apache-airflow...</td>\n",
       "      <td>Integration — Airflow Documentation</td>\n",
       "      <td>en</td>\n",
       "    </tr>\n",
       "    <tr>\n",
       "      <th>3</th>\n",
       "      <td>It also has integration with Sentry service fo...</td>\n",
       "      <td>https://airflow.apache.org/docs/apache-airflow...</td>\n",
       "      <td>Integration — Airflow Documentation</td>\n",
       "      <td>en</td>\n",
       "    </tr>\n",
       "    <tr>\n",
       "      <th>4</th>\n",
       "      <td>Airflow REST API</td>\n",
       "      <td>https://airflow.apache.org/docs/apache-airflow...</td>\n",
       "      <td>Airflow REST API</td>\n",
       "      <td>Unknown</td>\n",
       "    </tr>\n",
       "  </tbody>\n",
       "</table>\n",
       "</div>"
      ],
      "text/plain": [
       "                                        page_content  \\\n",
       "0  Integration — Airflow Documentation           ...   \n",
       "1  Announcements                                 ...   \n",
       "2  Database Migrations Database ERD Schema       ...   \n",
       "3  It also has integration with Sentry service fo...   \n",
       "4                                   Airflow REST API   \n",
       "\n",
       "                                              source  \\\n",
       "0  https://airflow.apache.org/docs/apache-airflow...   \n",
       "1  https://airflow.apache.org/docs/apache-airflow...   \n",
       "2  https://airflow.apache.org/docs/apache-airflow...   \n",
       "3  https://airflow.apache.org/docs/apache-airflow...   \n",
       "4  https://airflow.apache.org/docs/apache-airflow...   \n",
       "\n",
       "                                 title language  \n",
       "0  Integration — Airflow Documentation       en  \n",
       "1  Integration — Airflow Documentation       en  \n",
       "2  Integration — Airflow Documentation       en  \n",
       "3  Integration — Airflow Documentation       en  \n",
       "4                     Airflow REST API  Unknown  "
      ]
     },
     "execution_count": 7,
     "metadata": {},
     "output_type": "execute_result"
    }
   ],
   "source": [
    "documents_df.head()"
   ]
  },
  {
   "cell_type": "code",
   "execution_count": 8,
   "id": "42988831-2705-4103-af39-fe651bd9a4ee",
   "metadata": {
    "tags": []
   },
   "outputs": [],
   "source": [
    "from urllib.parse import urlparse\n",
    "\n",
    "def decompose_url(url):\n",
    "    parsed = urlparse(url)\n",
    "    \n",
    "    # The root url will be the scheme plus '://' plus the netloc\n",
    "    root_url = parsed.scheme + \"://\" + parsed.netloc\n",
    "    \n",
    "    # The path will be split into parts by '/'\n",
    "    path_parts = parsed.path.strip('/').split('/')\n",
    "    \n",
    "    # The section and page depend on how many parts there are\n",
    "    if len(path_parts) >= 2:\n",
    "        # The section will be the second to last part\n",
    "        section = path_parts[-2]\n",
    "        # The page will be the last part\n",
    "        page = path_parts[-1]\n",
    "    elif len(path_parts) == 1:\n",
    "        # If there's only one part, we'll assume it's the page\n",
    "        section = None\n",
    "        page = path_parts[0]\n",
    "    else:\n",
    "        # If there are no parts, then both section and page will be None\n",
    "        section = None\n",
    "        page = None\n",
    "    \n",
    "    return root_url, section, page\n",
    "\n",
    "# Apply the function to the 'source' column of your dataframe\n",
    "documents_df['root_url'], documents_df['section'], documents_df['page'] = zip(*documents_df['source'].map(decompose_url))\n"
   ]
  },
  {
   "cell_type": "code",
   "execution_count": 9,
   "id": "80a09926-f15c-42d1-a07a-39cbd25459f8",
   "metadata": {
    "tags": []
   },
   "outputs": [
    {
     "data": {
      "text/html": [
       "<div>\n",
       "<style scoped>\n",
       "    .dataframe tbody tr th:only-of-type {\n",
       "        vertical-align: middle;\n",
       "    }\n",
       "\n",
       "    .dataframe tbody tr th {\n",
       "        vertical-align: top;\n",
       "    }\n",
       "\n",
       "    .dataframe thead th {\n",
       "        text-align: right;\n",
       "    }\n",
       "</style>\n",
       "<table border=\"1\" class=\"dataframe\">\n",
       "  <thead>\n",
       "    <tr style=\"text-align: right;\">\n",
       "      <th></th>\n",
       "      <th>page_content</th>\n",
       "      <th>source</th>\n",
       "      <th>title</th>\n",
       "      <th>language</th>\n",
       "      <th>root_url</th>\n",
       "      <th>section</th>\n",
       "      <th>page</th>\n",
       "    </tr>\n",
       "  </thead>\n",
       "  <tbody>\n",
       "    <tr>\n",
       "      <th>0</th>\n",
       "      <td>Integration — Airflow Documentation           ...</td>\n",
       "      <td>https://airflow.apache.org/docs/apache-airflow...</td>\n",
       "      <td>Integration — Airflow Documentation</td>\n",
       "      <td>en</td>\n",
       "      <td>https://airflow.apache.org</td>\n",
       "      <td>stable</td>\n",
       "      <td>integration.html</td>\n",
       "    </tr>\n",
       "    <tr>\n",
       "      <th>1</th>\n",
       "      <td>Announcements                                 ...</td>\n",
       "      <td>https://airflow.apache.org/docs/apache-airflow...</td>\n",
       "      <td>Integration — Airflow Documentation</td>\n",
       "      <td>en</td>\n",
       "      <td>https://airflow.apache.org</td>\n",
       "      <td>stable</td>\n",
       "      <td>integration.html</td>\n",
       "    </tr>\n",
       "    <tr>\n",
       "      <th>2</th>\n",
       "      <td>Database Migrations Database ERD Schema       ...</td>\n",
       "      <td>https://airflow.apache.org/docs/apache-airflow...</td>\n",
       "      <td>Integration — Airflow Documentation</td>\n",
       "      <td>en</td>\n",
       "      <td>https://airflow.apache.org</td>\n",
       "      <td>stable</td>\n",
       "      <td>integration.html</td>\n",
       "    </tr>\n",
       "    <tr>\n",
       "      <th>3</th>\n",
       "      <td>It also has integration with Sentry service fo...</td>\n",
       "      <td>https://airflow.apache.org/docs/apache-airflow...</td>\n",
       "      <td>Integration — Airflow Documentation</td>\n",
       "      <td>en</td>\n",
       "      <td>https://airflow.apache.org</td>\n",
       "      <td>stable</td>\n",
       "      <td>integration.html</td>\n",
       "    </tr>\n",
       "    <tr>\n",
       "      <th>4</th>\n",
       "      <td>Airflow REST API</td>\n",
       "      <td>https://airflow.apache.org/docs/apache-airflow...</td>\n",
       "      <td>Airflow REST API</td>\n",
       "      <td>Unknown</td>\n",
       "      <td>https://airflow.apache.org</td>\n",
       "      <td>stable</td>\n",
       "      <td>stable-rest-api-ref.html</td>\n",
       "    </tr>\n",
       "  </tbody>\n",
       "</table>\n",
       "</div>"
      ],
      "text/plain": [
       "                                        page_content  \\\n",
       "0  Integration — Airflow Documentation           ...   \n",
       "1  Announcements                                 ...   \n",
       "2  Database Migrations Database ERD Schema       ...   \n",
       "3  It also has integration with Sentry service fo...   \n",
       "4                                   Airflow REST API   \n",
       "\n",
       "                                              source  \\\n",
       "0  https://airflow.apache.org/docs/apache-airflow...   \n",
       "1  https://airflow.apache.org/docs/apache-airflow...   \n",
       "2  https://airflow.apache.org/docs/apache-airflow...   \n",
       "3  https://airflow.apache.org/docs/apache-airflow...   \n",
       "4  https://airflow.apache.org/docs/apache-airflow...   \n",
       "\n",
       "                                 title language                    root_url  \\\n",
       "0  Integration — Airflow Documentation       en  https://airflow.apache.org   \n",
       "1  Integration — Airflow Documentation       en  https://airflow.apache.org   \n",
       "2  Integration — Airflow Documentation       en  https://airflow.apache.org   \n",
       "3  Integration — Airflow Documentation       en  https://airflow.apache.org   \n",
       "4                     Airflow REST API  Unknown  https://airflow.apache.org   \n",
       "\n",
       "  section                      page  \n",
       "0  stable          integration.html  \n",
       "1  stable          integration.html  \n",
       "2  stable          integration.html  \n",
       "3  stable          integration.html  \n",
       "4  stable  stable-rest-api-ref.html  "
      ]
     },
     "execution_count": 9,
     "metadata": {},
     "output_type": "execute_result"
    }
   ],
   "source": [
    "documents_df.head()"
   ]
  },
  {
   "cell_type": "code",
   "execution_count": 10,
   "id": "c6ee6180-cf0d-4afd-8138-c2d88d22ad0b",
   "metadata": {
    "tags": []
   },
   "outputs": [
    {
     "data": {
      "text/plain": [
       "page_content    0\n",
       "source          0\n",
       "title           0\n",
       "language        0\n",
       "root_url        0\n",
       "section         0\n",
       "page            0\n",
       "dtype: int64"
      ]
     },
     "execution_count": 10,
     "metadata": {},
     "output_type": "execute_result"
    }
   ],
   "source": [
    "documents_df.isnull().sum()"
   ]
  },
  {
   "cell_type": "code",
   "execution_count": 11,
   "id": "c7999a66-e2d9-431d-9ec1-86905749ca34",
   "metadata": {
    "tags": []
   },
   "outputs": [],
   "source": [
    "documents_df.to_parquet('./parquets/documents_with_rec-char-split.parquet')"
   ]
  },
  {
   "cell_type": "markdown",
   "id": "0422fd15-43d5-4dd6-b792-3a1d67fa65f4",
   "metadata": {},
   "source": [
    "## Storage"
   ]
  },
  {
   "cell_type": "code",
   "execution_count": 17,
   "id": "a8162035-d238-4557-b066-58a649599eb9",
   "metadata": {
    "tags": []
   },
   "outputs": [],
   "source": [
    "import chromadb\n",
    "from chromadb.config import Settings\n",
    "client = chromadb.Client(Settings(\n",
    "    chroma_db_impl=\"duckdb+parquet\",\n",
    "    persist_directory=\"./db/\"\n",
    "))"
   ]
  },
  {
   "cell_type": "code",
   "execution_count": 24,
   "id": "28c89d14-9df5-4e59-a330-84772ce51eb9",
   "metadata": {},
   "outputs": [],
   "source": [
    "client.delete_collection(name=collection_name)"
   ]
  },
  {
   "cell_type": "code",
   "execution_count": 27,
   "id": "c878a393-b82c-4c69-a91f-16d25df820b9",
   "metadata": {
    "tags": []
   },
   "outputs": [
    {
     "data": {
      "application/vnd.jupyter.widget-view+json": {
       "model_id": "b05b710cf1c848bc81e43a09f8212082",
       "version_major": 2,
       "version_minor": 0
      },
      "text/plain": [
       "Downloading (…)a8e1d/.gitattributes:   0%|          | 0.00/1.18k [00:00<?, ?B/s]"
      ]
     },
     "metadata": {},
     "output_type": "display_data"
    },
    {
     "data": {
      "application/vnd.jupyter.widget-view+json": {
       "model_id": "096fc5eeabc64a2caa0e84ed517f334b",
       "version_major": 2,
       "version_minor": 0
      },
      "text/plain": [
       "Downloading (…)_Pooling/config.json:   0%|          | 0.00/190 [00:00<?, ?B/s]"
      ]
     },
     "metadata": {},
     "output_type": "display_data"
    },
    {
     "data": {
      "application/vnd.jupyter.widget-view+json": {
       "model_id": "6734201dab294c16bf82493967ca174b",
       "version_major": 2,
       "version_minor": 0
      },
      "text/plain": [
       "Downloading (…)b20bca8e1d/README.md:   0%|          | 0.00/10.6k [00:00<?, ?B/s]"
      ]
     },
     "metadata": {},
     "output_type": "display_data"
    },
    {
     "data": {
      "application/vnd.jupyter.widget-view+json": {
       "model_id": "c5baa6de822148cbbec3e53fc0ad7d3d",
       "version_major": 2,
       "version_minor": 0
      },
      "text/plain": [
       "Downloading (…)0bca8e1d/config.json:   0%|          | 0.00/571 [00:00<?, ?B/s]"
      ]
     },
     "metadata": {},
     "output_type": "display_data"
    },
    {
     "data": {
      "application/vnd.jupyter.widget-view+json": {
       "model_id": "487b0c4b5fd4495e81d7f89ec50ae15e",
       "version_major": 2,
       "version_minor": 0
      },
      "text/plain": [
       "Downloading (…)ce_transformers.json:   0%|          | 0.00/116 [00:00<?, ?B/s]"
      ]
     },
     "metadata": {},
     "output_type": "display_data"
    },
    {
     "data": {
      "application/vnd.jupyter.widget-view+json": {
       "model_id": "3509d9928dae44c5abb0bdd5922d7876",
       "version_major": 2,
       "version_minor": 0
      },
      "text/plain": [
       "Downloading (…)e1d/data_config.json:   0%|          | 0.00/39.3k [00:00<?, ?B/s]"
      ]
     },
     "metadata": {},
     "output_type": "display_data"
    },
    {
     "data": {
      "application/vnd.jupyter.widget-view+json": {
       "model_id": "1028766825ca4bdbb4208ed38131141c",
       "version_major": 2,
       "version_minor": 0
      },
      "text/plain": [
       "Downloading pytorch_model.bin:   0%|          | 0.00/438M [00:00<?, ?B/s]"
      ]
     },
     "metadata": {},
     "output_type": "display_data"
    },
    {
     "data": {
      "application/vnd.jupyter.widget-view+json": {
       "model_id": "8a8e33f66d3e49159a2b706dc3ed928b",
       "version_major": 2,
       "version_minor": 0
      },
      "text/plain": [
       "Downloading (…)nce_bert_config.json:   0%|          | 0.00/53.0 [00:00<?, ?B/s]"
      ]
     },
     "metadata": {},
     "output_type": "display_data"
    },
    {
     "data": {
      "application/vnd.jupyter.widget-view+json": {
       "model_id": "030f955dc1c240b5b15e324127c78dbc",
       "version_major": 2,
       "version_minor": 0
      },
      "text/plain": [
       "Downloading (…)cial_tokens_map.json:   0%|          | 0.00/239 [00:00<?, ?B/s]"
      ]
     },
     "metadata": {},
     "output_type": "display_data"
    },
    {
     "data": {
      "application/vnd.jupyter.widget-view+json": {
       "model_id": "1345da5e830a4da087c387249bed4ae7",
       "version_major": 2,
       "version_minor": 0
      },
      "text/plain": [
       "Downloading (…)a8e1d/tokenizer.json:   0%|          | 0.00/466k [00:00<?, ?B/s]"
      ]
     },
     "metadata": {},
     "output_type": "display_data"
    },
    {
     "data": {
      "application/vnd.jupyter.widget-view+json": {
       "model_id": "fac7fa9b4b654e4d8618da4fe5ce9038",
       "version_major": 2,
       "version_minor": 0
      },
      "text/plain": [
       "Downloading (…)okenizer_config.json:   0%|          | 0.00/363 [00:00<?, ?B/s]"
      ]
     },
     "metadata": {},
     "output_type": "display_data"
    },
    {
     "data": {
      "application/vnd.jupyter.widget-view+json": {
       "model_id": "fb0fc89a810d4cc9af284a5d2b95902b",
       "version_major": 2,
       "version_minor": 0
      },
      "text/plain": [
       "Downloading (…)8e1d/train_script.py:   0%|          | 0.00/13.1k [00:00<?, ?B/s]"
      ]
     },
     "metadata": {},
     "output_type": "display_data"
    },
    {
     "data": {
      "application/vnd.jupyter.widget-view+json": {
       "model_id": "ed3934b877e74476b5eb5b08b77aeaa3",
       "version_major": 2,
       "version_minor": 0
      },
      "text/plain": [
       "Downloading (…)b20bca8e1d/vocab.txt:   0%|          | 0.00/232k [00:00<?, ?B/s]"
      ]
     },
     "metadata": {},
     "output_type": "display_data"
    },
    {
     "data": {
      "application/vnd.jupyter.widget-view+json": {
       "model_id": "7a2c0b09e81a402687ec3ec1a6194397",
       "version_major": 2,
       "version_minor": 0
      },
      "text/plain": [
       "Downloading (…)bca8e1d/modules.json:   0%|          | 0.00/349 [00:00<?, ?B/s]"
      ]
     },
     "metadata": {},
     "output_type": "display_data"
    },
    {
     "name": "stdout",
     "output_type": "stream",
     "text": [
      "Creating collection: 'airflow_docs_stable'\n"
     ]
    }
   ],
   "source": [
    "from chromadb.utils import embedding_functions\n",
    "\n",
    "sentence_transformer_ef = embedding_functions.SentenceTransformerEmbeddingFunction(model_name=\"all-mpnet-base-v2\")\n",
    "collection_name = \"airflow_docs_stable\"\n",
    "\n",
    "if len(client.list_collections()) > 0 and collection_name in [\n",
    "    client.list_collections()[0].name\n",
    "]:\n",
    "    client.delete_collection(name=collection_name)\n",
    "print(f\"Creating collection: '{collection_name}'\")\n",
    "collection = client.create_collection(name=collection_name, embedding_function=sentence_transformer_ef)"
   ]
  },
  {
   "cell_type": "code",
   "execution_count": 28,
   "id": "67c648e1-3a32-461d-8a33-118667f1c8cd",
   "metadata": {
    "tags": []
   },
   "outputs": [],
   "source": [
    "for index, row in documents_df.iterrows():\n",
    "    if pd.notnull(row['source']) and pd.notnull(row['section']) and pd.notnull(row['page']):\n",
    "        metadata = {\n",
    "            'source': row['source'],\n",
    "            'section': row['section'],\n",
    "            'page': row['page']\n",
    "        }\n",
    "    collection.add(\n",
    "        documents=[row['page_content']],\n",
    "        metadatas=[metadata],\n",
    "        ids=[str(index)],\n",
    "    )"
   ]
  },
  {
   "cell_type": "code",
   "execution_count": 29,
   "id": "287c88d9-1198-4e88-961c-e1b47c965839",
   "metadata": {
    "tags": []
   },
   "outputs": [
    {
     "data": {
      "text/plain": [
       "True"
      ]
     },
     "execution_count": 29,
     "metadata": {},
     "output_type": "execute_result"
    }
   ],
   "source": [
    "client.persist()"
   ]
  },
  {
   "cell_type": "markdown",
   "id": "0ba79850-be47-4cba-8395-08f728755a5a",
   "metadata": {},
   "source": [
    "## Testing"
   ]
  },
  {
   "cell_type": "code",
   "execution_count": 30,
   "id": "0bf6c074-550c-421a-b493-038d359041c1",
   "metadata": {},
   "outputs": [
    {
     "name": "stdout",
     "output_type": "stream",
     "text": [
      "Using the Public Interface for DAG Authors¶  DAGs¶ The DAG is Airflow’s core entity that represents a recurring workflow. You can create a DAG by instantiating the DAG class in your DAG file. You can also instantiate them via :class::~airflow.models.dagbag.DagBag class that reads DAGs from a file or a folder. DAGs can also have parameters specified via :class::~airflow.models.param.Param class. Airflow has a set of example DAGs that you can use to learn how to write DAGs   airflow.example_dags   You can read more about DAGs in DAGs. References for the modules used in DAGs are here:   airflow.models.dag airflow.models.dagbag airflow.models.param     Operators¶ Operators allow for generation of certain types of tasks that become nodes in the DAG when instantiated. There are 3 main types of operators:\n",
      "\n",
      "Named Arguments¶  -D, --daemon Daemonize instead of running in the foreground Default: False  -p, --do-pickle Attempt to pickle the DAG object to send over to the workers, instead of letting workers run their version of the code Default: False  -l, --log-file Location of the log file  -n, --num-runs Set the number of runs to execute before exiting Default: -1  --pid PID file location  --stderr Redirect stderr to this file  --stdout Redirect stdout to this file  -S, --subdir File location or directory from which to look for the dag. Defaults to ‘[AIRFLOW_HOME]/dags’ where [AIRFLOW_HOME] is the value you set for ‘AIRFLOW_HOME’ config you set in ‘airflow.cfg’ Default: “[AIRFLOW_HOME]/dags”  -v, --verbose Make logging output more verbose Default: False      dags¶ Manage DAGs airflow dags [-h] COMMAND ...    Positional Arguments¶\n",
      "\n",
      "Positional Arguments¶  dag_id The id of the dag  execution_date The execution date of the DAG (optional)     Named Arguments¶  -c, --conf JSON string that gets pickled into the DagRun’s conf attribute  --imgcat-dagrun After completing the dag run, prints a diagram on the screen for the current DAG Run using the imgcat tool. Default: False  --save-dagrun After completing the backfill, saves the diagram for current DAG Run to the indicated file.  --show-dagrun After completing the backfill, shows the diagram for current DAG Run. The diagram is in DOT language Default: False  -S, --subdir File location or directory from which to look for the dag. Defaults to ‘[AIRFLOW_HOME]/dags’ where [AIRFLOW_HOME] is the value you set for ‘AIRFLOW_HOME’ config you set in ‘airflow.cfg’ Default: “[AIRFLOW_HOME]/dags”  -v, --verbose Make logging output more verbose Default: False\n"
     ]
    }
   ],
   "source": [
    "question = \"How to create a DAG?\"\n",
    "results = collection.query(\n",
    "    query_texts=[question],\n",
    "    n_results=3,\n",
    ")\n",
    "formatted_result = \"\\n\\n\".join(results[\"documents\"][0])\n",
    "print(formatted_result)"
   ]
  }
 ],
 "metadata": {
  "kernelspec": {
   "display_name": "Python 3 (ipykernel)",
   "language": "python",
   "name": "python3"
  },
  "language_info": {
   "codemirror_mode": {
    "name": "ipython",
    "version": 3
   },
   "file_extension": ".py",
   "mimetype": "text/x-python",
   "name": "python",
   "nbconvert_exporter": "python",
   "pygments_lexer": "ipython3",
   "version": "3.11.4"
  }
 },
 "nbformat": 4,
 "nbformat_minor": 5
}
