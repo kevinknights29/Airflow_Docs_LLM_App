{
 "cells": [
  {
   "cell_type": "markdown",
   "id": "2ce3b747-c705-406f-a6f0-17d8f2842189",
   "metadata": {},
   "source": [
    "# Llama-v2 7b for Retrieval Augmented Generation"
   ]
  },
  {
   "cell_type": "code",
   "execution_count": 9,
   "id": "b4496742-be76-4748-b1a0-f1425ea30b38",
   "metadata": {
    "execution": {
     "iopub.execute_input": "2023-07-22T03:52:00.676383Z",
     "iopub.status.busy": "2023-07-22T03:52:00.674821Z",
     "iopub.status.idle": "2023-07-22T03:52:02.349140Z",
     "shell.execute_reply": "2023-07-22T03:52:02.348359Z",
     "shell.execute_reply.started": "2023-07-22T03:52:00.676312Z"
    },
    "tags": []
   },
   "outputs": [
    {
     "name": "stdout",
     "output_type": "stream",
     "text": [
      "Requirement already satisfied: langchain in /opt/conda/lib/python3.11/site-packages (0.0.239)\n",
      "Requirement already satisfied: PyYAML>=5.4.1 in /opt/conda/lib/python3.11/site-packages (from langchain) (6.0)\n",
      "Requirement already satisfied: SQLAlchemy<3,>=1.4 in /opt/conda/lib/python3.11/site-packages (from langchain) (2.0.19)\n",
      "Requirement already satisfied: aiohttp<4.0.0,>=3.8.3 in /opt/conda/lib/python3.11/site-packages (from langchain) (3.8.5)\n",
      "Requirement already satisfied: dataclasses-json<0.6.0,>=0.5.7 in /opt/conda/lib/python3.11/site-packages (from langchain) (0.5.13)\n",
      "Requirement already satisfied: langsmith<0.1.0,>=0.0.11 in /opt/conda/lib/python3.11/site-packages (from langchain) (0.0.14)\n",
      "Requirement already satisfied: numexpr<3.0.0,>=2.8.4 in /opt/conda/lib/python3.11/site-packages (from langchain) (2.8.4)\n",
      "Requirement already satisfied: numpy<2,>=1 in /opt/conda/lib/python3.11/site-packages (from langchain) (1.24.4)\n",
      "Requirement already satisfied: openapi-schema-pydantic<2.0,>=1.2 in /opt/conda/lib/python3.11/site-packages (from langchain) (1.2.4)\n",
      "Requirement already satisfied: pydantic<2,>=1 in /opt/conda/lib/python3.11/site-packages (from langchain) (1.10.11)\n",
      "Requirement already satisfied: requests<3,>=2 in /opt/conda/lib/python3.11/site-packages (from langchain) (2.31.0)\n",
      "Requirement already satisfied: tenacity<9.0.0,>=8.1.0 in /opt/conda/lib/python3.11/site-packages (from langchain) (8.2.2)\n",
      "Requirement already satisfied: attrs>=17.3.0 in /opt/conda/lib/python3.11/site-packages (from aiohttp<4.0.0,>=3.8.3->langchain) (23.1.0)\n",
      "Requirement already satisfied: charset-normalizer<4.0,>=2.0 in /opt/conda/lib/python3.11/site-packages (from aiohttp<4.0.0,>=3.8.3->langchain) (3.2.0)\n",
      "Requirement already satisfied: multidict<7.0,>=4.5 in /opt/conda/lib/python3.11/site-packages (from aiohttp<4.0.0,>=3.8.3->langchain) (6.0.4)\n",
      "Requirement already satisfied: async-timeout<5.0,>=4.0.0a3 in /opt/conda/lib/python3.11/site-packages (from aiohttp<4.0.0,>=3.8.3->langchain) (4.0.2)\n",
      "Requirement already satisfied: yarl<2.0,>=1.0 in /opt/conda/lib/python3.11/site-packages (from aiohttp<4.0.0,>=3.8.3->langchain) (1.9.2)\n",
      "Requirement already satisfied: frozenlist>=1.1.1 in /opt/conda/lib/python3.11/site-packages (from aiohttp<4.0.0,>=3.8.3->langchain) (1.4.0)\n",
      "Requirement already satisfied: aiosignal>=1.1.2 in /opt/conda/lib/python3.11/site-packages (from aiohttp<4.0.0,>=3.8.3->langchain) (1.3.1)\n",
      "Requirement already satisfied: marshmallow<4.0.0,>=3.18.0 in /opt/conda/lib/python3.11/site-packages (from dataclasses-json<0.6.0,>=0.5.7->langchain) (3.20.1)\n",
      "Requirement already satisfied: typing-inspect<1,>=0.4.0 in /opt/conda/lib/python3.11/site-packages (from dataclasses-json<0.6.0,>=0.5.7->langchain) (0.9.0)\n",
      "Requirement already satisfied: typing-extensions>=4.2.0 in /opt/conda/lib/python3.11/site-packages (from pydantic<2,>=1->langchain) (4.7.1)\n",
      "Requirement already satisfied: idna<4,>=2.5 in /opt/conda/lib/python3.11/site-packages (from requests<3,>=2->langchain) (3.4)\n",
      "Requirement already satisfied: urllib3<3,>=1.21.1 in /opt/conda/lib/python3.11/site-packages (from requests<3,>=2->langchain) (2.0.3)\n",
      "Requirement already satisfied: certifi>=2017.4.17 in /opt/conda/lib/python3.11/site-packages (from requests<3,>=2->langchain) (2023.5.7)\n",
      "Requirement already satisfied: greenlet!=0.4.17 in /opt/conda/lib/python3.11/site-packages (from SQLAlchemy<3,>=1.4->langchain) (2.0.2)\n",
      "Requirement already satisfied: packaging>=17.0 in /opt/conda/lib/python3.11/site-packages (from marshmallow<4.0.0,>=3.18.0->dataclasses-json<0.6.0,>=0.5.7->langchain) (23.1)\n",
      "Requirement already satisfied: mypy-extensions>=0.3.0 in /opt/conda/lib/python3.11/site-packages (from typing-inspect<1,>=0.4.0->dataclasses-json<0.6.0,>=0.5.7->langchain) (1.0.0)\n",
      "Note: you may need to restart the kernel to use updated packages.\n"
     ]
    }
   ],
   "source": [
    "%pip install langchain --user"
   ]
  },
  {
   "cell_type": "code",
   "execution_count": 4,
   "id": "f3bae8d6-6181-4aaf-b736-a2d5f6ee351f",
   "metadata": {
    "execution": {
     "iopub.execute_input": "2023-07-22T03:41:19.646763Z",
     "iopub.status.busy": "2023-07-22T03:41:19.644744Z",
     "iopub.status.idle": "2023-07-22T03:41:32.248035Z",
     "shell.execute_reply": "2023-07-22T03:41:32.246975Z",
     "shell.execute_reply.started": "2023-07-22T03:41:19.646637Z"
    },
    "tags": []
   },
   "outputs": [
    {
     "name": "stdout",
     "output_type": "stream",
     "text": [
      "Collecting llama-cpp-python\n",
      "  Downloading llama_cpp_python-0.1.74.tar.gz (1.6 MB)\n",
      "\u001b[2K     \u001b[90m━━━━━━━━━━━━━━━━━━━━━━━━━━━━━━━━━━━━━━━━\u001b[0m \u001b[32m1.6/1.6 MB\u001b[0m \u001b[31m3.6 MB/s\u001b[0m eta \u001b[36m0:00:00\u001b[0m00:01\u001b[0m00:01\u001b[0m0m\n",
      "\u001b[?25h  Installing build dependencies ... \u001b[?25ldone\n",
      "\u001b[?25h  Getting requirements to build wheel ... \u001b[?25ldone\n",
      "\u001b[?25h  Preparing metadata (pyproject.toml) ... \u001b[?25ldone\n",
      "\u001b[?25hRequirement already satisfied: typing-extensions>=4.5.0 in /opt/conda/lib/python3.11/site-packages (from llama-cpp-python) (4.7.1)\n",
      "Requirement already satisfied: numpy>=1.20.0 in /opt/conda/lib/python3.11/site-packages (from llama-cpp-python) (1.24.4)\n",
      "Collecting diskcache>=5.6.1 (from llama-cpp-python)\n",
      "  Downloading diskcache-5.6.1-py3-none-any.whl (45 kB)\n",
      "\u001b[2K     \u001b[90m━━━━━━━━━━━━━━━━━━━━━━━━━━━━━━━━━━━━━━━━\u001b[0m \u001b[32m45.6/45.6 kB\u001b[0m \u001b[31m5.9 MB/s\u001b[0m eta \u001b[36m0:00:00\u001b[0m\n",
      "\u001b[?25hBuilding wheels for collected packages: llama-cpp-python\n",
      "  Building wheel for llama-cpp-python (pyproject.toml) ... \u001b[?25ldone\n",
      "\u001b[?25h  Created wheel for llama-cpp-python: filename=llama_cpp_python-0.1.74-cp311-cp311-linux_aarch64.whl size=622436 sha256=cedb7ff4b649622132974c1c8fcee40a50bf3b4eef7b56ac874d263a84eceacb\n",
      "  Stored in directory: /home/jovyan/.cache/pip/wheels/3d/c9/d3/8515621dcf8921489f15fa822ae187ea2de185e92950119055\n",
      "Successfully built llama-cpp-python\n",
      "Installing collected packages: diskcache, llama-cpp-python\n",
      "Successfully installed diskcache-5.6.1 llama-cpp-python-0.1.74\n"
     ]
    }
   ],
   "source": [
    "!CMAKE_ARGS=\"-DLLAMA_CUBLAS=on\" FORCE_CMAKE=1 pip install llama-cpp-python"
   ]
  },
  {
   "cell_type": "code",
   "execution_count": 15,
   "id": "4091d411-dbb8-42be-838f-5d13af8f8c9e",
   "metadata": {
    "execution": {
     "iopub.execute_input": "2023-07-22T05:38:43.816909Z",
     "iopub.status.busy": "2023-07-22T05:38:43.815193Z",
     "iopub.status.idle": "2023-07-22T05:39:59.565208Z",
     "shell.execute_reply": "2023-07-22T05:39:59.561461Z",
     "shell.execute_reply.started": "2023-07-22T05:38:43.816788Z"
    },
    "tags": []
   },
   "outputs": [
    {
     "name": "stdout",
     "output_type": "stream",
     "text": [
      "--2023-07-22 05:38:44--  https://huggingface.co/TheBloke/Llama-2-7B-Chat-GGML/resolve/main/llama-2-7b-chat.ggmlv3.q4_0.bin\n",
      "Resolving huggingface.co (huggingface.co)... 65.8.178.118, 65.8.178.27, 65.8.178.93, ...\n",
      "Connecting to huggingface.co (huggingface.co)|65.8.178.118|:443... connected.\n",
      "HTTP request sent, awaiting response... 302 Found\n",
      "Location: https://cdn-lfs.huggingface.co/repos/30/e3/30e3aca7233f7337633262ff6d59dd98559ecd8982e7419b39752c8d0daae1ca/8daa9615cce30c259a9555b1cc250d461d1bc69980a274b44d7eda0be78076d8?response-content-disposition=attachment%3B+filename*%3DUTF-8%27%27llama-2-7b-chat.ggmlv3.q4_0.bin%3B+filename%3D%22llama-2-7b-chat.ggmlv3.q4_0.bin%22%3B&response-content-type=application%2Foctet-stream&Expires=1690261102&Policy=eyJTdGF0ZW1lbnQiOlt7IkNvbmRpdGlvbiI6eyJEYXRlTGVzc1RoYW4iOnsiQVdTOkVwb2NoVGltZSI6MTY5MDI2MTEwMn19LCJSZXNvdXJjZSI6Imh0dHBzOi8vY2RuLWxmcy5odWdnaW5nZmFjZS5jby9yZXBvcy8zMC9lMy8zMGUzYWNhNzIzM2Y3MzM3NjMzMjYyZmY2ZDU5ZGQ5ODU1OWVjZDg5ODJlNzQxOWIzOTc1MmM4ZDBkYWFlMWNhLzhkYWE5NjE1Y2NlMzBjMjU5YTk1NTViMWNjMjUwZDQ2MWQxYmM2OTk4MGEyNzRiNDRkN2VkYTBiZTc4MDc2ZDg%7EcmVzcG9uc2UtY29udGVudC1kaXNwb3NpdGlvbj0qJnJlc3BvbnNlLWNvbnRlbnQtdHlwZT0qIn1dfQ__&Signature=vIotTe3zj6pvirWQYODsxQyaKPepLFZ2lDu2MiAwJQNQyo1FIrDkT2uuHbtfRYXV%7EFq2VUtSY86KtuXuxa7HcqTV7hggfoV-wcNaHR%7ESLHgtk%7EUmk57WvcbdT3OKNncCpN7QQeL1hjuv8TDg41GFiCI-samJkZSHQPdmuWGiA1Cd1fSrLnh6EPcWS-IhfobfGgN5MWuD8wBEuVG-UL97LJCZR5MQ661hG6g3y-HwA2mZdQV%7EGDqL2NFkeCR1-pw24xsKfD-nUGyNlJFb6CLzCCtAsdBMMQMa93l%7EW20YjwIUyQv-GrMk8Q1pkcvn8pD1hametKy9DEj%7EW587SW%7EUjg__&Key-Pair-Id=KVTP0A1DKRTAX [following]\n",
      "--2023-07-22 05:38:44--  https://cdn-lfs.huggingface.co/repos/30/e3/30e3aca7233f7337633262ff6d59dd98559ecd8982e7419b39752c8d0daae1ca/8daa9615cce30c259a9555b1cc250d461d1bc69980a274b44d7eda0be78076d8?response-content-disposition=attachment%3B+filename*%3DUTF-8%27%27llama-2-7b-chat.ggmlv3.q4_0.bin%3B+filename%3D%22llama-2-7b-chat.ggmlv3.q4_0.bin%22%3B&response-content-type=application%2Foctet-stream&Expires=1690261102&Policy=eyJTdGF0ZW1lbnQiOlt7IkNvbmRpdGlvbiI6eyJEYXRlTGVzc1RoYW4iOnsiQVdTOkVwb2NoVGltZSI6MTY5MDI2MTEwMn19LCJSZXNvdXJjZSI6Imh0dHBzOi8vY2RuLWxmcy5odWdnaW5nZmFjZS5jby9yZXBvcy8zMC9lMy8zMGUzYWNhNzIzM2Y3MzM3NjMzMjYyZmY2ZDU5ZGQ5ODU1OWVjZDg5ODJlNzQxOWIzOTc1MmM4ZDBkYWFlMWNhLzhkYWE5NjE1Y2NlMzBjMjU5YTk1NTViMWNjMjUwZDQ2MWQxYmM2OTk4MGEyNzRiNDRkN2VkYTBiZTc4MDc2ZDg%7EcmVzcG9uc2UtY29udGVudC1kaXNwb3NpdGlvbj0qJnJlc3BvbnNlLWNvbnRlbnQtdHlwZT0qIn1dfQ__&Signature=vIotTe3zj6pvirWQYODsxQyaKPepLFZ2lDu2MiAwJQNQyo1FIrDkT2uuHbtfRYXV%7EFq2VUtSY86KtuXuxa7HcqTV7hggfoV-wcNaHR%7ESLHgtk%7EUmk57WvcbdT3OKNncCpN7QQeL1hjuv8TDg41GFiCI-samJkZSHQPdmuWGiA1Cd1fSrLnh6EPcWS-IhfobfGgN5MWuD8wBEuVG-UL97LJCZR5MQ661hG6g3y-HwA2mZdQV%7EGDqL2NFkeCR1-pw24xsKfD-nUGyNlJFb6CLzCCtAsdBMMQMa93l%7EW20YjwIUyQv-GrMk8Q1pkcvn8pD1hametKy9DEj%7EW587SW%7EUjg__&Key-Pair-Id=KVTP0A1DKRTAX\n",
      "Resolving cdn-lfs.huggingface.co (cdn-lfs.huggingface.co)... 18.64.174.109, 18.64.174.110, 18.64.174.106, ...\n",
      "Connecting to cdn-lfs.huggingface.co (cdn-lfs.huggingface.co)|18.64.174.109|:443... connected.\n",
      "HTTP request sent, awaiting response... 200 OK\n",
      "Length: 3791725184 (3.5G) [application/octet-stream]\n",
      "Saving to: ‘/tmp/models/llama-2-7b-chat.ggmlv3.q4_0.bin’\n",
      "\n",
      "llama-2-7b-chat.ggm 100%[===================>]   3.53G  49.5MB/s    in 74s     \n",
      "\n",
      "2023-07-22 05:39:59 (48.8 MB/s) - ‘/tmp/models/llama-2-7b-chat.ggmlv3.q4_0.bin’ saved [3791725184/3791725184]\n",
      "\n"
     ]
    }
   ],
   "source": [
    "# Download a Llama.cpp optmized model\n",
    "# List of models can be found at: https://huggingface.co/TheBloke\n",
    "# In this case I will use Llama-2-7B-GGML: https://huggingface.co/TheBloke/Llama-2-7B-GGML\n",
    "!mkdir -p /tmp/models/\n",
    "!wget -P /tmp/models/ https://huggingface.co/TheBloke/Llama-2-7B-Chat-GGML/resolve/main/llama-2-7b-chat.ggmlv3.q4_0.bin"
   ]
  },
  {
   "cell_type": "code",
   "execution_count": 16,
   "id": "cb008b28-2b97-42ed-9566-0c7fafff2b23",
   "metadata": {
    "execution": {
     "iopub.execute_input": "2023-07-22T05:39:59.574523Z",
     "iopub.status.busy": "2023-07-22T05:39:59.573972Z",
     "iopub.status.idle": "2023-07-22T05:40:27.327914Z",
     "shell.execute_reply": "2023-07-22T05:40:27.326872Z",
     "shell.execute_reply.started": "2023-07-22T05:39:59.574447Z"
    },
    "tags": []
   },
   "outputs": [
    {
     "name": "stderr",
     "output_type": "stream",
     "text": [
      "llama.cpp: loading model from /tmp/models/llama-2-7b-chat.ggmlv3.q4_0.bin\n",
      "llama_model_load_internal: format     = ggjt v3 (latest)\n",
      "llama_model_load_internal: n_vocab    = 32000\n",
      "llama_model_load_internal: n_ctx      = 512\n",
      "llama_model_load_internal: n_embd     = 4096\n",
      "llama_model_load_internal: n_mult     = 256\n",
      "llama_model_load_internal: n_head     = 32\n",
      "llama_model_load_internal: n_layer    = 32\n",
      "llama_model_load_internal: n_rot      = 128\n",
      "llama_model_load_internal: freq_base  = 10000.0\n",
      "llama_model_load_internal: freq_scale = 1\n",
      "llama_model_load_internal: ftype      = 2 (mostly Q4_0)\n",
      "llama_model_load_internal: n_ff       = 11008\n",
      "llama_model_load_internal: model size = 7B\n",
      "llama_model_load_internal: ggml ctx size =    0.08 MB\n",
      "llama_model_load_internal: mem required  = 5185.72 MB (+ 1026.00 MB per state)\n",
      "llama_new_context_with_model: kv self size  =  256.00 MB\n",
      "AVX = 0 | AVX2 = 0 | AVX512 = 0 | AVX512_VBMI = 0 | AVX512_VNNI = 0 | FMA = 0 | NEON = 1 | ARM_FMA = 1 | F16C = 0 | FP16_VA = 0 | WASM_SIMD = 0 | BLAS = 0 | SSE3 = 0 | VSX = 0 | \n"
     ]
    },
    {
     "name": "stdout",
     "output_type": "stream",
     "text": [
      "\n",
      "Answer: The eight planets in our solar system are:\n",
      "\n",
      "1. Mercury\n",
      "2. Venus\n",
      "3. Earth\n",
      "4. Mars\n",
      "5. Jupiter\n",
      "6. Saturn\n",
      "7. Uranus\n",
      "8. Neptune\n",
      "\n",
      "Note: Pluto was previously considered a planet but is now classified as a dwarf planet by most astronomers."
     ]
    },
    {
     "name": "stderr",
     "output_type": "stream",
     "text": [
      "\n",
      "llama_print_timings:        load time =  2933.96 ms\n",
      "llama_print_timings:      sample time =    36.13 ms /    82 runs   (    0.44 ms per token,  2269.27 tokens per second)\n",
      "llama_print_timings: prompt eval time =  4445.28 ms /    16 tokens (  277.83 ms per token,     3.60 tokens per second)\n",
      "llama_print_timings:        eval time = 17599.56 ms /    81 runs   (  217.28 ms per token,     4.60 tokens per second)\n",
      "llama_print_timings:       total time = 22276.60 ms\n"
     ]
    },
    {
     "data": {
      "text/plain": [
       "'\\nAnswer: The eight planets in our solar system are:\\n\\n1. Mercury\\n2. Venus\\n3. Earth\\n4. Mars\\n5. Jupiter\\n6. Saturn\\n7. Uranus\\n8. Neptune\\n\\nNote: Pluto was previously considered a planet but is now classified as a dwarf planet by most astronomers.'"
      ]
     },
     "execution_count": 16,
     "metadata": {},
     "output_type": "execute_result"
    }
   ],
   "source": [
    "from pathlib import Path\n",
    "\n",
    "from langchain import LLMChain, PromptTemplate\n",
    "from langchain.callbacks.manager import CallbackManager\n",
    "from langchain.callbacks.streaming_stdout import StreamingStdOutCallbackHandler\n",
    "from langchain.llms import LlamaCpp\n",
    "\n",
    "model_dir = \"/tmp/models/\"\n",
    "model_path = Path(model_dir)\n",
    "model_file = list(model_path.glob(\"*.bin\"))[0]\n",
    "\n",
    "template = \"\"\"Question: {question}\n",
    "\n",
    "Answer: Let's work this out in a step by step way to be sure we have the right answer.\"\"\"\n",
    "\n",
    "prompt = PromptTemplate(template=template, input_variables=[\"question\"])\n",
    "\n",
    "# Callbacks support token-wise streaming\n",
    "callback_manager = CallbackManager([StreamingStdOutCallbackHandler()])\n",
    "# Verbose is required to pass to the callback manager\n",
    "\n",
    "# Make sure the model path is correct for your system!\n",
    "llm = LlamaCpp(\n",
    "    model_path=str(model_file.resolve()),\n",
    "    input={\"temperature\": 0.0, \"max_length\": 2000, \"top_p\": 1},\n",
    "    callback_manager=callback_manager,\n",
    "    verbose=True,\n",
    ")\n",
    "\n",
    "prompt = \"\"\"\n",
    "Question: Name all the planets in the solar system?\n",
    "\"\"\"\n",
    "llm(prompt)"
   ]
  },
  {
   "cell_type": "code",
   "execution_count": null,
   "id": "229292cb-391a-47bd-94f9-5868522a2859",
   "metadata": {},
   "outputs": [],
   "source": []
  }
 ],
 "metadata": {
  "kernelspec": {
   "display_name": "Python 3 (ipykernel)",
   "language": "python",
   "name": "python3"
  },
  "language_info": {
   "codemirror_mode": {
    "name": "ipython",
    "version": 3
   },
   "file_extension": ".py",
   "mimetype": "text/x-python",
   "name": "python",
   "nbconvert_exporter": "python",
   "pygments_lexer": "ipython3",
   "version": "3.11.4"
  }
 },
 "nbformat": 4,
 "nbformat_minor": 5
}
