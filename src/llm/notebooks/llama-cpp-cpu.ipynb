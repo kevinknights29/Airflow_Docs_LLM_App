{
 "cells": [
  {
   "cell_type": "markdown",
   "id": "2ce3b747-c705-406f-a6f0-17d8f2842189",
   "metadata": {},
   "source": [
    "# Llama-v2 7b for Retrieval Augmented Generation"
   ]
  },
  {
   "cell_type": "markdown",
   "id": "cabb3eeb-9298-4eef-b2af-de1d5192b6b2",
   "metadata": {},
   "source": [
    "## Dependencies"
   ]
  },
  {
   "cell_type": "code",
   "execution_count": 1,
   "id": "b4496742-be76-4748-b1a0-f1425ea30b38",
   "metadata": {
    "execution": {
     "iopub.execute_input": "2023-07-22T05:52:58.871622Z",
     "iopub.status.busy": "2023-07-22T05:52:58.871411Z",
     "iopub.status.idle": "2023-07-22T05:53:01.499987Z",
     "shell.execute_reply": "2023-07-22T05:53:01.499302Z",
     "shell.execute_reply.started": "2023-07-22T05:52:58.871601Z"
    },
    "tags": []
   },
   "outputs": [
    {
     "name": "stdout",
     "output_type": "stream",
     "text": [
      "Requirement already satisfied: langchain in /opt/conda/lib/python3.11/site-packages (0.0.239)\n",
      "Requirement already satisfied: chromadb in /home/jovyan/.local/lib/python3.11/site-packages (0.4.2)\n",
      "Requirement already satisfied: sentence_transformers in /home/jovyan/.local/lib/python3.11/site-packages (2.2.2)\n",
      "Requirement already satisfied: PyYAML>=5.4.1 in /opt/conda/lib/python3.11/site-packages (from langchain) (6.0)\n",
      "Requirement already satisfied: SQLAlchemy<3,>=1.4 in /opt/conda/lib/python3.11/site-packages (from langchain) (2.0.19)\n",
      "Requirement already satisfied: aiohttp<4.0.0,>=3.8.3 in /opt/conda/lib/python3.11/site-packages (from langchain) (3.8.5)\n",
      "Requirement already satisfied: dataclasses-json<0.6.0,>=0.5.7 in /opt/conda/lib/python3.11/site-packages (from langchain) (0.5.13)\n",
      "Requirement already satisfied: langsmith<0.1.0,>=0.0.11 in /opt/conda/lib/python3.11/site-packages (from langchain) (0.0.14)\n",
      "Requirement already satisfied: numexpr<3.0.0,>=2.8.4 in /opt/conda/lib/python3.11/site-packages (from langchain) (2.8.4)\n",
      "Requirement already satisfied: numpy<2,>=1 in /opt/conda/lib/python3.11/site-packages (from langchain) (1.24.4)\n",
      "Requirement already satisfied: openapi-schema-pydantic<2.0,>=1.2 in /opt/conda/lib/python3.11/site-packages (from langchain) (1.2.4)\n",
      "Requirement already satisfied: pydantic<2,>=1 in /opt/conda/lib/python3.11/site-packages (from langchain) (1.10.11)\n",
      "Requirement already satisfied: requests<3,>=2 in /opt/conda/lib/python3.11/site-packages (from langchain) (2.31.0)\n",
      "Requirement already satisfied: tenacity<9.0.0,>=8.1.0 in /opt/conda/lib/python3.11/site-packages (from langchain) (8.2.2)\n",
      "Requirement already satisfied: pandas>=1.3 in /opt/conda/lib/python3.11/site-packages (from chromadb) (2.0.3)\n",
      "Requirement already satisfied: chroma-hnswlib==0.7.1 in /home/jovyan/.local/lib/python3.11/site-packages (from chromadb) (0.7.1)\n",
      "Requirement already satisfied: fastapi<0.100.0,>=0.95.2 in /home/jovyan/.local/lib/python3.11/site-packages (from chromadb) (0.99.1)\n",
      "Requirement already satisfied: uvicorn[standard]>=0.18.3 in /home/jovyan/.local/lib/python3.11/site-packages (from chromadb) (0.23.1)\n",
      "Requirement already satisfied: posthog>=2.4.0 in /home/jovyan/.local/lib/python3.11/site-packages (from chromadb) (3.0.1)\n",
      "Requirement already satisfied: typing-extensions>=4.5.0 in /opt/conda/lib/python3.11/site-packages (from chromadb) (4.7.1)\n",
      "Requirement already satisfied: pulsar-client>=3.1.0 in /home/jovyan/.local/lib/python3.11/site-packages (from chromadb) (3.2.0)\n",
      "Requirement already satisfied: onnxruntime>=1.14.1 in /home/jovyan/.local/lib/python3.11/site-packages (from chromadb) (1.15.1)\n",
      "Requirement already satisfied: tokenizers>=0.13.2 in /home/jovyan/.local/lib/python3.11/site-packages (from chromadb) (0.13.3)\n",
      "Requirement already satisfied: pypika>=0.48.9 in /home/jovyan/.local/lib/python3.11/site-packages (from chromadb) (0.48.9)\n",
      "Requirement already satisfied: tqdm>=4.65.0 in /opt/conda/lib/python3.11/site-packages (from chromadb) (4.65.0)\n",
      "Requirement already satisfied: overrides>=7.3.1 in /opt/conda/lib/python3.11/site-packages (from chromadb) (7.3.1)\n",
      "Requirement already satisfied: importlib-resources in /opt/conda/lib/python3.11/site-packages (from chromadb) (6.0.0)\n",
      "Requirement already satisfied: transformers<5.0.0,>=4.6.0 in /home/jovyan/.local/lib/python3.11/site-packages (from sentence_transformers) (4.31.0)\n",
      "Requirement already satisfied: torch>=1.6.0 in /home/jovyan/.local/lib/python3.11/site-packages (from sentence_transformers) (2.0.1)\n",
      "Requirement already satisfied: torchvision in /home/jovyan/.local/lib/python3.11/site-packages (from sentence_transformers) (0.15.2)\n",
      "Requirement already satisfied: scikit-learn in /opt/conda/lib/python3.11/site-packages (from sentence_transformers) (1.3.0)\n",
      "Requirement already satisfied: scipy in /opt/conda/lib/python3.11/site-packages (from sentence_transformers) (1.11.1)\n",
      "Requirement already satisfied: nltk in /home/jovyan/.local/lib/python3.11/site-packages (from sentence_transformers) (3.8.1)\n",
      "Requirement already satisfied: sentencepiece in /home/jovyan/.local/lib/python3.11/site-packages (from sentence_transformers) (0.1.99)\n",
      "Requirement already satisfied: huggingface-hub>=0.4.0 in /home/jovyan/.local/lib/python3.11/site-packages (from sentence_transformers) (0.16.4)\n",
      "Requirement already satisfied: attrs>=17.3.0 in /opt/conda/lib/python3.11/site-packages (from aiohttp<4.0.0,>=3.8.3->langchain) (23.1.0)\n",
      "Requirement already satisfied: charset-normalizer<4.0,>=2.0 in /opt/conda/lib/python3.11/site-packages (from aiohttp<4.0.0,>=3.8.3->langchain) (3.2.0)\n",
      "Requirement already satisfied: multidict<7.0,>=4.5 in /opt/conda/lib/python3.11/site-packages (from aiohttp<4.0.0,>=3.8.3->langchain) (6.0.4)\n",
      "Requirement already satisfied: async-timeout<5.0,>=4.0.0a3 in /opt/conda/lib/python3.11/site-packages (from aiohttp<4.0.0,>=3.8.3->langchain) (4.0.2)\n",
      "Requirement already satisfied: yarl<2.0,>=1.0 in /opt/conda/lib/python3.11/site-packages (from aiohttp<4.0.0,>=3.8.3->langchain) (1.9.2)\n",
      "Requirement already satisfied: frozenlist>=1.1.1 in /opt/conda/lib/python3.11/site-packages (from aiohttp<4.0.0,>=3.8.3->langchain) (1.4.0)\n",
      "Requirement already satisfied: aiosignal>=1.1.2 in /opt/conda/lib/python3.11/site-packages (from aiohttp<4.0.0,>=3.8.3->langchain) (1.3.1)\n",
      "Requirement already satisfied: marshmallow<4.0.0,>=3.18.0 in /opt/conda/lib/python3.11/site-packages (from dataclasses-json<0.6.0,>=0.5.7->langchain) (3.20.1)\n",
      "Requirement already satisfied: typing-inspect<1,>=0.4.0 in /opt/conda/lib/python3.11/site-packages (from dataclasses-json<0.6.0,>=0.5.7->langchain) (0.9.0)\n",
      "Requirement already satisfied: starlette<0.28.0,>=0.27.0 in /home/jovyan/.local/lib/python3.11/site-packages (from fastapi<0.100.0,>=0.95.2->chromadb) (0.27.0)\n",
      "Requirement already satisfied: filelock in /home/jovyan/.local/lib/python3.11/site-packages (from huggingface-hub>=0.4.0->sentence_transformers) (3.12.2)\n",
      "Requirement already satisfied: fsspec in /opt/conda/lib/python3.11/site-packages (from huggingface-hub>=0.4.0->sentence_transformers) (2023.6.0)\n",
      "Requirement already satisfied: packaging>=20.9 in /opt/conda/lib/python3.11/site-packages (from huggingface-hub>=0.4.0->sentence_transformers) (23.1)\n",
      "Requirement already satisfied: coloredlogs in /home/jovyan/.local/lib/python3.11/site-packages (from onnxruntime>=1.14.1->chromadb) (15.0.1)\n",
      "Requirement already satisfied: flatbuffers in /home/jovyan/.local/lib/python3.11/site-packages (from onnxruntime>=1.14.1->chromadb) (23.5.26)\n",
      "Requirement already satisfied: protobuf in /opt/conda/lib/python3.11/site-packages (from onnxruntime>=1.14.1->chromadb) (4.23.3)\n",
      "Requirement already satisfied: sympy in /opt/conda/lib/python3.11/site-packages (from onnxruntime>=1.14.1->chromadb) (1.12)\n",
      "Requirement already satisfied: python-dateutil>=2.8.2 in /opt/conda/lib/python3.11/site-packages (from pandas>=1.3->chromadb) (2.8.2)\n",
      "Requirement already satisfied: pytz>=2020.1 in /opt/conda/lib/python3.11/site-packages (from pandas>=1.3->chromadb) (2023.3)\n",
      "Requirement already satisfied: tzdata>=2022.1 in /opt/conda/lib/python3.11/site-packages (from pandas>=1.3->chromadb) (2023.3)\n",
      "Requirement already satisfied: six>=1.5 in /opt/conda/lib/python3.11/site-packages (from posthog>=2.4.0->chromadb) (1.16.0)\n",
      "Requirement already satisfied: monotonic>=1.5 in /home/jovyan/.local/lib/python3.11/site-packages (from posthog>=2.4.0->chromadb) (1.6)\n",
      "Requirement already satisfied: backoff>=1.10.0 in /home/jovyan/.local/lib/python3.11/site-packages (from posthog>=2.4.0->chromadb) (2.2.1)\n",
      "Requirement already satisfied: certifi in /opt/conda/lib/python3.11/site-packages (from pulsar-client>=3.1.0->chromadb) (2023.5.7)\n",
      "Requirement already satisfied: idna<4,>=2.5 in /opt/conda/lib/python3.11/site-packages (from requests<3,>=2->langchain) (3.4)\n",
      "Requirement already satisfied: urllib3<3,>=1.21.1 in /opt/conda/lib/python3.11/site-packages (from requests<3,>=2->langchain) (2.0.3)\n",
      "Requirement already satisfied: greenlet!=0.4.17 in /opt/conda/lib/python3.11/site-packages (from SQLAlchemy<3,>=1.4->langchain) (2.0.2)\n",
      "Requirement already satisfied: networkx in /opt/conda/lib/python3.11/site-packages (from torch>=1.6.0->sentence_transformers) (3.1)\n",
      "Requirement already satisfied: jinja2 in /opt/conda/lib/python3.11/site-packages (from torch>=1.6.0->sentence_transformers) (3.1.2)\n",
      "Requirement already satisfied: regex!=2019.12.17 in /home/jovyan/.local/lib/python3.11/site-packages (from transformers<5.0.0,>=4.6.0->sentence_transformers) (2023.6.3)\n",
      "Requirement already satisfied: safetensors>=0.3.1 in /home/jovyan/.local/lib/python3.11/site-packages (from transformers<5.0.0,>=4.6.0->sentence_transformers) (0.3.1)\n",
      "Requirement already satisfied: click>=7.0 in /opt/conda/lib/python3.11/site-packages (from uvicorn[standard]>=0.18.3->chromadb) (8.1.5)\n",
      "Requirement already satisfied: h11>=0.8 in /home/jovyan/.local/lib/python3.11/site-packages (from uvicorn[standard]>=0.18.3->chromadb) (0.14.0)\n",
      "Requirement already satisfied: httptools>=0.5.0 in /home/jovyan/.local/lib/python3.11/site-packages (from uvicorn[standard]>=0.18.3->chromadb) (0.6.0)\n",
      "Requirement already satisfied: python-dotenv>=0.13 in /home/jovyan/.local/lib/python3.11/site-packages (from uvicorn[standard]>=0.18.3->chromadb) (1.0.0)\n",
      "Requirement already satisfied: uvloop!=0.15.0,!=0.15.1,>=0.14.0 in /home/jovyan/.local/lib/python3.11/site-packages (from uvicorn[standard]>=0.18.3->chromadb) (0.17.0)\n",
      "Requirement already satisfied: watchfiles>=0.13 in /home/jovyan/.local/lib/python3.11/site-packages (from uvicorn[standard]>=0.18.3->chromadb) (0.19.0)\n",
      "Requirement already satisfied: websockets>=10.4 in /home/jovyan/.local/lib/python3.11/site-packages (from uvicorn[standard]>=0.18.3->chromadb) (11.0.3)\n",
      "Requirement already satisfied: joblib in /opt/conda/lib/python3.11/site-packages (from nltk->sentence_transformers) (1.3.0)\n",
      "Requirement already satisfied: threadpoolctl>=2.0.0 in /opt/conda/lib/python3.11/site-packages (from scikit-learn->sentence_transformers) (3.2.0)\n",
      "Requirement already satisfied: pillow!=8.3.*,>=5.3.0 in /opt/conda/lib/python3.11/site-packages (from torchvision->sentence_transformers) (10.0.0)\n",
      "Requirement already satisfied: anyio<5,>=3.4.0 in /opt/conda/lib/python3.11/site-packages (from starlette<0.28.0,>=0.27.0->fastapi<0.100.0,>=0.95.2->chromadb) (3.7.1)\n",
      "Requirement already satisfied: mypy-extensions>=0.3.0 in /opt/conda/lib/python3.11/site-packages (from typing-inspect<1,>=0.4.0->dataclasses-json<0.6.0,>=0.5.7->langchain) (1.0.0)\n",
      "Requirement already satisfied: humanfriendly>=9.1 in /home/jovyan/.local/lib/python3.11/site-packages (from coloredlogs->onnxruntime>=1.14.1->chromadb) (10.0)\n",
      "Requirement already satisfied: MarkupSafe>=2.0 in /opt/conda/lib/python3.11/site-packages (from jinja2->torch>=1.6.0->sentence_transformers) (2.1.3)\n",
      "Requirement already satisfied: mpmath>=0.19 in /opt/conda/lib/python3.11/site-packages (from sympy->onnxruntime>=1.14.1->chromadb) (1.3.0)\n",
      "Requirement already satisfied: sniffio>=1.1 in /opt/conda/lib/python3.11/site-packages (from anyio<5,>=3.4.0->starlette<0.28.0,>=0.27.0->fastapi<0.100.0,>=0.95.2->chromadb) (1.3.0)\n",
      "Note: you may need to restart the kernel to use updated packages.\n"
     ]
    }
   ],
   "source": [
    "%pip install langchain chromadb sentence_transformers --user"
   ]
  },
  {
   "cell_type": "code",
   "execution_count": 2,
   "id": "f3bae8d6-6181-4aaf-b736-a2d5f6ee351f",
   "metadata": {
    "execution": {
     "iopub.execute_input": "2023-07-22T05:53:01.503584Z",
     "iopub.status.busy": "2023-07-22T05:53:01.503360Z",
     "iopub.status.idle": "2023-07-22T05:53:03.332330Z",
     "shell.execute_reply": "2023-07-22T05:53:03.331567Z",
     "shell.execute_reply.started": "2023-07-22T05:53:01.503560Z"
    },
    "tags": []
   },
   "outputs": [
    {
     "name": "stdout",
     "output_type": "stream",
     "text": [
      "Requirement already satisfied: llama-cpp-python in /opt/conda/lib/python3.11/site-packages (0.1.74)\n",
      "Requirement already satisfied: typing-extensions>=4.5.0 in /opt/conda/lib/python3.11/site-packages (from llama-cpp-python) (4.7.1)\n",
      "Requirement already satisfied: numpy>=1.20.0 in /opt/conda/lib/python3.11/site-packages (from llama-cpp-python) (1.24.4)\n",
      "Requirement already satisfied: diskcache>=5.6.1 in /opt/conda/lib/python3.11/site-packages (from llama-cpp-python) (5.6.1)\n"
     ]
    }
   ],
   "source": [
    "!CMAKE_ARGS=\"-DLLAMA_CUBLAS=on\" FORCE_CMAKE=1 pip install llama-cpp-python"
   ]
  },
  {
   "cell_type": "markdown",
   "id": "b938f816-13e1-4ca4-b013-396efff4f2fe",
   "metadata": {},
   "source": [
    "## Model Setup"
   ]
  },
  {
   "cell_type": "markdown",
   "id": "8a04c4e0-ad3e-4a9d-9fe9-9ef8febc710e",
   "metadata": {},
   "source": [
    "### Model Download"
   ]
  },
  {
   "cell_type": "code",
   "execution_count": 15,
   "id": "4091d411-dbb8-42be-838f-5d13af8f8c9e",
   "metadata": {
    "execution": {
     "iopub.execute_input": "2023-07-22T05:38:43.816909Z",
     "iopub.status.busy": "2023-07-22T05:38:43.815193Z",
     "iopub.status.idle": "2023-07-22T05:39:59.565208Z",
     "shell.execute_reply": "2023-07-22T05:39:59.561461Z",
     "shell.execute_reply.started": "2023-07-22T05:38:43.816788Z"
    },
    "tags": []
   },
   "outputs": [
    {
     "name": "stdout",
     "output_type": "stream",
     "text": [
      "--2023-07-22 05:38:44--  https://huggingface.co/TheBloke/Llama-2-7B-Chat-GGML/resolve/main/llama-2-7b-chat.ggmlv3.q4_0.bin\n",
      "Resolving huggingface.co (huggingface.co)... 65.8.178.118, 65.8.178.27, 65.8.178.93, ...\n",
      "Connecting to huggingface.co (huggingface.co)|65.8.178.118|:443... connected.\n",
      "HTTP request sent, awaiting response... 302 Found\n",
      "Location: https://cdn-lfs.huggingface.co/repos/30/e3/30e3aca7233f7337633262ff6d59dd98559ecd8982e7419b39752c8d0daae1ca/8daa9615cce30c259a9555b1cc250d461d1bc69980a274b44d7eda0be78076d8?response-content-disposition=attachment%3B+filename*%3DUTF-8%27%27llama-2-7b-chat.ggmlv3.q4_0.bin%3B+filename%3D%22llama-2-7b-chat.ggmlv3.q4_0.bin%22%3B&response-content-type=application%2Foctet-stream&Expires=1690261102&Policy=eyJTdGF0ZW1lbnQiOlt7IkNvbmRpdGlvbiI6eyJEYXRlTGVzc1RoYW4iOnsiQVdTOkVwb2NoVGltZSI6MTY5MDI2MTEwMn19LCJSZXNvdXJjZSI6Imh0dHBzOi8vY2RuLWxmcy5odWdnaW5nZmFjZS5jby9yZXBvcy8zMC9lMy8zMGUzYWNhNzIzM2Y3MzM3NjMzMjYyZmY2ZDU5ZGQ5ODU1OWVjZDg5ODJlNzQxOWIzOTc1MmM4ZDBkYWFlMWNhLzhkYWE5NjE1Y2NlMzBjMjU5YTk1NTViMWNjMjUwZDQ2MWQxYmM2OTk4MGEyNzRiNDRkN2VkYTBiZTc4MDc2ZDg%7EcmVzcG9uc2UtY29udGVudC1kaXNwb3NpdGlvbj0qJnJlc3BvbnNlLWNvbnRlbnQtdHlwZT0qIn1dfQ__&Signature=vIotTe3zj6pvirWQYODsxQyaKPepLFZ2lDu2MiAwJQNQyo1FIrDkT2uuHbtfRYXV%7EFq2VUtSY86KtuXuxa7HcqTV7hggfoV-wcNaHR%7ESLHgtk%7EUmk57WvcbdT3OKNncCpN7QQeL1hjuv8TDg41GFiCI-samJkZSHQPdmuWGiA1Cd1fSrLnh6EPcWS-IhfobfGgN5MWuD8wBEuVG-UL97LJCZR5MQ661hG6g3y-HwA2mZdQV%7EGDqL2NFkeCR1-pw24xsKfD-nUGyNlJFb6CLzCCtAsdBMMQMa93l%7EW20YjwIUyQv-GrMk8Q1pkcvn8pD1hametKy9DEj%7EW587SW%7EUjg__&Key-Pair-Id=KVTP0A1DKRTAX [following]\n",
      "--2023-07-22 05:38:44--  https://cdn-lfs.huggingface.co/repos/30/e3/30e3aca7233f7337633262ff6d59dd98559ecd8982e7419b39752c8d0daae1ca/8daa9615cce30c259a9555b1cc250d461d1bc69980a274b44d7eda0be78076d8?response-content-disposition=attachment%3B+filename*%3DUTF-8%27%27llama-2-7b-chat.ggmlv3.q4_0.bin%3B+filename%3D%22llama-2-7b-chat.ggmlv3.q4_0.bin%22%3B&response-content-type=application%2Foctet-stream&Expires=1690261102&Policy=eyJTdGF0ZW1lbnQiOlt7IkNvbmRpdGlvbiI6eyJEYXRlTGVzc1RoYW4iOnsiQVdTOkVwb2NoVGltZSI6MTY5MDI2MTEwMn19LCJSZXNvdXJjZSI6Imh0dHBzOi8vY2RuLWxmcy5odWdnaW5nZmFjZS5jby9yZXBvcy8zMC9lMy8zMGUzYWNhNzIzM2Y3MzM3NjMzMjYyZmY2ZDU5ZGQ5ODU1OWVjZDg5ODJlNzQxOWIzOTc1MmM4ZDBkYWFlMWNhLzhkYWE5NjE1Y2NlMzBjMjU5YTk1NTViMWNjMjUwZDQ2MWQxYmM2OTk4MGEyNzRiNDRkN2VkYTBiZTc4MDc2ZDg%7EcmVzcG9uc2UtY29udGVudC1kaXNwb3NpdGlvbj0qJnJlc3BvbnNlLWNvbnRlbnQtdHlwZT0qIn1dfQ__&Signature=vIotTe3zj6pvirWQYODsxQyaKPepLFZ2lDu2MiAwJQNQyo1FIrDkT2uuHbtfRYXV%7EFq2VUtSY86KtuXuxa7HcqTV7hggfoV-wcNaHR%7ESLHgtk%7EUmk57WvcbdT3OKNncCpN7QQeL1hjuv8TDg41GFiCI-samJkZSHQPdmuWGiA1Cd1fSrLnh6EPcWS-IhfobfGgN5MWuD8wBEuVG-UL97LJCZR5MQ661hG6g3y-HwA2mZdQV%7EGDqL2NFkeCR1-pw24xsKfD-nUGyNlJFb6CLzCCtAsdBMMQMa93l%7EW20YjwIUyQv-GrMk8Q1pkcvn8pD1hametKy9DEj%7EW587SW%7EUjg__&Key-Pair-Id=KVTP0A1DKRTAX\n",
      "Resolving cdn-lfs.huggingface.co (cdn-lfs.huggingface.co)... 18.64.174.109, 18.64.174.110, 18.64.174.106, ...\n",
      "Connecting to cdn-lfs.huggingface.co (cdn-lfs.huggingface.co)|18.64.174.109|:443... connected.\n",
      "HTTP request sent, awaiting response... 200 OK\n",
      "Length: 3791725184 (3.5G) [application/octet-stream]\n",
      "Saving to: ‘/tmp/models/llama-2-7b-chat.ggmlv3.q4_0.bin’\n",
      "\n",
      "llama-2-7b-chat.ggm 100%[===================>]   3.53G  49.5MB/s    in 74s     \n",
      "\n",
      "2023-07-22 05:39:59 (48.8 MB/s) - ‘/tmp/models/llama-2-7b-chat.ggmlv3.q4_0.bin’ saved [3791725184/3791725184]\n",
      "\n"
     ]
    }
   ],
   "source": [
    "# Download a Llama.cpp optmized model\n",
    "# List of models can be found at: https://huggingface.co/TheBloke\n",
    "# In this case I will use Llama-2-7B-GGML: https://huggingface.co/TheBloke/Llama-2-7B-GGML\n",
    "!mkdir -p /tmp/models/\n",
    "!wget -P /tmp/models/ https://huggingface.co/TheBloke/Llama-2-7B-Chat-GGML/resolve/main/llama-2-7b-chat.ggmlv3.q4_0.bin"
   ]
  },
  {
   "cell_type": "markdown",
   "id": "a6bda2cd-e3e0-4559-8174-5b66b800a79e",
   "metadata": {
    "execution": {
     "iopub.execute_input": "2023-07-22T05:43:25.367491Z",
     "iopub.status.busy": "2023-07-22T05:43:25.364962Z",
     "iopub.status.idle": "2023-07-22T05:43:25.379558Z",
     "shell.execute_reply": "2023-07-22T05:43:25.378432Z",
     "shell.execute_reply.started": "2023-07-22T05:43:25.367406Z"
    },
    "tags": []
   },
   "source": [
    "### Model Load and Test"
   ]
  },
  {
   "cell_type": "code",
   "execution_count": 6,
   "id": "dd2fd076-3f0c-4c3e-9da6-3238fa1145ad",
   "metadata": {
    "execution": {
     "iopub.execute_input": "2023-07-22T06:01:34.973471Z",
     "iopub.status.busy": "2023-07-22T06:01:34.972596Z",
     "iopub.status.idle": "2023-07-22T06:01:36.819600Z",
     "shell.execute_reply": "2023-07-22T06:01:36.818974Z",
     "shell.execute_reply.started": "2023-07-22T06:01:34.973402Z"
    },
    "tags": []
   },
   "outputs": [
    {
     "name": "stderr",
     "output_type": "stream",
     "text": [
      "llama.cpp: loading model from /tmp/models/llama-2-7b-chat.ggmlv3.q4_0.bin\n",
      "llama_model_load_internal: format     = ggjt v3 (latest)\n",
      "llama_model_load_internal: n_vocab    = 32000\n",
      "llama_model_load_internal: n_ctx      = 512\n",
      "llama_model_load_internal: n_embd     = 4096\n",
      "llama_model_load_internal: n_mult     = 256\n",
      "llama_model_load_internal: n_head     = 32\n",
      "llama_model_load_internal: n_layer    = 32\n",
      "llama_model_load_internal: n_rot      = 128\n",
      "llama_model_load_internal: freq_base  = 10000.0\n",
      "llama_model_load_internal: freq_scale = 1\n",
      "llama_model_load_internal: ftype      = 2 (mostly Q4_0)\n",
      "llama_model_load_internal: n_ff       = 11008\n",
      "llama_model_load_internal: model size = 7B\n",
      "llama_model_load_internal: ggml ctx size =    0.08 MB\n",
      "llama_model_load_internal: mem required  = 5185.72 MB (+ 1026.00 MB per state)\n",
      "llama_new_context_with_model: kv self size  =  256.00 MB\n",
      "AVX = 0 | AVX2 = 0 | AVX512 = 0 | AVX512_VBMI = 0 | AVX512_VNNI = 0 | FMA = 0 | NEON = 1 | ARM_FMA = 1 | F16C = 0 | FP16_VA = 0 | WASM_SIMD = 0 | BLAS = 0 | SSE3 = 0 | VSX = 0 | \n"
     ]
    }
   ],
   "source": [
    "from pathlib import Path\n",
    "\n",
    "from langchain import LLMChain, PromptTemplate\n",
    "from langchain.callbacks.manager import CallbackManager\n",
    "from langchain.callbacks.streaming_stdout import StreamingStdOutCallbackHandler\n",
    "from langchain.llms import LlamaCpp\n",
    "\n",
    "model_dir = \"/tmp/models/\"\n",
    "model_path = Path(model_dir)\n",
    "model_file = list(model_path.glob(\"*.bin\"))[0]\n",
    "\n",
    "template = \"\"\"Question: {question}\n",
    "\n",
    "Answer: Let's work this out in a step by step way to be sure we have the right answer.\"\"\"\n",
    "\n",
    "prompt = PromptTemplate(template=template, input_variables=[\"question\"])\n",
    "\n",
    "# Callbacks support token-wise streaming\n",
    "callback_manager = CallbackManager([StreamingStdOutCallbackHandler()])\n",
    "# Verbose is required to pass to the callback manager\n",
    "\n",
    "# Make sure the model path is correct for your system!\n",
    "llm = LlamaCpp(\n",
    "    model_path=str(model_file.resolve()),\n",
    "    input={\"temperature\": 0.0, \"max_length\": 2000, \"top_p\": 1},\n",
    "    callback_manager=callback_manager,\n",
    "    verbose=True,\n",
    ")"
   ]
  },
  {
   "cell_type": "code",
   "execution_count": 7,
   "id": "5c56b0e9-2171-4eed-896c-ff7304bcb677",
   "metadata": {
    "execution": {
     "iopub.execute_input": "2023-07-22T06:01:50.110484Z",
     "iopub.status.busy": "2023-07-22T06:01:50.109414Z",
     "iopub.status.idle": "2023-07-22T06:02:04.055938Z",
     "shell.execute_reply": "2023-07-22T06:02:04.055474Z",
     "shell.execute_reply.started": "2023-07-22T06:01:50.110428Z"
    },
    "tags": []
   },
   "outputs": [
    {
     "name": "stdout",
     "output_type": "stream",
     "text": [
      "\n",
      "Answer: Here are the names of all the planets in our solar system, listed in order from closest to farthest from the Sun:\n",
      "Mercury, Venus, Earth, Mars, Jupiter, Saturn, Uranus, Neptune."
     ]
    },
    {
     "name": "stderr",
     "output_type": "stream",
     "text": [
      "\n",
      "llama_print_timings:        load time =  2605.59 ms\n",
      "llama_print_timings:      sample time =    24.51 ms /    57 runs   (    0.43 ms per token,  2325.30 tokens per second)\n",
      "llama_print_timings: prompt eval time =  3979.97 ms /    16 tokens (  248.75 ms per token,     4.02 tokens per second)\n",
      "llama_print_timings:        eval time =  9830.86 ms /    56 runs   (  175.55 ms per token,     5.70 tokens per second)\n",
      "llama_print_timings:       total time = 13935.57 ms\n"
     ]
    },
    {
     "data": {
      "text/plain": [
       "'\\nAnswer: Here are the names of all the planets in our solar system, listed in order from closest to farthest from the Sun:\\nMercury, Venus, Earth, Mars, Jupiter, Saturn, Uranus, Neptune.'"
      ]
     },
     "execution_count": 7,
     "metadata": {},
     "output_type": "execute_result"
    }
   ],
   "source": [
    "prompt = \"\"\"\n",
    "Question: Name all the planets in the solar system?\n",
    "\"\"\"\n",
    "llm(prompt)"
   ]
  },
  {
   "cell_type": "markdown",
   "id": "7ad26dfc-3d89-490a-adac-a95459cdc914",
   "metadata": {},
   "source": [
    "## Accessing Embeddings Database"
   ]
  },
  {
   "cell_type": "code",
   "execution_count": 3,
   "id": "6096a561-139f-4cfd-b67c-5fb3d1e100ca",
   "metadata": {
    "execution": {
     "iopub.execute_input": "2023-07-22T05:53:13.236414Z",
     "iopub.status.busy": "2023-07-22T05:53:13.235367Z",
     "iopub.status.idle": "2023-07-22T05:53:29.380091Z",
     "shell.execute_reply": "2023-07-22T05:53:29.379709Z",
     "shell.execute_reply.started": "2023-07-22T05:53:13.236361Z"
    },
    "tags": []
   },
   "outputs": [
    {
     "data": {
      "application/vnd.jupyter.widget-view+json": {
       "model_id": "99f481fd7d4b44c180de2dc046e4f146",
       "version_major": 2,
       "version_minor": 0
      },
      "text/plain": [
       "Downloading (…)a8e1d/.gitattributes:   0%|          | 0.00/1.18k [00:00<?, ?B/s]"
      ]
     },
     "metadata": {},
     "output_type": "display_data"
    },
    {
     "data": {
      "application/vnd.jupyter.widget-view+json": {
       "model_id": "94e4f189535a45439e8be32ca8c036f1",
       "version_major": 2,
       "version_minor": 0
      },
      "text/plain": [
       "Downloading (…)_Pooling/config.json:   0%|          | 0.00/190 [00:00<?, ?B/s]"
      ]
     },
     "metadata": {},
     "output_type": "display_data"
    },
    {
     "data": {
      "application/vnd.jupyter.widget-view+json": {
       "model_id": "dc4b28047fe940ad943bb6028bfd9004",
       "version_major": 2,
       "version_minor": 0
      },
      "text/plain": [
       "Downloading (…)b20bca8e1d/README.md:   0%|          | 0.00/10.6k [00:00<?, ?B/s]"
      ]
     },
     "metadata": {},
     "output_type": "display_data"
    },
    {
     "data": {
      "application/vnd.jupyter.widget-view+json": {
       "model_id": "a1af47ce6f2d47aa9fe9eefbfc2fe337",
       "version_major": 2,
       "version_minor": 0
      },
      "text/plain": [
       "Downloading (…)0bca8e1d/config.json:   0%|          | 0.00/571 [00:00<?, ?B/s]"
      ]
     },
     "metadata": {},
     "output_type": "display_data"
    },
    {
     "data": {
      "application/vnd.jupyter.widget-view+json": {
       "model_id": "7efa3ef7d168492a9e14c78b3d66ee3c",
       "version_major": 2,
       "version_minor": 0
      },
      "text/plain": [
       "Downloading (…)ce_transformers.json:   0%|          | 0.00/116 [00:00<?, ?B/s]"
      ]
     },
     "metadata": {},
     "output_type": "display_data"
    },
    {
     "data": {
      "application/vnd.jupyter.widget-view+json": {
       "model_id": "b504f8dcf70e45a8a03043ce56b86407",
       "version_major": 2,
       "version_minor": 0
      },
      "text/plain": [
       "Downloading (…)e1d/data_config.json:   0%|          | 0.00/39.3k [00:00<?, ?B/s]"
      ]
     },
     "metadata": {},
     "output_type": "display_data"
    },
    {
     "data": {
      "application/vnd.jupyter.widget-view+json": {
       "model_id": "ef59fb8c91cc489bb37197495ee09676",
       "version_major": 2,
       "version_minor": 0
      },
      "text/plain": [
       "Downloading pytorch_model.bin:   0%|          | 0.00/438M [00:00<?, ?B/s]"
      ]
     },
     "metadata": {},
     "output_type": "display_data"
    },
    {
     "data": {
      "application/vnd.jupyter.widget-view+json": {
       "model_id": "2ade689153cd417f9538b46c9d35b696",
       "version_major": 2,
       "version_minor": 0
      },
      "text/plain": [
       "Downloading (…)nce_bert_config.json:   0%|          | 0.00/53.0 [00:00<?, ?B/s]"
      ]
     },
     "metadata": {},
     "output_type": "display_data"
    },
    {
     "data": {
      "application/vnd.jupyter.widget-view+json": {
       "model_id": "fed1849a0ffb417c9600dd12f437b386",
       "version_major": 2,
       "version_minor": 0
      },
      "text/plain": [
       "Downloading (…)cial_tokens_map.json:   0%|          | 0.00/239 [00:00<?, ?B/s]"
      ]
     },
     "metadata": {},
     "output_type": "display_data"
    },
    {
     "data": {
      "application/vnd.jupyter.widget-view+json": {
       "model_id": "5c898dab3acf4c8aa5e90a6681d6276d",
       "version_major": 2,
       "version_minor": 0
      },
      "text/plain": [
       "Downloading (…)a8e1d/tokenizer.json:   0%|          | 0.00/466k [00:00<?, ?B/s]"
      ]
     },
     "metadata": {},
     "output_type": "display_data"
    },
    {
     "data": {
      "application/vnd.jupyter.widget-view+json": {
       "model_id": "fadc77f6239a4cf7aba27c5160ee232a",
       "version_major": 2,
       "version_minor": 0
      },
      "text/plain": [
       "Downloading (…)okenizer_config.json:   0%|          | 0.00/363 [00:00<?, ?B/s]"
      ]
     },
     "metadata": {},
     "output_type": "display_data"
    },
    {
     "data": {
      "application/vnd.jupyter.widget-view+json": {
       "model_id": "99c85e192cca49aa8ff1357b75deef13",
       "version_major": 2,
       "version_minor": 0
      },
      "text/plain": [
       "Downloading (…)8e1d/train_script.py:   0%|          | 0.00/13.1k [00:00<?, ?B/s]"
      ]
     },
     "metadata": {},
     "output_type": "display_data"
    },
    {
     "data": {
      "application/vnd.jupyter.widget-view+json": {
       "model_id": "61bf18b1c36e4b6b9b8406cf411f363a",
       "version_major": 2,
       "version_minor": 0
      },
      "text/plain": [
       "Downloading (…)b20bca8e1d/vocab.txt:   0%|          | 0.00/232k [00:00<?, ?B/s]"
      ]
     },
     "metadata": {},
     "output_type": "display_data"
    },
    {
     "data": {
      "application/vnd.jupyter.widget-view+json": {
       "model_id": "958df4dd9a3c4deab57f847ec50f7f06",
       "version_major": 2,
       "version_minor": 0
      },
      "text/plain": [
       "Downloading (…)bca8e1d/modules.json:   0%|          | 0.00/349 [00:00<?, ?B/s]"
      ]
     },
     "metadata": {},
     "output_type": "display_data"
    }
   ],
   "source": [
    "import chromadb\n",
    "from chromadb.utils import embedding_functions\n",
    "\n",
    "sentence_transformer_ef = embedding_functions.SentenceTransformerEmbeddingFunction(\n",
    "    model_name=\"all-mpnet-base-v2\"\n",
    ")\n",
    "\n",
    "client = chromadb.PersistentClient(path=\"./db\")\n",
    "collection = client.get_collection(\n",
    "    name=\"airflow_docs_stable\", embedding_function=sentence_transformer_ef\n",
    ")"
   ]
  },
  {
   "cell_type": "code",
   "execution_count": 19,
   "id": "0b0e3bfc-f55e-4987-9f40-da8f2fee997d",
   "metadata": {
    "execution": {
     "iopub.execute_input": "2023-07-22T06:06:43.705560Z",
     "iopub.status.busy": "2023-07-22T06:06:43.703769Z",
     "iopub.status.idle": "2023-07-22T06:06:43.776935Z",
     "shell.execute_reply": "2023-07-22T06:06:43.776396Z",
     "shell.execute_reply.started": "2023-07-22T06:06:43.705495Z"
    },
    "tags": []
   },
   "outputs": [
    {
     "name": "stdout",
     "output_type": "stream",
     "text": [
      "current: def __init__(     dag_folder=None,     include_examples=conf.getboolean(\"core\", \"LOAD_EXAMPLES\"),     safe_mode=conf.getboolean(\"core\", \"DAG_DISCOVERY_SAFE_MODE\"),     read_dags_from_db=False, ):     ...   If you were using positional arguments, it requires no change but if you were using keyword arguments, please change store_serialized_dags to read_dags_from_db. Similarly, if you were using DagBag().store_serialized_dags property, change it to DagBag().read_dags_from_db.\n"
     ]
    }
   ],
   "source": [
    "question = \"Python Code to create a Dag Class\"\n",
    "results = collection.query(\n",
    "    query_texts=[question],\n",
    "    n_results=1,\n",
    ")\n",
    "formatted_result = \"\\n\\n\".join(results[\"documents\"][0])\n",
    "print(formatted_result)"
   ]
  },
  {
   "cell_type": "markdown",
   "id": "54e3930a-3406-4629-8b73-317282a6b0f1",
   "metadata": {},
   "source": [
    "## Setting up Retrieval Augmeneted Generation (RAG)"
   ]
  },
  {
   "cell_type": "code",
   "execution_count": 8,
   "id": "58b1df5a-9b65-46a3-ad7b-81fafd87749d",
   "metadata": {
    "execution": {
     "iopub.execute_input": "2023-07-22T06:02:10.662354Z",
     "iopub.status.busy": "2023-07-22T06:02:10.661060Z",
     "iopub.status.idle": "2023-07-22T06:03:35.234319Z",
     "shell.execute_reply": "2023-07-22T06:03:35.233976Z",
     "shell.execute_reply.started": "2023-07-22T06:02:10.662300Z"
    },
    "tags": []
   },
   "outputs": [
    {
     "name": "stderr",
     "output_type": "stream",
     "text": [
      "Llama.generate: prefix-match hit\n"
     ]
    },
    {
     "name": "stdout",
     "output_type": "stream",
     "text": [
      " ```Create a Dag class by inheriting from `airflow.operators.Dagle` and defining the `__init__` method with the required parameters, like so:\n",
      "class MyDag(Dagle):\n",
      "    def __init__(self, dag_folder=None, include_examples=conf.getboolean(\"core\", \"LOAD_EXAMPLES\"), safe_mode=conf.getboolean(\"core\", \"DAG_DISCOVERY_SAFE_MODE\"), read_dags_from_db=False):\n",
      "        super().__init__()\n",
      "If you were using positional arguments, it requires no change but if you were using keyword arguments, please change store_serialized_dags to read_dags_from_db. Similarly, if you were using DagBag().store_serialized_dags property, change it to DagBag().read_dags_from_db.\n",
      "You can then use the `MyDag` class as a template for creating your own custom DAGs, and pass in any additional parameters or metadata as needed.```"
     ]
    },
    {
     "name": "stderr",
     "output_type": "stream",
     "text": [
      "\n",
      "llama_print_timings:        load time =  2605.59 ms\n",
      "llama_print_timings:      sample time =   103.33 ms /   234 runs   (    0.44 ms per token,  2264.50 tokens per second)\n",
      "llama_print_timings: prompt eval time = 41304.04 ms /   240 tokens (  172.10 ms per token,     5.81 tokens per second)\n",
      "llama_print_timings:        eval time = 42683.13 ms /   234 runs   (  182.41 ms per token,     5.48 tokens per second)\n",
      "llama_print_timings:       total time = 84561.48 ms\n"
     ]
    },
    {
     "data": {
      "text/plain": [
       "' ```Create a Dag class by inheriting from `airflow.operators.Dagle` and defining the `__init__` method with the required parameters, like so:\\nclass MyDag(Dagle):\\n    def __init__(self, dag_folder=None, include_examples=conf.getboolean(\"core\", \"LOAD_EXAMPLES\"), safe_mode=conf.getboolean(\"core\", \"DAG_DISCOVERY_SAFE_MODE\"), read_dags_from_db=False):\\n        super().__init__()\\nIf you were using positional arguments, it requires no change but if you were using keyword arguments, please change store_serialized_dags to read_dags_from_db. Similarly, if you were using DagBag().store_serialized_dags property, change it to DagBag().read_dags_from_db.\\nYou can then use the `MyDag` class as a template for creating your own custom DAGs, and pass in any additional parameters or metadata as needed.```'"
      ]
     },
     "execution_count": 8,
     "metadata": {},
     "output_type": "execute_result"
    }
   ],
   "source": [
    "prompt = (\n",
    "    \"You are a helpful question and answer bot, your task is to provide the best answer to a given user's question.\\n\"\n",
    "    \"Only use the context below to answer the user's question, if you don't have the necessary information to answer say: 'I don't know!'\\n\"\n",
    "    \"Context and Question are denoted by ```\\n\"\n",
    "    f\"Context: ```{formatted_result}```\\n\\n\"\n",
    "    f\"Question: ```{question}?```\\n\\n\"\n",
    "    \"Response:\"\n",
    ")\n",
    "llm(prompt)\n",
    "# response = text_generation(prompt)\n",
    "# print(response[0][\"generated_text\"].lstrip())"
   ]
  }
 ],
 "metadata": {
  "kernelspec": {
   "display_name": "Python 3 (ipykernel)",
   "language": "python",
   "name": "python3"
  },
  "language_info": {
   "codemirror_mode": {
    "name": "ipython",
    "version": 3
   },
   "file_extension": ".py",
   "mimetype": "text/x-python",
   "name": "python",
   "nbconvert_exporter": "python",
   "pygments_lexer": "ipython3",
   "version": "3.11.4"
  }
 },
 "nbformat": 4,
 "nbformat_minor": 5
}
