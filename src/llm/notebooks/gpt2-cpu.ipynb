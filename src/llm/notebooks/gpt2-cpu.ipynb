{
 "cells": [
  {
   "cell_type": "markdown",
   "id": "63891993-a3a6-4faa-b2c8-59fa84971767",
   "metadata": {},
   "source": [
    "# GPT2 for Retrieval Augmented Generation"
   ]
  },
  {
   "cell_type": "markdown",
   "id": "a1b0395d-63e6-4da5-afbc-35bb816b5368",
   "metadata": {},
   "source": [
    "## Dependencies"
   ]
  },
  {
   "cell_type": "code",
   "execution_count": 1,
   "id": "ce7ceda7-6cb5-49ba-a027-3576ed0feab1",
   "metadata": {},
   "outputs": [
    {
     "name": "stdout",
     "output_type": "stream",
     "text": [
      "Requirement already satisfied: accelerate in /home/jovyan/.local/lib/python3.11/site-packages (0.20.3)\n",
      "Requirement already satisfied: transformers[torch] in /home/jovyan/.local/lib/python3.11/site-packages (4.30.2)\n",
      "Requirement already satisfied: torch in /home/jovyan/.local/lib/python3.11/site-packages (2.0.1)\n",
      "Requirement already satisfied: sentencepiece in /home/jovyan/.local/lib/python3.11/site-packages (0.1.99)\n",
      "Requirement already satisfied: chromadb in /opt/conda/lib/python3.11/site-packages (0.3.26)\n",
      "Requirement already satisfied: xformers in /home/jovyan/.local/lib/python3.11/site-packages (0.0.20)\n",
      "Requirement already satisfied: numpy>=1.17 in /opt/conda/lib/python3.11/site-packages (from accelerate) (1.24.4)\n",
      "Requirement already satisfied: packaging>=20.0 in /opt/conda/lib/python3.11/site-packages (from accelerate) (23.1)\n",
      "Requirement already satisfied: psutil in /opt/conda/lib/python3.11/site-packages (from accelerate) (5.9.5)\n",
      "Requirement already satisfied: pyyaml in /opt/conda/lib/python3.11/site-packages (from accelerate) (6.0)\n",
      "Requirement already satisfied: filelock in /home/jovyan/.local/lib/python3.11/site-packages (from transformers[torch]) (3.12.2)\n",
      "Requirement already satisfied: huggingface-hub<1.0,>=0.14.1 in /home/jovyan/.local/lib/python3.11/site-packages (from transformers[torch]) (0.15.1)\n",
      "Requirement already satisfied: regex!=2019.12.17 in /opt/conda/lib/python3.11/site-packages (from transformers[torch]) (2023.6.3)\n",
      "Requirement already satisfied: requests in /opt/conda/lib/python3.11/site-packages (from transformers[torch]) (2.31.0)\n",
      "Requirement already satisfied: tokenizers!=0.11.3,<0.14,>=0.11.1 in /opt/conda/lib/python3.11/site-packages (from transformers[torch]) (0.13.3)\n",
      "Requirement already satisfied: safetensors>=0.3.1 in /home/jovyan/.local/lib/python3.11/site-packages (from transformers[torch]) (0.3.1)\n",
      "Requirement already satisfied: tqdm>=4.27 in /opt/conda/lib/python3.11/site-packages (from transformers[torch]) (4.65.0)\n",
      "Requirement already satisfied: typing-extensions in /opt/conda/lib/python3.11/site-packages (from torch) (4.7.0)\n",
      "Requirement already satisfied: sympy in /opt/conda/lib/python3.11/site-packages (from torch) (1.12)\n",
      "Requirement already satisfied: networkx in /opt/conda/lib/python3.11/site-packages (from torch) (3.1)\n",
      "Requirement already satisfied: jinja2 in /opt/conda/lib/python3.11/site-packages (from torch) (3.1.2)\n",
      "Requirement already satisfied: pandas>=1.3 in /opt/conda/lib/python3.11/site-packages (from chromadb) (2.0.3)\n",
      "Requirement already satisfied: pydantic>=1.9 in /opt/conda/lib/python3.11/site-packages (from chromadb) (1.10.10)\n",
      "Requirement already satisfied: hnswlib>=0.7 in /opt/conda/lib/python3.11/site-packages (from chromadb) (0.7.0)\n",
      "Requirement already satisfied: clickhouse-connect>=0.5.7 in /opt/conda/lib/python3.11/site-packages (from chromadb) (0.6.4)\n",
      "Requirement already satisfied: duckdb>=0.7.1 in /opt/conda/lib/python3.11/site-packages (from chromadb) (0.8.1)\n",
      "Requirement already satisfied: fastapi>=0.85.1 in /opt/conda/lib/python3.11/site-packages (from chromadb) (0.99.1)\n",
      "Requirement already satisfied: uvicorn[standard]>=0.18.3 in /opt/conda/lib/python3.11/site-packages (from chromadb) (0.22.0)\n",
      "Requirement already satisfied: posthog>=2.4.0 in /opt/conda/lib/python3.11/site-packages (from chromadb) (3.0.1)\n",
      "Requirement already satisfied: pulsar-client>=3.1.0 in /opt/conda/lib/python3.11/site-packages (from chromadb) (3.2.0)\n",
      "Requirement already satisfied: onnxruntime>=1.14.1 in /opt/conda/lib/python3.11/site-packages (from chromadb) (1.15.1)\n",
      "Requirement already satisfied: overrides>=7.3.1 in /opt/conda/lib/python3.11/site-packages (from chromadb) (7.3.1)\n",
      "Requirement already satisfied: pyre-extensions==0.0.29 in /home/jovyan/.local/lib/python3.11/site-packages (from xformers) (0.0.29)\n",
      "Requirement already satisfied: typing-inspect in /opt/conda/lib/python3.11/site-packages (from pyre-extensions==0.0.29->xformers) (0.9.0)\n",
      "Requirement already satisfied: certifi in /opt/conda/lib/python3.11/site-packages (from clickhouse-connect>=0.5.7->chromadb) (2023.5.7)\n",
      "Requirement already satisfied: urllib3>=1.26 in /opt/conda/lib/python3.11/site-packages (from clickhouse-connect>=0.5.7->chromadb) (2.0.3)\n",
      "Requirement already satisfied: pytz in /opt/conda/lib/python3.11/site-packages (from clickhouse-connect>=0.5.7->chromadb) (2023.3)\n",
      "Requirement already satisfied: zstandard in /opt/conda/lib/python3.11/site-packages (from clickhouse-connect>=0.5.7->chromadb) (0.19.0)\n",
      "Requirement already satisfied: lz4 in /opt/conda/lib/python3.11/site-packages (from clickhouse-connect>=0.5.7->chromadb) (4.3.2)\n",
      "Requirement already satisfied: starlette<0.28.0,>=0.27.0 in /opt/conda/lib/python3.11/site-packages (from fastapi>=0.85.1->chromadb) (0.27.0)\n",
      "Requirement already satisfied: fsspec in /opt/conda/lib/python3.11/site-packages (from huggingface-hub<1.0,>=0.14.1->transformers[torch]) (2023.6.0)\n",
      "Requirement already satisfied: coloredlogs in /opt/conda/lib/python3.11/site-packages (from onnxruntime>=1.14.1->chromadb) (15.0.1)\n",
      "Requirement already satisfied: flatbuffers in /opt/conda/lib/python3.11/site-packages (from onnxruntime>=1.14.1->chromadb) (23.5.26)\n",
      "Requirement already satisfied: protobuf in /opt/conda/lib/python3.11/site-packages (from onnxruntime>=1.14.1->chromadb) (4.23.2)\n",
      "Requirement already satisfied: python-dateutil>=2.8.2 in /opt/conda/lib/python3.11/site-packages (from pandas>=1.3->chromadb) (2.8.2)\n",
      "Requirement already satisfied: tzdata>=2022.1 in /opt/conda/lib/python3.11/site-packages (from pandas>=1.3->chromadb) (2023.3)\n",
      "Requirement already satisfied: six>=1.5 in /opt/conda/lib/python3.11/site-packages (from posthog>=2.4.0->chromadb) (1.16.0)\n",
      "Requirement already satisfied: monotonic>=1.5 in /opt/conda/lib/python3.11/site-packages (from posthog>=2.4.0->chromadb) (1.6)\n",
      "Requirement already satisfied: backoff>=1.10.0 in /opt/conda/lib/python3.11/site-packages (from posthog>=2.4.0->chromadb) (2.2.1)\n",
      "Requirement already satisfied: charset-normalizer<4,>=2 in /opt/conda/lib/python3.11/site-packages (from requests->transformers[torch]) (3.1.0)\n",
      "Requirement already satisfied: idna<4,>=2.5 in /opt/conda/lib/python3.11/site-packages (from requests->transformers[torch]) (3.4)\n",
      "Requirement already satisfied: click>=7.0 in /opt/conda/lib/python3.11/site-packages (from uvicorn[standard]>=0.18.3->chromadb) (8.1.3)\n",
      "Requirement already satisfied: h11>=0.8 in /opt/conda/lib/python3.11/site-packages (from uvicorn[standard]>=0.18.3->chromadb) (0.14.0)\n",
      "Requirement already satisfied: httptools>=0.5.0 in /opt/conda/lib/python3.11/site-packages (from uvicorn[standard]>=0.18.3->chromadb) (0.5.0)\n",
      "Requirement already satisfied: python-dotenv>=0.13 in /opt/conda/lib/python3.11/site-packages (from uvicorn[standard]>=0.18.3->chromadb) (1.0.0)\n",
      "Requirement already satisfied: uvloop!=0.15.0,!=0.15.1,>=0.14.0 in /opt/conda/lib/python3.11/site-packages (from uvicorn[standard]>=0.18.3->chromadb) (0.17.0)\n",
      "Requirement already satisfied: watchfiles>=0.13 in /opt/conda/lib/python3.11/site-packages (from uvicorn[standard]>=0.18.3->chromadb) (0.19.0)\n",
      "Requirement already satisfied: websockets>=10.4 in /opt/conda/lib/python3.11/site-packages (from uvicorn[standard]>=0.18.3->chromadb) (11.0.3)\n",
      "Requirement already satisfied: MarkupSafe>=2.0 in /opt/conda/lib/python3.11/site-packages (from jinja2->torch) (2.1.3)\n",
      "Requirement already satisfied: mpmath>=0.19 in /opt/conda/lib/python3.11/site-packages (from sympy->torch) (1.3.0)\n",
      "Requirement already satisfied: anyio<5,>=3.4.0 in /opt/conda/lib/python3.11/site-packages (from starlette<0.28.0,>=0.27.0->fastapi>=0.85.1->chromadb) (3.7.0)\n",
      "Requirement already satisfied: humanfriendly>=9.1 in /opt/conda/lib/python3.11/site-packages (from coloredlogs->onnxruntime>=1.14.1->chromadb) (10.0)\n",
      "Requirement already satisfied: mypy-extensions>=0.3.0 in /opt/conda/lib/python3.11/site-packages (from typing-inspect->pyre-extensions==0.0.29->xformers) (1.0.0)\n",
      "Requirement already satisfied: sniffio>=1.1 in /opt/conda/lib/python3.11/site-packages (from anyio<5,>=3.4.0->starlette<0.28.0,>=0.27.0->fastapi>=0.85.1->chromadb) (1.3.0)\n",
      "Note: you may need to restart the kernel to use updated packages.\n"
     ]
    }
   ],
   "source": [
    "%pip install accelerate transformers[torch] torch sentencepiece chromadb xformers --user"
   ]
  },
  {
   "cell_type": "code",
   "execution_count": 2,
   "id": "41955e10-f9a0-41fe-9ad0-d6ed4cfcf87d",
   "metadata": {},
   "outputs": [],
   "source": [
    "import os\n",
    "from pathlib import Path\n",
    "from transformers import AutoTokenizer, AutoModelForCausalLM, pipeline"
   ]
  },
  {
   "cell_type": "code",
   "execution_count": 3,
   "id": "7167b269-08a2-4eaf-8f5f-3ac1b2c10849",
   "metadata": {},
   "outputs": [],
   "source": [
    "model_id = \"gpt2\"\n",
    "tokenizer = AutoTokenizer.from_pretrained(model_id)\n",
    "model = AutoModelForCausalLM.from_pretrained(model_id)"
   ]
  },
  {
   "cell_type": "code",
   "execution_count": 4,
   "id": "b8bedd55-f460-4d09-b32a-ba1a551b1784",
   "metadata": {},
   "outputs": [
    {
     "name": "stdout",
     "output_type": "stream",
     "text": [
      "Tokenizer saved successfully!\n",
      "Model saved successfully!\n"
     ]
    }
   ],
   "source": [
    "models_path = Path(f\"{os.getcwd()}/models/gpt2\")\n",
    "if not models_path.exists():\n",
    " models_path.mkdir(parents=True, exist_ok=True)\n",
    "\n",
    "# Storing tokenizer locally\n",
    "tokenizer.save_pretrained(str(models_path))\n",
    "print(\"Tokenizer saved successfully!\")\n",
    "# Storing model locally\n",
    "model.save_pretrained(str(models_path))\n",
    "print(\"Model saved successfully!\")"
   ]
  },
  {
   "cell_type": "markdown",
   "id": "fc759050-4db4-453a-ba61-d9e03aa44bd7",
   "metadata": {},
   "source": [
    "## Loading stored model"
   ]
  },
  {
   "cell_type": "code",
   "execution_count": 6,
   "id": "d69da655-a972-495f-badc-974af5d5e563",
   "metadata": {},
   "outputs": [],
   "source": [
    "models_path = Path(f\"{os.getcwd()}/models/gpt2\")\n",
    "tokenizer = AutoTokenizer.from_pretrained(str(models_path))\n",
    "model = AutoModelForCausalLM.from_pretrained(str(models_path))\n",
    "\n",
    "text_generation = pipeline(\n",
    "    \"text-generation\",\n",
    "    model=model,\n",
    "    tokenizer=tokenizer,\n",
    "    max_new_tokens=512,\n",
    "    device_map=\"auto\",\n",
    ")"
   ]
  },
  {
   "cell_type": "markdown",
   "id": "781a93bf-761a-44ed-a125-f6e712282f1d",
   "metadata": {},
   "source": [
    "## Accessing Embeddings Database"
   ]
  },
  {
   "cell_type": "code",
   "execution_count": 7,
   "id": "6f9def60-875c-4c99-8746-2d02d52075a2",
   "metadata": {},
   "outputs": [],
   "source": [
    "import chromadb\n",
    "from chromadb.config import Settings\n",
    "client = chromadb.Client(Settings(\n",
    "    chroma_db_impl=\"duckdb+parquet\",\n",
    "    persist_directory=\"./db/\"\n",
    "))\n",
    "collection = client.get_collection(name=\"airflow_docs_stable\")"
   ]
  },
  {
   "cell_type": "code",
   "execution_count": 20,
   "id": "001cedc5-007d-47a9-9682-178ee422216e",
   "metadata": {},
   "outputs": [
    {
     "name": "stdout",
     "output_type": "stream",
     "text": [
      "dag_loader.py¶  from airflow import DAG  from airflow.decorators import task   import pendulum    def create_dag(dag_id, schedule, dag_number, default_args):      dag = DAG(          dag_id,          schedule=schedule,          default_args=default_args,          pendulum.datetime(2021, 9, 13, tz=\"UTC\"),      )       with dag:           @task()          def hello_world():              print(\"Hello World\")              print(f\"This is DAG: {dag_number}\")           hello_world()       return dag       DAG construction¶\n"
     ]
    }
   ],
   "source": [
    "question = \"Python Code to create a Dag Class\"\n",
    "results = collection.query(\n",
    "    query_texts=[question],\n",
    "    n_results=1,\n",
    ")\n",
    "formatted_result = \"\\n\\n\".join(results[\"documents\"][0])\n",
    "print(formatted_result)"
   ]
  },
  {
   "cell_type": "markdown",
   "id": "72e480e6-8c70-4103-8827-cd60af4bcece",
   "metadata": {},
   "source": [
    "## Setting up Retrieval Augmeneted Generation (RAG)"
   ]
  },
  {
   "cell_type": "code",
   "execution_count": 21,
   "id": "42cdb422-7228-47fa-ab63-1308b3be333c",
   "metadata": {},
   "outputs": [
    {
     "name": "stderr",
     "output_type": "stream",
     "text": [
      "Setting `pad_token_id` to `eos_token_id`:50256 for open-end generation.\n"
     ]
    },
    {
     "name": "stdout",
     "output_type": "stream",
     "text": [
      "You are a helpful question and answer bot, your task is to provide the best answer to a given user's question.\n",
      "Only use the context below to answer the user's question, if you don't have the necessary information to answer say: 'I don't know!'\n",
      "Context and Question are denoted by ```\n",
      "Context: ```dag_loader.py¶  from airflow import DAG  from airflow.decorators import task   import pendulum    def create_dag(dag_id, schedule, dag_number, default_args):      dag = DAG(          dag_id,          schedule=schedule,          default_args=default_args,          pendulum.datetime(2021, 9, 13, tz=\"UTC\"),      )       with dag:           @task()          def hello_world():              print(\"Hello World\")              print(f\"This is DAG: {dag_number}\")           hello_world()       return dag       DAG construction¶```\n",
      "\n",
      "Question: ```Python Code to create a Dag Class?```\n",
      "\n",
      "Response: ```\n",
      "\n",
      "Parameters:\n",
      "\n",
      "dag - a DAG object - the DAG method to create.\n",
      "\n",
      "default - the default DAG function that returns the specified DAG object or function argument (see below).\n",
      "\n",
      "parameter_list - the dictionary of DAG parameters.\n",
      "\n",
      "args - the dictionaries of the DAG parameters.\n",
      "\n",
      "Returns: - an instance DAG object that accepts a Dag method or an object from a specified DAG array.\n",
      "\n",
      "class_parameter_list - the dictionary of parameters.\n",
      "\n",
      "Returns: - a DAG object with the following parameters: parameters: [ 'dag_id', 'default', 'tz', 'UTC', 'tz', 'default',\n",
      "\n",
      "]\n",
      "\n",
      "Returns: [1] objects with the following parameters: parameters: [dag]\n",
      "\n",
      "-- the default dag function - a DAG object to create. ```\n",
      "\n",
      "Args: [ 'dag', 'default', 'tz', 'UTC', 'tz', 'default',\n",
      "\n",
      "]\n",
      "\n",
      "Returns: undefined if Dag is not required while creating the class: no arguments to this function.\n",
      "\n",
      "class_parameter_list - the dict of DAG parameters.\n",
      "\n",
      "\n",
      "Returns: undefined if Dag is not required while creating the class: no arguments to this function.\n",
      "\n",
      "instance_parameter_list - the dictionary of parameters.\n",
      "\n",
      "\n",
      "Returns: undefined if Dag is required when creating a class. ```\n",
      "\n",
      "Parameters: ```.\n",
      "\n",
      "-- the instance DAG object to bind to - set a custom bind_parameter.\n",
      "\n",
      "-- set a custom bind_parameter. [, dag ]\n",
      "\n",
      "Returns: [ :dag, :tz ]\n",
      "\n",
      "You Can See DAG: DAG at GitHub Pages:\n",
      "\n",
      "https://github.com/dag/dag\n",
      "\n",
      "DAG.module.name.starttime.\n",
      "\n",
      "DAG.add_to_range. function() {\n",
      "\n",
      "this[ 'dag' ] = function() {};\n",
      "\n",
      "this[ 'add_to_range' ] ;\n",
      "\n",
      "};\n",
      "\n",
      "add_to_range.add_to_range(this,'s', 'this' );\n",
      "\n",
      "-- Get the distance from the destination and return that.\n",
      "\n",
      "dag = dag_get_distance(this, this,'s', 'this\n"
     ]
    }
   ],
   "source": [
    "prompt = (\n",
    "    \"You are a helpful question and answer bot, your task is to provide the best answer to a given user's question.\\n\"\n",
    "    \"Only use the context below to answer the user's question, if you don't have the necessary information to answer say: 'I don't know!'\\n\"\n",
    "    \"Context and Question are denoted by ```\\n\"\n",
    "    f\"Context: ```{formatted_result}```\\n\\n\"\n",
    "    f\"Question: ```{question}?```\\n\\n\"\n",
    "    \"Response:\"\n",
    ")\n",
    "response = text_generation(prompt)\n",
    "print(response[0][\"generated_text\"].lstrip())"
   ]
  }
 ],
 "metadata": {
  "kernelspec": {
   "display_name": "Python 3 (ipykernel)",
   "language": "python",
   "name": "python3"
  },
  "language_info": {
   "codemirror_mode": {
    "name": "ipython",
    "version": 3
   },
   "file_extension": ".py",
   "mimetype": "text/x-python",
   "name": "python",
   "nbconvert_exporter": "python",
   "pygments_lexer": "ipython3",
   "version": "3.11.4"
  }
 },
 "nbformat": 4,
 "nbformat_minor": 5
}
