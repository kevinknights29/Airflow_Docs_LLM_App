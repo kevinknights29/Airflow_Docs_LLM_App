{
 "cells": [
  {
   "cell_type": "code",
   "execution_count": 1,
   "id": "ce7ceda7-6cb5-49ba-a027-3576ed0feab1",
   "metadata": {},
   "outputs": [
    {
     "name": "stdout",
     "output_type": "stream",
     "text": [
      "Requirement already satisfied: accelerate in /opt/conda/lib/python3.11/site-packages (0.20.3)\n",
      "Requirement already satisfied: transformers[torch] in /opt/conda/lib/python3.11/site-packages (4.30.2)\n",
      "Requirement already satisfied: torch in /opt/conda/lib/python3.11/site-packages (2.0.1)\n",
      "Requirement already satisfied: sentencepiece in /home/jovyan/.local/lib/python3.11/site-packages (0.1.99)\n",
      "Requirement already satisfied: numpy>=1.17 in /opt/conda/lib/python3.11/site-packages (from accelerate) (1.24.4)\n",
      "Requirement already satisfied: packaging>=20.0 in /opt/conda/lib/python3.11/site-packages (from accelerate) (23.1)\n",
      "Requirement already satisfied: psutil in /opt/conda/lib/python3.11/site-packages (from accelerate) (5.9.5)\n",
      "Requirement already satisfied: pyyaml in /opt/conda/lib/python3.11/site-packages (from accelerate) (6.0)\n",
      "Requirement already satisfied: filelock in /opt/conda/lib/python3.11/site-packages (from transformers[torch]) (3.12.2)\n",
      "Requirement already satisfied: huggingface-hub<1.0,>=0.14.1 in /opt/conda/lib/python3.11/site-packages (from transformers[torch]) (0.15.1)\n",
      "Requirement already satisfied: regex!=2019.12.17 in /opt/conda/lib/python3.11/site-packages (from transformers[torch]) (2023.6.3)\n",
      "Requirement already satisfied: requests in /opt/conda/lib/python3.11/site-packages (from transformers[torch]) (2.31.0)\n",
      "Requirement already satisfied: tokenizers!=0.11.3,<0.14,>=0.11.1 in /opt/conda/lib/python3.11/site-packages (from transformers[torch]) (0.13.3)\n",
      "Requirement already satisfied: safetensors>=0.3.1 in /opt/conda/lib/python3.11/site-packages (from transformers[torch]) (0.3.1)\n",
      "Requirement already satisfied: tqdm>=4.27 in /opt/conda/lib/python3.11/site-packages (from transformers[torch]) (4.65.0)\n",
      "Requirement already satisfied: typing-extensions in /opt/conda/lib/python3.11/site-packages (from torch) (4.7.0)\n",
      "Requirement already satisfied: sympy in /opt/conda/lib/python3.11/site-packages (from torch) (1.12)\n",
      "Requirement already satisfied: networkx in /opt/conda/lib/python3.11/site-packages (from torch) (3.1)\n",
      "Requirement already satisfied: jinja2 in /opt/conda/lib/python3.11/site-packages (from torch) (3.1.2)\n",
      "Requirement already satisfied: fsspec in /opt/conda/lib/python3.11/site-packages (from huggingface-hub<1.0,>=0.14.1->transformers[torch]) (2023.6.0)\n",
      "Requirement already satisfied: MarkupSafe>=2.0 in /opt/conda/lib/python3.11/site-packages (from jinja2->torch) (2.1.3)\n",
      "Requirement already satisfied: charset-normalizer<4,>=2 in /opt/conda/lib/python3.11/site-packages (from requests->transformers[torch]) (3.1.0)\n",
      "Requirement already satisfied: idna<4,>=2.5 in /opt/conda/lib/python3.11/site-packages (from requests->transformers[torch]) (3.4)\n",
      "Requirement already satisfied: urllib3<3,>=1.21.1 in /opt/conda/lib/python3.11/site-packages (from requests->transformers[torch]) (2.0.3)\n",
      "Requirement already satisfied: certifi>=2017.4.17 in /opt/conda/lib/python3.11/site-packages (from requests->transformers[torch]) (2023.5.7)\n",
      "Requirement already satisfied: mpmath>=0.19 in /opt/conda/lib/python3.11/site-packages (from sympy->torch) (1.3.0)\n",
      "Note: you may need to restart the kernel to use updated packages.\n"
     ]
    }
   ],
   "source": [
    "%pip install accelerate transformers[torch] torch sentencepiece --user"
   ]
  },
  {
   "cell_type": "code",
   "execution_count": 2,
   "id": "7167b269-08a2-4eaf-8f5f-3ac1b2c10849",
   "metadata": {},
   "outputs": [
    {
     "data": {
      "application/vnd.jupyter.widget-view+json": {
       "model_id": "ab2bc26c46694ce9879303c6b98bf21f",
       "version_major": 2,
       "version_minor": 0
      },
      "text/plain": [
       "Downloading (…)lve/main/config.json:   0%|          | 0.00/789 [00:00<?, ?B/s]"
      ]
     },
     "metadata": {},
     "output_type": "display_data"
    },
    {
     "data": {
      "application/vnd.jupyter.widget-view+json": {
       "model_id": "219ee03c642c485f82a4a83596a8f337",
       "version_major": 2,
       "version_minor": 0
      },
      "text/plain": [
       "Downloading pytorch_model.bin:   0%|          | 0.00/527M [00:00<?, ?B/s]"
      ]
     },
     "metadata": {},
     "output_type": "display_data"
    },
    {
     "data": {
      "application/vnd.jupyter.widget-view+json": {
       "model_id": "f94880820f604edea5edfa8a1e3dc8a6",
       "version_major": 2,
       "version_minor": 0
      },
      "text/plain": [
       "Downloading (…)okenizer_config.json:   0%|          | 0.00/943 [00:00<?, ?B/s]"
      ]
     },
     "metadata": {},
     "output_type": "display_data"
    },
    {
     "data": {
      "application/vnd.jupyter.widget-view+json": {
       "model_id": "d13d41bad0c24adab4617a2b9b7b47e4",
       "version_major": 2,
       "version_minor": 0
      },
      "text/plain": [
       "Downloading spiece.model:   0%|          | 0.00/846k [00:00<?, ?B/s]"
      ]
     },
     "metadata": {},
     "output_type": "display_data"
    },
    {
     "data": {
      "application/vnd.jupyter.widget-view+json": {
       "model_id": "2aac8c97cc704a238ae3554b2fa55528",
       "version_major": 2,
       "version_minor": 0
      },
      "text/plain": [
       "Downloading (…)cial_tokens_map.json:   0%|          | 0.00/775 [00:00<?, ?B/s]"
      ]
     },
     "metadata": {},
     "output_type": "display_data"
    }
   ],
   "source": [
    "from transformers import BigBirdForQuestionAnswering, AutoTokenizer\n",
    "\n",
    "model = BigBirdForQuestionAnswering.from_pretrained(\"google/bigbird-base-trivia-itc\", block_size=16, num_random_blocks=2)\n",
    "tokenizer = AutoTokenizer.from_pretrained(\"google/bigbird-base-trivia-itc\")"
   ]
  },
  {
   "cell_type": "code",
   "execution_count": 3,
   "id": "b8bedd55-f460-4d09-b32a-ba1a551b1784",
   "metadata": {},
   "outputs": [
    {
     "name": "stdout",
     "output_type": "stream",
     "text": [
      "Tokenizer saved successfully!\n",
      "Model saved successfully!\n"
     ]
    }
   ],
   "source": [
    "import os\n",
    "from pathlib import Path\n",
    "\n",
    "models_path = Path(f\"{os.getcwd()}/models/bigbird-base-trivia\")\n",
    "if not models_path.exists():\n",
    " models_path.mkdir(parents=True, exist_ok=True)\n",
    "\n",
    "# Storing tokenizer locally\n",
    "tokenizer.save_pretrained(str(models_path))\n",
    "print(\"Tokenizer saved successfully!\")\n",
    "# Storing model locally\n",
    "model.save_pretrained(str(models_path))\n",
    "print(\"Model saved successfully!\")"
   ]
  },
  {
   "cell_type": "markdown",
   "id": "fc759050-4db4-453a-ba61-d9e03aa44bd7",
   "metadata": {},
   "source": [
    "## Loading stored model"
   ]
  },
  {
   "cell_type": "code",
   "execution_count": 4,
   "id": "d69da655-a972-495f-badc-974af5d5e563",
   "metadata": {},
   "outputs": [],
   "source": [
    "import os\n",
    "from pathlib import Path\n",
    "from transformers import BigBirdForQuestionAnswering, AutoTokenizer\n",
    "\n",
    "models_path = Path(f\"{os.getcwd()}/models/bigbird-base-trivia\")\n",
    "model = BigBirdForQuestionAnswering.from_pretrained(str(models_path))\n",
    "tokenizer = AutoTokenizer.from_pretrained(str(models_path))"
   ]
  },
  {
   "cell_type": "markdown",
   "id": "4502d097-0480-4b43-a8ee-b5c16cec52ce",
   "metadata": {},
   "source": [
    "## Documents URL Scraping"
   ]
  },
  {
   "cell_type": "code",
   "execution_count": 5,
   "id": "d8021850-dae6-429e-9f12-29963383f68f",
   "metadata": {},
   "outputs": [
    {
     "name": "stdout",
     "output_type": "stream",
     "text": [
      "Requirement already satisfied: beautifulsoup4 in /opt/conda/lib/python3.11/site-packages (4.12.2)\n",
      "Requirement already satisfied: requests in /opt/conda/lib/python3.11/site-packages (2.31.0)\n",
      "Requirement already satisfied: soupsieve>1.2 in /opt/conda/lib/python3.11/site-packages (from beautifulsoup4) (2.3.2.post1)\n",
      "Requirement already satisfied: charset-normalizer<4,>=2 in /opt/conda/lib/python3.11/site-packages (from requests) (3.1.0)\n",
      "Requirement already satisfied: idna<4,>=2.5 in /opt/conda/lib/python3.11/site-packages (from requests) (3.4)\n",
      "Requirement already satisfied: urllib3<3,>=1.21.1 in /opt/conda/lib/python3.11/site-packages (from requests) (2.0.3)\n",
      "Requirement already satisfied: certifi>=2017.4.17 in /opt/conda/lib/python3.11/site-packages (from requests) (2023.5.7)\n",
      "Note: you may need to restart the kernel to use updated packages.\n"
     ]
    }
   ],
   "source": [
    "%pip install beautifulsoup4 requests"
   ]
  },
  {
   "cell_type": "code",
   "execution_count": 22,
   "id": "eacd9fe2-47bc-405f-bcfd-d36b704b6b3a",
   "metadata": {},
   "outputs": [
    {
     "name": "stdout",
     "output_type": "stream",
     "text": [
      "https://airflow.apache.org/docs/apache-airflow/stable/administration-and-deployment/index.html\n",
      "https://airflow.apache.org/docs/apache-airflow/stable/license.html\n",
      "https://airflow.apache.org/docs/apache-airflow/stable/migrations-ref.html\n",
      "https://airflow.apache.org/docs/apache-airflow/stable/\n",
      "https://airflow.apache.org/docs/apache-airflow/stable/deprecated-rest-api-ref.html\n",
      "https://airflow.apache.org/docs/apache-airflow/stable/best-practices.html\n",
      "https://airflow.apache.org/docs/apache-airflow/stable/templates-ref.html\n",
      "https://airflow.apache.org/docs/apache-airflow/stable/configurations-ref.html\n",
      "https://airflow.apache.org/docs/apache-airflow/stable/integration.html\n",
      "https://airflow.apache.org/docs/apache-airflow/stable/database-erd-ref.html\n",
      "https://airflow.apache.org/docs/apache-airflow/stable/release_notes.html\n",
      "https://airflow.apache.org/docs/apache-airflow/stable/ui.html\n",
      "https://airflow.apache.org/docs/apache-airflow/stable/operators-and-hooks-ref.html\n",
      "https://airflow.apache.org/docs/apache-airflow/stable/core-concepts/index.html\n",
      "https://airflow.apache.org/docs/apache-airflow/stable/public-airflow-interface.html\n",
      "https://airflow.apache.org/docs/apache-airflow/stable/howto/index.html\n",
      "https://airflow.apache.org/docs/apache-airflow/stable/project.html\n",
      "https://airflow.apache.org/docs/apache-airflow/stable/installation/index.html\n",
      "https://airflow.apache.org/docs/apache-airflow/stable/cli-and-env-variables-ref.html\n",
      "https://airflow.apache.org/docs/apache-airflow/stable/privacy_notice.html\n",
      "https://airflow.apache.org/docs/apache-airflow/stable/start.html\n",
      "https://airflow.apache.org/docs/apache-airflow/stable/tutorial/index.html\n",
      "https://airflow.apache.org/docs/apache-airflow/stable/stable-rest-api-ref.html\n",
      "https://airflow.apache.org/docs/apache-airflow/stable/release-process.html\n",
      "https://airflow.apache.org/docs/apache-airflow/stable/faq.html\n",
      "https://airflow.apache.org/docs/apache-airflow/stable/extra-packages-ref.html\n",
      "https://airflow.apache.org/docs/apache-airflow/stable/authoring-and-scheduling/index.html\n"
     ]
    }
   ],
   "source": [
    "from pathlib import Path\n",
    "from urllib.parse import urlparse\n",
    "from bs4 import BeautifulSoup\n",
    "import requests\n",
    "\n",
    "root_url = \"https://airflow.apache.org/docs/apache-airflow/stable/\"\n",
    "root_response = requests.get(root_url)\n",
    "root_html = root_response.content.decode(\"utf-8\")\n",
    "soup = BeautifulSoup(root_html, 'html.parser')\n",
    "\n",
    "root_url_parts = urlparse(root_url)\n",
    "root_links = soup.find_all(\"a\", attrs={\"class\": \"reference internal\"})\n",
    "\n",
    "result = set()\n",
    "for root_link in root_links:\n",
    "    path = root_url_parts.path + root_link.get(\"href\")\n",
    "    path = str(Path(path).resolve())\n",
    "    path = urlparse(path).path\n",
    "    url = f\"{root_url_parts.scheme}://{root_url_parts.netloc}{path}\"\n",
    "    result.add(url)\n",
    "urls = list(result)\n",
    "print(*urls, sep=\"\\n\")"
   ]
  },
  {
   "cell_type": "markdown",
   "id": "8bda3f08-0f9e-473c-8b28-d0ed8aa297c8",
   "metadata": {},
   "source": [
    "## Embeddings Database"
   ]
  },
  {
   "cell_type": "code",
   "execution_count": 7,
   "id": "9f11bebd-d2a6-42fc-aa0b-f74e9ccb4a3e",
   "metadata": {},
   "outputs": [
    {
     "name": "stdout",
     "output_type": "stream",
     "text": [
      "Requirement already satisfied: langchain in /opt/conda/lib/python3.11/site-packages (0.0.220)\n",
      "Requirement already satisfied: PyYAML>=5.4.1 in /opt/conda/lib/python3.11/site-packages (from langchain) (6.0)\n",
      "Requirement already satisfied: SQLAlchemy<3,>=1.4 in /opt/conda/lib/python3.11/site-packages (from langchain) (2.0.17)\n",
      "Requirement already satisfied: aiohttp<4.0.0,>=3.8.3 in /opt/conda/lib/python3.11/site-packages (from langchain) (3.8.4)\n",
      "Requirement already satisfied: dataclasses-json<0.6.0,>=0.5.7 in /opt/conda/lib/python3.11/site-packages (from langchain) (0.5.9)\n",
      "Requirement already satisfied: langchainplus-sdk>=0.0.17 in /opt/conda/lib/python3.11/site-packages (from langchain) (0.0.19)\n",
      "Requirement already satisfied: numexpr<3.0.0,>=2.8.4 in /opt/conda/lib/python3.11/site-packages (from langchain) (2.8.4)\n",
      "Requirement already satisfied: numpy<2,>=1 in /opt/conda/lib/python3.11/site-packages (from langchain) (1.24.4)\n",
      "Requirement already satisfied: openapi-schema-pydantic<2.0,>=1.2 in /opt/conda/lib/python3.11/site-packages (from langchain) (1.2.4)\n",
      "Requirement already satisfied: pydantic<2,>=1 in /opt/conda/lib/python3.11/site-packages (from langchain) (1.10.10)\n",
      "Requirement already satisfied: requests<3,>=2 in /opt/conda/lib/python3.11/site-packages (from langchain) (2.31.0)\n",
      "Requirement already satisfied: tenacity<9.0.0,>=8.1.0 in /opt/conda/lib/python3.11/site-packages (from langchain) (8.2.2)\n",
      "Requirement already satisfied: attrs>=17.3.0 in /opt/conda/lib/python3.11/site-packages (from aiohttp<4.0.0,>=3.8.3->langchain) (23.1.0)\n",
      "Requirement already satisfied: charset-normalizer<4.0,>=2.0 in /opt/conda/lib/python3.11/site-packages (from aiohttp<4.0.0,>=3.8.3->langchain) (3.1.0)\n",
      "Requirement already satisfied: multidict<7.0,>=4.5 in /opt/conda/lib/python3.11/site-packages (from aiohttp<4.0.0,>=3.8.3->langchain) (6.0.4)\n",
      "Requirement already satisfied: async-timeout<5.0,>=4.0.0a3 in /opt/conda/lib/python3.11/site-packages (from aiohttp<4.0.0,>=3.8.3->langchain) (4.0.2)\n",
      "Requirement already satisfied: yarl<2.0,>=1.0 in /opt/conda/lib/python3.11/site-packages (from aiohttp<4.0.0,>=3.8.3->langchain) (1.9.2)\n",
      "Requirement already satisfied: frozenlist>=1.1.1 in /opt/conda/lib/python3.11/site-packages (from aiohttp<4.0.0,>=3.8.3->langchain) (1.3.3)\n",
      "Requirement already satisfied: aiosignal>=1.1.2 in /opt/conda/lib/python3.11/site-packages (from aiohttp<4.0.0,>=3.8.3->langchain) (1.3.1)\n",
      "Requirement already satisfied: marshmallow<4.0.0,>=3.3.0 in /opt/conda/lib/python3.11/site-packages (from dataclasses-json<0.6.0,>=0.5.7->langchain) (3.19.0)\n",
      "Requirement already satisfied: marshmallow-enum<2.0.0,>=1.5.1 in /opt/conda/lib/python3.11/site-packages (from dataclasses-json<0.6.0,>=0.5.7->langchain) (1.5.1)\n",
      "Requirement already satisfied: typing-inspect>=0.4.0 in /opt/conda/lib/python3.11/site-packages (from dataclasses-json<0.6.0,>=0.5.7->langchain) (0.9.0)\n",
      "Requirement already satisfied: typing-extensions>=4.2.0 in /opt/conda/lib/python3.11/site-packages (from pydantic<2,>=1->langchain) (4.7.0)\n",
      "Requirement already satisfied: idna<4,>=2.5 in /opt/conda/lib/python3.11/site-packages (from requests<3,>=2->langchain) (3.4)\n",
      "Requirement already satisfied: urllib3<3,>=1.21.1 in /opt/conda/lib/python3.11/site-packages (from requests<3,>=2->langchain) (2.0.3)\n",
      "Requirement already satisfied: certifi>=2017.4.17 in /opt/conda/lib/python3.11/site-packages (from requests<3,>=2->langchain) (2023.5.7)\n",
      "Requirement already satisfied: greenlet!=0.4.17 in /opt/conda/lib/python3.11/site-packages (from SQLAlchemy<3,>=1.4->langchain) (2.0.2)\n",
      "Requirement already satisfied: packaging>=17.0 in /opt/conda/lib/python3.11/site-packages (from marshmallow<4.0.0,>=3.3.0->dataclasses-json<0.6.0,>=0.5.7->langchain) (23.1)\n",
      "Requirement already satisfied: mypy-extensions>=0.3.0 in /opt/conda/lib/python3.11/site-packages (from typing-inspect>=0.4.0->dataclasses-json<0.6.0,>=0.5.7->langchain) (1.0.0)\n",
      "Note: you may need to restart the kernel to use updated packages.\n"
     ]
    }
   ],
   "source": [
    "%pip install langchain"
   ]
  },
  {
   "cell_type": "code",
   "execution_count": 89,
   "id": "5187b1e9-3361-477d-b664-3cb5777a37ef",
   "metadata": {},
   "outputs": [
    {
     "name": "stdout",
     "output_type": "stream",
     "text": [
      "Total documents:  1459\n"
     ]
    }
   ],
   "source": [
    "from langchain.document_loaders import WebBaseLoader\n",
    "from langchain.text_splitter import RecursiveCharacterTextSplitter\n",
    "\n",
    "loader = WebBaseLoader(urls)\n",
    "documents = loader.load()\n",
    "\n",
    "text_splitter = RecursiveCharacterTextSplitter(chunk_size=1000, chunk_overlap=100)\n",
    "splitted_documents = text_splitter.split_documents(documents)\n",
    "print(\"Total documents: \", len(splitted_documents))"
   ]
  },
  {
   "cell_type": "code",
   "execution_count": 90,
   "id": "58f970e7-00ca-4712-8879-4f0ee77d2bd6",
   "metadata": {},
   "outputs": [
    {
     "data": {
      "text/plain": [
       "Document(page_content='Administration and Deployment — Airflow Documentation\\n\\n\\n\\n\\n\\n\\n\\n\\n\\n\\n\\n\\n\\n\\n\\n\\n\\n\\n\\n\\n\\n\\n\\n\\n\\n\\n\\n\\n\\n\\n\\n\\n\\n\\n\\n\\n\\n\\n\\n\\n\\n\\n\\n\\n\\n\\n\\n\\n\\n\\n\\n                            Community\\n                        \\n\\n                            Meetups\\n                        \\n\\n                            Documentation\\n                        \\n\\n                            Use-cases\\n                        \\n\\n                            Announcements\\n                        \\n\\n                            Blog\\n                        \\n\\n                            Ecosystem\\n                        \\n\\n\\n\\n\\n\\n\\n\\n\\n\\n\\n\\n\\n\\n\\n\\n\\n\\n\\n\\n\\n\\n\\n\\n\\n\\n\\n\\n\\n\\n\\n\\n\\n\\n\\n\\n\\n\\n                                Community\\n                            \\n\\n                                Meetups\\n                            \\n\\n                                Documentation\\n                            \\n\\n                                Use-cases\\n                            \\n\\n                                Announcements', metadata={'source': 'https://airflow.apache.org/docs/apache-airflow/stable/administration-and-deployment/index.html', 'title': 'Administration and Deployment — Airflow Documentation', 'language': 'en'})"
      ]
     },
     "execution_count": 90,
     "metadata": {},
     "output_type": "execute_result"
    }
   ],
   "source": [
    "splitted_documents[0]"
   ]
  },
  {
   "cell_type": "code",
   "execution_count": 34,
   "id": "b759b7aa-9c6d-466e-ba12-629b242f23f7",
   "metadata": {},
   "outputs": [
    {
     "name": "stdout",
     "output_type": "stream",
     "text": [
      "huggingface/tokenizers: The current process just got forked, after parallelism has already been used. Disabling parallelism to avoid deadlocks...\n",
      "To disable this warning, you can either:\n",
      "\t- Avoid using `tokenizers` before the fork if possible\n",
      "\t- Explicitly set the environment variable TOKENIZERS_PARALLELISM=(true | false)\n",
      "Requirement already satisfied: pandas in /opt/conda/lib/python3.11/site-packages (2.0.3)\n",
      "Requirement already satisfied: python-dateutil>=2.8.2 in /opt/conda/lib/python3.11/site-packages (from pandas) (2.8.2)\n",
      "Requirement already satisfied: pytz>=2020.1 in /opt/conda/lib/python3.11/site-packages (from pandas) (2023.3)\n",
      "Requirement already satisfied: tzdata>=2022.1 in /opt/conda/lib/python3.11/site-packages (from pandas) (2023.3)\n",
      "Requirement already satisfied: numpy>=1.21.0 in /opt/conda/lib/python3.11/site-packages (from pandas) (1.24.4)\n",
      "Requirement already satisfied: six>=1.5 in /opt/conda/lib/python3.11/site-packages (from python-dateutil>=2.8.2->pandas) (1.16.0)\n",
      "Note: you may need to restart the kernel to use updated packages.\n"
     ]
    }
   ],
   "source": [
    "%pip install pandas"
   ]
  },
  {
   "cell_type": "code",
   "execution_count": 91,
   "id": "a6c4c736-1963-41a0-a6a3-f9eea96d36e8",
   "metadata": {},
   "outputs": [
    {
     "data": {
      "text/html": [
       "<div>\n",
       "<style scoped>\n",
       "    .dataframe tbody tr th:only-of-type {\n",
       "        vertical-align: middle;\n",
       "    }\n",
       "\n",
       "    .dataframe tbody tr th {\n",
       "        vertical-align: top;\n",
       "    }\n",
       "\n",
       "    .dataframe thead th {\n",
       "        text-align: right;\n",
       "    }\n",
       "</style>\n",
       "<table border=\"1\" class=\"dataframe\">\n",
       "  <thead>\n",
       "    <tr style=\"text-align: right;\">\n",
       "      <th></th>\n",
       "      <th>page_content</th>\n",
       "      <th>source</th>\n",
       "      <th>title</th>\n",
       "      <th>language</th>\n",
       "    </tr>\n",
       "  </thead>\n",
       "  <tbody>\n",
       "    <tr>\n",
       "      <th>0</th>\n",
       "      <td>Administration and Deployment — Airflow Docume...</td>\n",
       "      <td>https://airflow.apache.org/docs/apache-airflow...</td>\n",
       "      <td>Administration and Deployment — Airflow Docume...</td>\n",
       "      <td>en</td>\n",
       "    </tr>\n",
       "    <tr>\n",
       "      <th>1</th>\n",
       "      <td>Announcements\\n                            \\n\\...</td>\n",
       "      <td>https://airflow.apache.org/docs/apache-airflow...</td>\n",
       "      <td>Administration and Deployment — Airflow Docume...</td>\n",
       "      <td>en</td>\n",
       "    </tr>\n",
       "    <tr>\n",
       "      <th>2</th>\n",
       "      <td>Internal DB details\\n\\nDatabase Migrations\\nDa...</td>\n",
       "      <td>https://airflow.apache.org/docs/apache-airflow...</td>\n",
       "      <td>Administration and Deployment — Airflow Docume...</td>\n",
       "      <td>en</td>\n",
       "    </tr>\n",
       "    <tr>\n",
       "      <th>3</th>\n",
       "      <td>Production Deployment\\nDatabase backend\\nMulti...</td>\n",
       "      <td>https://airflow.apache.org/docs/apache-airflow...</td>\n",
       "      <td>Administration and Deployment — Airflow Docume...</td>\n",
       "      <td>en</td>\n",
       "    </tr>\n",
       "    <tr>\n",
       "      <th>4</th>\n",
       "      <td>DAG Serialization\\nDag Serialization Settings\\...</td>\n",
       "      <td>https://airflow.apache.org/docs/apache-airflow...</td>\n",
       "      <td>Administration and Deployment — Airflow Docume...</td>\n",
       "      <td>en</td>\n",
       "    </tr>\n",
       "  </tbody>\n",
       "</table>\n",
       "</div>"
      ],
      "text/plain": [
       "                                        page_content  \\\n",
       "0  Administration and Deployment — Airflow Docume...   \n",
       "1  Announcements\\n                            \\n\\...   \n",
       "2  Internal DB details\\n\\nDatabase Migrations\\nDa...   \n",
       "3  Production Deployment\\nDatabase backend\\nMulti...   \n",
       "4  DAG Serialization\\nDag Serialization Settings\\...   \n",
       "\n",
       "                                              source  \\\n",
       "0  https://airflow.apache.org/docs/apache-airflow...   \n",
       "1  https://airflow.apache.org/docs/apache-airflow...   \n",
       "2  https://airflow.apache.org/docs/apache-airflow...   \n",
       "3  https://airflow.apache.org/docs/apache-airflow...   \n",
       "4  https://airflow.apache.org/docs/apache-airflow...   \n",
       "\n",
       "                                               title language  \n",
       "0  Administration and Deployment — Airflow Docume...       en  \n",
       "1  Administration and Deployment — Airflow Docume...       en  \n",
       "2  Administration and Deployment — Airflow Docume...       en  \n",
       "3  Administration and Deployment — Airflow Docume...       en  \n",
       "4  Administration and Deployment — Airflow Docume...       en  "
      ]
     },
     "execution_count": 91,
     "metadata": {},
     "output_type": "execute_result"
    }
   ],
   "source": [
    "import pandas as pd\n",
    "\n",
    "page_contents = []\n",
    "sources = []\n",
    "titles = []\n",
    "languages = []\n",
    "\n",
    "for document in splitted_documents:\n",
    "    page_contents.append(document.page_content)\n",
    "    if document.metadata:\n",
    "        sources.append(document.metadata.get('source', \"Unknown\"))\n",
    "        titles.append(document.metadata.get('title', \"Unknown\"))\n",
    "        languages.append(document.metadata.get('language', \"Unknown\"))\n",
    "\n",
    "documents_df = pd.DataFrame({\n",
    "    'page_content': page_contents,\n",
    "    'source': sources,\n",
    "    'title': titles,\n",
    "    'language': languages\n",
    "})\n",
    "documents_df.fillna(\"Unknown\", inplace=True)\n",
    "documents_df.head()"
   ]
  },
  {
   "cell_type": "code",
   "execution_count": 92,
   "id": "b091f00d-f589-48f9-b657-bf01e7be54c0",
   "metadata": {},
   "outputs": [],
   "source": [
    "# Replace \\n and \\t with a space\n",
    "documents_df[\"page_content\"] = documents_df[\"page_content\"].replace('\\n', ' ', regex=True)\n",
    "documents_df[\"page_content\"] = documents_df[\"page_content\"].replace('\\t', ' ', regex=True)\n",
    "# Remove leading and trailing spaces\n",
    "documents_df[\"page_content\"] = documents_df[\"page_content\"].str.strip()"
   ]
  },
  {
   "cell_type": "code",
   "execution_count": 93,
   "id": "daa2af2b-4dff-49d3-b830-f01ea8b2a29a",
   "metadata": {},
   "outputs": [
    {
     "data": {
      "text/html": [
       "<div>\n",
       "<style scoped>\n",
       "    .dataframe tbody tr th:only-of-type {\n",
       "        vertical-align: middle;\n",
       "    }\n",
       "\n",
       "    .dataframe tbody tr th {\n",
       "        vertical-align: top;\n",
       "    }\n",
       "\n",
       "    .dataframe thead th {\n",
       "        text-align: right;\n",
       "    }\n",
       "</style>\n",
       "<table border=\"1\" class=\"dataframe\">\n",
       "  <thead>\n",
       "    <tr style=\"text-align: right;\">\n",
       "      <th></th>\n",
       "      <th>page_content</th>\n",
       "      <th>source</th>\n",
       "      <th>title</th>\n",
       "      <th>language</th>\n",
       "    </tr>\n",
       "  </thead>\n",
       "  <tbody>\n",
       "    <tr>\n",
       "      <th>0</th>\n",
       "      <td>Administration and Deployment — Airflow Docume...</td>\n",
       "      <td>https://airflow.apache.org/docs/apache-airflow...</td>\n",
       "      <td>Administration and Deployment — Airflow Docume...</td>\n",
       "      <td>en</td>\n",
       "    </tr>\n",
       "    <tr>\n",
       "      <th>1</th>\n",
       "      <td>Announcements                                 ...</td>\n",
       "      <td>https://airflow.apache.org/docs/apache-airflow...</td>\n",
       "      <td>Administration and Deployment — Airflow Docume...</td>\n",
       "      <td>en</td>\n",
       "    </tr>\n",
       "    <tr>\n",
       "      <th>2</th>\n",
       "      <td>Internal DB details  Database Migrations Datab...</td>\n",
       "      <td>https://airflow.apache.org/docs/apache-airflow...</td>\n",
       "      <td>Administration and Deployment — Airflow Docume...</td>\n",
       "      <td>en</td>\n",
       "    </tr>\n",
       "    <tr>\n",
       "      <th>3</th>\n",
       "      <td>Production Deployment Database backend Multi-N...</td>\n",
       "      <td>https://airflow.apache.org/docs/apache-airflow...</td>\n",
       "      <td>Administration and Deployment — Airflow Docume...</td>\n",
       "      <td>en</td>\n",
       "    </tr>\n",
       "    <tr>\n",
       "      <th>4</th>\n",
       "      <td>DAG Serialization Dag Serialization Settings L...</td>\n",
       "      <td>https://airflow.apache.org/docs/apache-airflow...</td>\n",
       "      <td>Administration and Deployment — Airflow Docume...</td>\n",
       "      <td>en</td>\n",
       "    </tr>\n",
       "  </tbody>\n",
       "</table>\n",
       "</div>"
      ],
      "text/plain": [
       "                                        page_content  \\\n",
       "0  Administration and Deployment — Airflow Docume...   \n",
       "1  Announcements                                 ...   \n",
       "2  Internal DB details  Database Migrations Datab...   \n",
       "3  Production Deployment Database backend Multi-N...   \n",
       "4  DAG Serialization Dag Serialization Settings L...   \n",
       "\n",
       "                                              source  \\\n",
       "0  https://airflow.apache.org/docs/apache-airflow...   \n",
       "1  https://airflow.apache.org/docs/apache-airflow...   \n",
       "2  https://airflow.apache.org/docs/apache-airflow...   \n",
       "3  https://airflow.apache.org/docs/apache-airflow...   \n",
       "4  https://airflow.apache.org/docs/apache-airflow...   \n",
       "\n",
       "                                               title language  \n",
       "0  Administration and Deployment — Airflow Docume...       en  \n",
       "1  Administration and Deployment — Airflow Docume...       en  \n",
       "2  Administration and Deployment — Airflow Docume...       en  \n",
       "3  Administration and Deployment — Airflow Docume...       en  \n",
       "4  Administration and Deployment — Airflow Docume...       en  "
      ]
     },
     "execution_count": 93,
     "metadata": {},
     "output_type": "execute_result"
    }
   ],
   "source": [
    "documents_df.head()"
   ]
  },
  {
   "cell_type": "code",
   "execution_count": 94,
   "id": "af98afd3-d3c3-4393-8566-90fc34850c5f",
   "metadata": {},
   "outputs": [
    {
     "data": {
      "text/plain": [
       "page_content    0\n",
       "source          0\n",
       "title           0\n",
       "language        0\n",
       "dtype: int64"
      ]
     },
     "execution_count": 94,
     "metadata": {},
     "output_type": "execute_result"
    }
   ],
   "source": [
    "documents_df.isnull().sum()"
   ]
  },
  {
   "cell_type": "code",
   "execution_count": 38,
   "id": "18cdd3a0-6ea1-492e-8c9b-502ee5af68cc",
   "metadata": {},
   "outputs": [
    {
     "name": "stdout",
     "output_type": "stream",
     "text": [
      "huggingface/tokenizers: The current process just got forked, after parallelism has already been used. Disabling parallelism to avoid deadlocks...\n",
      "To disable this warning, you can either:\n",
      "\t- Avoid using `tokenizers` before the fork if possible\n",
      "\t- Explicitly set the environment variable TOKENIZERS_PARALLELISM=(true | false)\n",
      "Requirement already satisfied: pyarrow in /opt/conda/lib/python3.11/site-packages (12.0.1)\n",
      "Collecting fastparquet\n",
      "  Downloading fastparquet-2023.7.0-cp311-cp311-manylinux_2_17_aarch64.manylinux2014_aarch64.whl (1.6 MB)\n",
      "\u001b[2K     \u001b[90m━━━━━━━━━━━━━━━━━━━━━━━━━━━━━━━━━━━━━━━━\u001b[0m \u001b[32m1.6/1.6 MB\u001b[0m \u001b[31m10.5 MB/s\u001b[0m eta \u001b[36m0:00:00\u001b[0m00:01\u001b[0m00:01\u001b[0m\n",
      "\u001b[?25hRequirement already satisfied: numpy>=1.16.6 in /opt/conda/lib/python3.11/site-packages (from pyarrow) (1.24.4)\n",
      "Requirement already satisfied: pandas>=1.5.0 in /opt/conda/lib/python3.11/site-packages (from fastparquet) (2.0.3)\n",
      "Collecting cramjam>=2.3 (from fastparquet)\n",
      "  Downloading cramjam-2.6.2-cp311-cp311-manylinux_2_17_aarch64.manylinux2014_aarch64.whl (1.7 MB)\n",
      "\u001b[2K     \u001b[90m━━━━━━━━━━━━━━━━━━━━━━━━━━━━━━━━━━━━━━━━\u001b[0m \u001b[32m1.7/1.7 MB\u001b[0m \u001b[31m30.4 MB/s\u001b[0m eta \u001b[36m0:00:00\u001b[0ma \u001b[36m0:00:01\u001b[0m\n",
      "\u001b[?25hRequirement already satisfied: fsspec in /opt/conda/lib/python3.11/site-packages (from fastparquet) (2023.6.0)\n",
      "Requirement already satisfied: packaging in /opt/conda/lib/python3.11/site-packages (from fastparquet) (23.1)\n",
      "Requirement already satisfied: python-dateutil>=2.8.2 in /opt/conda/lib/python3.11/site-packages (from pandas>=1.5.0->fastparquet) (2.8.2)\n",
      "Requirement already satisfied: pytz>=2020.1 in /opt/conda/lib/python3.11/site-packages (from pandas>=1.5.0->fastparquet) (2023.3)\n",
      "Requirement already satisfied: tzdata>=2022.1 in /opt/conda/lib/python3.11/site-packages (from pandas>=1.5.0->fastparquet) (2023.3)\n",
      "Requirement already satisfied: six>=1.5 in /opt/conda/lib/python3.11/site-packages (from python-dateutil>=2.8.2->pandas>=1.5.0->fastparquet) (1.16.0)\n",
      "Installing collected packages: cramjam, fastparquet\n",
      "Successfully installed cramjam-2.6.2 fastparquet-2023.7.0\n",
      "Note: you may need to restart the kernel to use updated packages.\n"
     ]
    }
   ],
   "source": [
    "%pip install pyarrow fastparquet"
   ]
  },
  {
   "cell_type": "code",
   "execution_count": 95,
   "id": "c8046064-52b5-4b01-9de3-753e80cd4d81",
   "metadata": {},
   "outputs": [],
   "source": [
    "documents_df.to_parquet('./documents.parquet')"
   ]
  },
  {
   "cell_type": "code",
   "execution_count": 12,
   "id": "55899cfb-fe44-445d-9e16-1814a123d4fc",
   "metadata": {},
   "outputs": [
    {
     "name": "stdout",
     "output_type": "stream",
     "text": [
      "Collecting chromadb\n",
      "  Downloading chromadb-0.3.26-py3-none-any.whl (123 kB)\n",
      "\u001b[2K     \u001b[90m━━━━━━━━━━━━━━━━━━━━━━━━━━━━━━━━━━━━━━━\u001b[0m \u001b[32m123.6/123.6 kB\u001b[0m \u001b[31m3.3 MB/s\u001b[0m eta \u001b[36m0:00:00\u001b[0m00:01\u001b[0m\n",
      "\u001b[?25hRequirement already satisfied: pandas>=1.3 in /opt/conda/lib/python3.11/site-packages (from chromadb) (2.0.3)\n",
      "Requirement already satisfied: requests>=2.28 in /opt/conda/lib/python3.11/site-packages (from chromadb) (2.31.0)\n",
      "Requirement already satisfied: pydantic>=1.9 in /opt/conda/lib/python3.11/site-packages (from chromadb) (1.10.10)\n",
      "Collecting hnswlib>=0.7 (from chromadb)\n",
      "  Downloading hnswlib-0.7.0.tar.gz (33 kB)\n",
      "  Installing build dependencies ... \u001b[?25ldone\n",
      "\u001b[?25h  Getting requirements to build wheel ... \u001b[?25ldone\n",
      "\u001b[?25h  Preparing metadata (pyproject.toml) ... \u001b[?25ldone\n",
      "\u001b[?25hCollecting clickhouse-connect>=0.5.7 (from chromadb)\n",
      "  Downloading clickhouse_connect-0.6.4-cp311-cp311-manylinux_2_17_aarch64.manylinux2014_aarch64.whl (1.0 MB)\n",
      "\u001b[2K     \u001b[90m━━━━━━━━━━━━━━━━━━━━━━━━━━━━━━━━━━━━━━━━\u001b[0m \u001b[32m1.0/1.0 MB\u001b[0m \u001b[31m12.9 MB/s\u001b[0m eta \u001b[36m0:00:00\u001b[0ma \u001b[36m0:00:01\u001b[0m\n",
      "\u001b[?25hCollecting duckdb>=0.7.1 (from chromadb)\n",
      "  Downloading duckdb-0.8.1-cp311-cp311-manylinux_2_17_aarch64.manylinux2014_aarch64.whl (14.8 MB)\n",
      "\u001b[2K     \u001b[90m━━━━━━━━━━━━━━━━━━━━━━━━━━━━━━━━━━━━━━━━\u001b[0m \u001b[32m14.8/14.8 MB\u001b[0m \u001b[31m16.2 MB/s\u001b[0m eta \u001b[36m0:00:00\u001b[0m00:01\u001b[0m00:01\u001b[0m\n",
      "\u001b[?25hCollecting fastapi>=0.85.1 (from chromadb)\n",
      "  Downloading fastapi-0.99.0-py3-none-any.whl (58 kB)\n",
      "\u001b[2K     \u001b[90m━━━━━━━━━━━━━━━━━━━━━━━━━━━━━━━━━━━━━━━━\u001b[0m \u001b[32m58.2/58.2 kB\u001b[0m \u001b[31m24.9 MB/s\u001b[0m eta \u001b[36m0:00:00\u001b[0m\n",
      "\u001b[?25hCollecting uvicorn[standard]>=0.18.3 (from chromadb)\n",
      "  Downloading uvicorn-0.22.0-py3-none-any.whl (58 kB)\n",
      "\u001b[2K     \u001b[90m━━━━━━━━━━━━━━━━━━━━━━━━━━━━━━━━━━━━━━━━\u001b[0m \u001b[32m58.3/58.3 kB\u001b[0m \u001b[31m15.5 MB/s\u001b[0m eta \u001b[36m0:00:00\u001b[0m\n",
      "\u001b[?25hRequirement already satisfied: numpy>=1.21.6 in /opt/conda/lib/python3.11/site-packages (from chromadb) (1.24.4)\n",
      "Collecting posthog>=2.4.0 (from chromadb)\n",
      "  Downloading posthog-3.0.1-py2.py3-none-any.whl (37 kB)\n",
      "Requirement already satisfied: typing-extensions>=4.5.0 in /opt/conda/lib/python3.11/site-packages (from chromadb) (4.7.0)\n",
      "Collecting pulsar-client>=3.1.0 (from chromadb)\n",
      "  Downloading pulsar_client-3.2.0-cp311-cp311-manylinux_2_17_aarch64.manylinux2014_aarch64.whl (5.1 MB)\n",
      "\u001b[2K     \u001b[90m━━━━━━━━━━━━━━━━━━━━━━━━━━━━━━━━━━━━━━━━\u001b[0m \u001b[32m5.1/5.1 MB\u001b[0m \u001b[31m14.6 MB/s\u001b[0m eta \u001b[36m0:00:00\u001b[0m00:01\u001b[0m00:01\u001b[0m\n",
      "\u001b[?25hCollecting onnxruntime>=1.14.1 (from chromadb)\n",
      "  Downloading onnxruntime-1.15.1-cp311-cp311-manylinux_2_17_aarch64.manylinux2014_aarch64.whl (5.4 MB)\n",
      "\u001b[2K     \u001b[90m━━━━━━━━━━━━━━━━━━━━━━━━━━━━━━━━━━━━━━━━\u001b[0m \u001b[32m5.4/5.4 MB\u001b[0m \u001b[31m14.7 MB/s\u001b[0m eta \u001b[36m0:00:00\u001b[0m00:01\u001b[0m00:01\u001b[0m\n",
      "\u001b[?25hRequirement already satisfied: tokenizers>=0.13.2 in /opt/conda/lib/python3.11/site-packages (from chromadb) (0.13.3)\n",
      "Requirement already satisfied: tqdm>=4.65.0 in /opt/conda/lib/python3.11/site-packages (from chromadb) (4.65.0)\n",
      "Requirement already satisfied: overrides>=7.3.1 in /opt/conda/lib/python3.11/site-packages (from chromadb) (7.3.1)\n",
      "Requirement already satisfied: certifi in /opt/conda/lib/python3.11/site-packages (from clickhouse-connect>=0.5.7->chromadb) (2023.5.7)\n",
      "Requirement already satisfied: urllib3>=1.26 in /opt/conda/lib/python3.11/site-packages (from clickhouse-connect>=0.5.7->chromadb) (2.0.3)\n",
      "Requirement already satisfied: pytz in /opt/conda/lib/python3.11/site-packages (from clickhouse-connect>=0.5.7->chromadb) (2023.3)\n",
      "Requirement already satisfied: zstandard in /opt/conda/lib/python3.11/site-packages (from clickhouse-connect>=0.5.7->chromadb) (0.19.0)\n",
      "Requirement already satisfied: lz4 in /opt/conda/lib/python3.11/site-packages (from clickhouse-connect>=0.5.7->chromadb) (4.3.2)\n",
      "Collecting starlette<0.28.0,>=0.27.0 (from fastapi>=0.85.1->chromadb)\n",
      "  Downloading starlette-0.27.0-py3-none-any.whl (66 kB)\n",
      "\u001b[2K     \u001b[90m━━━━━━━━━━━━━━━━━━━━━━━━━━━━━━━━━━━━━━━━\u001b[0m \u001b[32m67.0/67.0 kB\u001b[0m \u001b[31m16.5 MB/s\u001b[0m eta \u001b[36m0:00:00\u001b[0m\n",
      "\u001b[?25hCollecting coloredlogs (from onnxruntime>=1.14.1->chromadb)\n",
      "  Downloading coloredlogs-15.0.1-py2.py3-none-any.whl (46 kB)\n",
      "\u001b[2K     \u001b[90m━━━━━━━━━━━━━━━━━━━━━━━━━━━━━━━━━━━━━━━━\u001b[0m \u001b[32m46.0/46.0 kB\u001b[0m \u001b[31m23.3 MB/s\u001b[0m eta \u001b[36m0:00:00\u001b[0m\n",
      "\u001b[?25hCollecting flatbuffers (from onnxruntime>=1.14.1->chromadb)\n",
      "  Downloading flatbuffers-23.5.26-py2.py3-none-any.whl (26 kB)\n",
      "Requirement already satisfied: packaging in /opt/conda/lib/python3.11/site-packages (from onnxruntime>=1.14.1->chromadb) (23.1)\n",
      "Requirement already satisfied: protobuf in /opt/conda/lib/python3.11/site-packages (from onnxruntime>=1.14.1->chromadb) (4.23.2)\n",
      "Requirement already satisfied: sympy in /opt/conda/lib/python3.11/site-packages (from onnxruntime>=1.14.1->chromadb) (1.12)\n",
      "Requirement already satisfied: python-dateutil>=2.8.2 in /opt/conda/lib/python3.11/site-packages (from pandas>=1.3->chromadb) (2.8.2)\n",
      "Requirement already satisfied: tzdata>=2022.1 in /opt/conda/lib/python3.11/site-packages (from pandas>=1.3->chromadb) (2023.3)\n",
      "Requirement already satisfied: six>=1.5 in /opt/conda/lib/python3.11/site-packages (from posthog>=2.4.0->chromadb) (1.16.0)\n",
      "Collecting monotonic>=1.5 (from posthog>=2.4.0->chromadb)\n",
      "  Downloading monotonic-1.6-py2.py3-none-any.whl (8.2 kB)\n",
      "Collecting backoff>=1.10.0 (from posthog>=2.4.0->chromadb)\n",
      "  Downloading backoff-2.2.1-py3-none-any.whl (15 kB)\n",
      "Requirement already satisfied: charset-normalizer<4,>=2 in /opt/conda/lib/python3.11/site-packages (from requests>=2.28->chromadb) (3.1.0)\n",
      "Requirement already satisfied: idna<4,>=2.5 in /opt/conda/lib/python3.11/site-packages (from requests>=2.28->chromadb) (3.4)\n",
      "Requirement already satisfied: click>=7.0 in /opt/conda/lib/python3.11/site-packages (from uvicorn[standard]>=0.18.3->chromadb) (8.1.3)\n",
      "Collecting h11>=0.8 (from uvicorn[standard]>=0.18.3->chromadb)\n",
      "  Downloading h11-0.14.0-py3-none-any.whl (58 kB)\n",
      "\u001b[2K     \u001b[90m━━━━━━━━━━━━━━━━━━━━━━━━━━━━━━━━━━━━━━━━\u001b[0m \u001b[32m58.3/58.3 kB\u001b[0m \u001b[31m31.9 MB/s\u001b[0m eta \u001b[36m0:00:00\u001b[0m\n",
      "\u001b[?25hCollecting httptools>=0.5.0 (from uvicorn[standard]>=0.18.3->chromadb)\n",
      "  Downloading httptools-0.5.0-cp311-cp311-manylinux_2_17_aarch64.manylinux2014_aarch64.whl (395 kB)\n",
      "\u001b[2K     \u001b[90m━━━━━━━━━━━━━━━━━━━━━━━━━━━━━━━━━━━━━━\u001b[0m \u001b[32m395.5/395.5 kB\u001b[0m \u001b[31m14.2 MB/s\u001b[0m eta \u001b[36m0:00:00\u001b[0m\n",
      "\u001b[?25hCollecting python-dotenv>=0.13 (from uvicorn[standard]>=0.18.3->chromadb)\n",
      "  Downloading python_dotenv-1.0.0-py3-none-any.whl (19 kB)\n",
      "Requirement already satisfied: pyyaml>=5.1 in /opt/conda/lib/python3.11/site-packages (from uvicorn[standard]>=0.18.3->chromadb) (6.0)\n",
      "Collecting uvloop!=0.15.0,!=0.15.1,>=0.14.0 (from uvicorn[standard]>=0.18.3->chromadb)\n",
      "  Downloading uvloop-0.17.0-cp311-cp311-manylinux_2_17_aarch64.manylinux2014_aarch64.whl (4.2 MB)\n",
      "\u001b[2K     \u001b[90m━━━━━━━━━━━━━━━━━━━━━━━━━━━━━━━━━━━━━━━━\u001b[0m \u001b[32m4.2/4.2 MB\u001b[0m \u001b[31m12.1 MB/s\u001b[0m eta \u001b[36m0:00:00\u001b[0ma \u001b[36m0:00:01\u001b[0m\n",
      "\u001b[?25hCollecting watchfiles>=0.13 (from uvicorn[standard]>=0.18.3->chromadb)\n",
      "  Downloading watchfiles-0.19.0-cp37-abi3-manylinux_2_17_aarch64.manylinux2014_aarch64.whl (1.3 MB)\n",
      "\u001b[2K     \u001b[90m━━━━━━━━━━━━━━━━━━━━━━━━━━━━━━━━━━━━━━━━\u001b[0m \u001b[32m1.3/1.3 MB\u001b[0m \u001b[31m15.6 MB/s\u001b[0m eta \u001b[36m0:00:00\u001b[0ma \u001b[36m0:00:01\u001b[0m\n",
      "\u001b[?25hCollecting websockets>=10.4 (from uvicorn[standard]>=0.18.3->chromadb)\n",
      "  Downloading websockets-11.0.3-cp311-cp311-manylinux_2_17_aarch64.manylinux2014_aarch64.whl (131 kB)\n",
      "\u001b[2K     \u001b[90m━━━━━━━━━━━━━━━━━━━━━━━━━━━━━━━━━━━━━━\u001b[0m \u001b[32m131.2/131.2 kB\u001b[0m \u001b[31m18.2 MB/s\u001b[0m eta \u001b[36m0:00:00\u001b[0m\n",
      "\u001b[?25hRequirement already satisfied: anyio<5,>=3.4.0 in /opt/conda/lib/python3.11/site-packages (from starlette<0.28.0,>=0.27.0->fastapi>=0.85.1->chromadb) (3.7.0)\n",
      "Collecting humanfriendly>=9.1 (from coloredlogs->onnxruntime>=1.14.1->chromadb)\n",
      "  Downloading humanfriendly-10.0-py2.py3-none-any.whl (86 kB)\n",
      "\u001b[2K     \u001b[90m━━━━━━━━━━━━━━━━━━━━━━━━━━━━━━━━━━━━━━━━\u001b[0m \u001b[32m86.8/86.8 kB\u001b[0m \u001b[31m30.9 MB/s\u001b[0m eta \u001b[36m0:00:00\u001b[0m\n",
      "\u001b[?25hRequirement already satisfied: mpmath>=0.19 in /opt/conda/lib/python3.11/site-packages (from sympy->onnxruntime>=1.14.1->chromadb) (1.3.0)\n",
      "Requirement already satisfied: sniffio>=1.1 in /opt/conda/lib/python3.11/site-packages (from anyio<5,>=3.4.0->starlette<0.28.0,>=0.27.0->fastapi>=0.85.1->chromadb) (1.3.0)\n",
      "Building wheels for collected packages: hnswlib\n",
      "  Building wheel for hnswlib (pyproject.toml) ... \u001b[?25ldone\n",
      "\u001b[?25h  Created wheel for hnswlib: filename=hnswlib-0.7.0-cp311-cp311-linux_aarch64.whl size=174411 sha256=dd8981654061f76519980f1bb95a3f01ef80ef5492e328f97500b43033a330c8\n",
      "  Stored in directory: /home/jovyan/.cache/pip/wheels/fd/ea/08/149cab5879745530dcf6e264a61e0cc54a4e2e291247bb99ab\n",
      "Successfully built hnswlib\n",
      "Installing collected packages: monotonic, flatbuffers, duckdb, websockets, uvloop, python-dotenv, pulsar-client, humanfriendly, httptools, hnswlib, h11, clickhouse-connect, backoff, watchfiles, uvicorn, starlette, posthog, coloredlogs, onnxruntime, fastapi, chromadb\n",
      "Successfully installed backoff-2.2.1 chromadb-0.3.26 clickhouse-connect-0.6.4 coloredlogs-15.0.1 duckdb-0.8.1 fastapi-0.99.0 flatbuffers-23.5.26 h11-0.14.0 hnswlib-0.7.0 httptools-0.5.0 humanfriendly-10.0 monotonic-1.6 onnxruntime-1.15.1 posthog-3.0.1 pulsar-client-3.2.0 python-dotenv-1.0.0 starlette-0.27.0 uvicorn-0.22.0 uvloop-0.17.0 watchfiles-0.19.0 websockets-11.0.3\n",
      "Note: you may need to restart the kernel to use updated packages.\n"
     ]
    }
   ],
   "source": [
    "%pip install chromadb"
   ]
  },
  {
   "cell_type": "code",
   "execution_count": 14,
   "id": "6f9def60-875c-4c99-8746-2d02d52075a2",
   "metadata": {},
   "outputs": [],
   "source": [
    "import chromadb\n",
    "from chromadb.config import Settings\n",
    "client = chromadb.Client(Settings(\n",
    "    chroma_db_impl=\"duckdb+parquet\",\n",
    "    persist_directory=\"./db/\"\n",
    "))"
   ]
  },
  {
   "cell_type": "code",
   "execution_count": 96,
   "id": "1f0afd55-b8a7-4ae3-91a9-bf6f22622ec2",
   "metadata": {},
   "outputs": [],
   "source": [
    "client.delete_collection(name=\"airflow_docs_stable\")\n",
    "collection = client.get_or_create_collection(name=\"airflow_docs_stable\")"
   ]
  },
  {
   "cell_type": "code",
   "execution_count": 97,
   "id": "e0e73000-a195-4590-bc39-9f5e8c8ee673",
   "metadata": {},
   "outputs": [],
   "source": [
    "for index, row in documents_df.iterrows():\n",
    "    if pd.notnull(row['source']) and pd.notnull(row['title']) and pd.notnull(row['language']):\n",
    "        metadata = {\n",
    "            'source': row['source'],\n",
    "            'title': row['title'],\n",
    "            'language': row['language']\n",
    "        }\n",
    "    collection.add(\n",
    "        documents=[row['page_content']],\n",
    "        metadatas=[metadata],\n",
    "        ids=[str(index)],\n",
    "    )"
   ]
  },
  {
   "cell_type": "code",
   "execution_count": 98,
   "id": "af5a93a2-0ab4-4301-9c9f-2ad44de4ce91",
   "metadata": {},
   "outputs": [
    {
     "data": {
      "text/plain": [
       "True"
      ]
     },
     "execution_count": 98,
     "metadata": {},
     "output_type": "execute_result"
    }
   ],
   "source": [
    "client.persist()"
   ]
  },
  {
   "cell_type": "code",
   "execution_count": 101,
   "id": "001cedc5-007d-47a9-9682-178ee422216e",
   "metadata": {},
   "outputs": [
    {
     "name": "stdout",
     "output_type": "stream",
     "text": [
      "{'ids': [['1212', '1313', '87']], 'embeddings': None, 'documents': [['Using the Public Interface for DAG Authors¶  DAGs¶ The DAG is Airflow’s core entity that represents a recurring workflow. You can create a DAG by instantiating the DAG class in your DAG file. You can also instantiate them via :class::~airflow.models.dagbag.DagBag class that reads DAGs from a file or a folder. DAGs can also have parameters specified via :class::~airflow.models.param.Param class. Airflow has a set of example DAGs that you can use to learn how to write DAGs   airflow.example_dags   You can read more about DAGs in DAGs. References for the modules used in DAGs are here:   airflow.models.dag airflow.models.dagbag airflow.models.param     Operators¶ Operators allow for generation of certain types of tasks that become nodes in the DAG when instantiated. There are 3 main types of operators:', 'Positional Arguments¶  dag_id The id of the dag  execution_date The execution date of the DAG (optional)     Named Arguments¶  -c, --conf JSON string that gets pickled into the DagRun’s conf attribute  --imgcat-dagrun After completing the dag run, prints a diagram on the screen for the current DAG Run using the imgcat tool. Default: False  --save-dagrun After completing the backfill, saves the diagram for current DAG Run to the indicated file.  --show-dagrun After completing the backfill, shows the diagram for current DAG Run. The diagram is in DOT language Default: False  -S, --subdir File location or directory from which to look for the dag. Defaults to ‘[AIRFLOW_HOME]/dags’ where [AIRFLOW_HOME] is the value you set for ‘AIRFLOW_HOME’ config you set in ‘airflow.cfg’ Default: “[AIRFLOW_HOME]/dags”  -v, --verbose Make logging output more verbose Default: False', 'Testing a DAG¶ Airflow users should treat DAGs as production level code, and DAGs should have various associated tests to ensure that they produce expected results. You can write a wide variety of tests for a DAG. Let’s take a look at some of them.  DAG Loader Test¶ This test should ensure that your DAG does not contain a piece of code that raises error while loading. No additional code needs to be written by the user to run this test. python your-dag-file.py']], 'metadatas': [[{'source': 'https://airflow.apache.org/docs/apache-airflow/stable/public-airflow-interface.html', 'title': 'Public Interface of Airflow — Airflow Documentation', 'language': 'en'}, {'source': 'https://airflow.apache.org/docs/apache-airflow/stable/cli-and-env-variables-ref.html', 'title': 'Command Line Interface and Environment Variables Reference — Airflow Documentation', 'language': 'en'}, {'source': 'https://airflow.apache.org/docs/apache-airflow/stable/best-practices.html', 'title': 'Best Practices — Airflow Documentation', 'language': 'en'}]], 'distances': [[0.8171949982643127, 0.8535743355751038, 0.9454146027565002]]}\n"
     ]
    }
   ],
   "source": [
    "question = \"How to create a DAG?\"\n",
    "results = collection.query(\n",
    "    query_texts=[question],\n",
    "    n_results=3,\n",
    ")\n",
    "print(results)"
   ]
  },
  {
   "cell_type": "code",
   "execution_count": 102,
   "id": "fc171d26-e78f-43ca-b78e-e7a38d2a1050",
   "metadata": {},
   "outputs": [
    {
     "name": "stdout",
     "output_type": "stream",
     "text": [
      "Using the Public Interface for DAG Authors¶  DAGs¶ The DAG is Airflow’s core entity that represents a recurring workflow. You can create a DAG by instantiating the DAG class in your DAG file. You can also instantiate them via :class::~airflow.models.dagbag.DagBag class that reads DAGs from a file or a folder. DAGs can also have parameters specified via :class::~airflow.models.param.Param class. Airflow has a set of example DAGs that you can use to learn how to write DAGs   airflow.example_dags   You can read more about DAGs in DAGs. References for the modules used in DAGs are here:   airflow.models.dag airflow.models.dagbag airflow.models.param     Operators¶ Operators allow for generation of certain types of tasks that become nodes in the DAG when instantiated. There are 3 main types of operators:\n",
      "\n",
      "Positional Arguments¶  dag_id The id of the dag  execution_date The execution date of the DAG (optional)     Named Arguments¶  -c, --conf JSON string that gets pickled into the DagRun’s conf attribute  --imgcat-dagrun After completing the dag run, prints a diagram on the screen for the current DAG Run using the imgcat tool. Default: False  --save-dagrun After completing the backfill, saves the diagram for current DAG Run to the indicated file.  --show-dagrun After completing the backfill, shows the diagram for current DAG Run. The diagram is in DOT language Default: False  -S, --subdir File location or directory from which to look for the dag. Defaults to ‘[AIRFLOW_HOME]/dags’ where [AIRFLOW_HOME] is the value you set for ‘AIRFLOW_HOME’ config you set in ‘airflow.cfg’ Default: “[AIRFLOW_HOME]/dags”  -v, --verbose Make logging output more verbose Default: False\n",
      "\n",
      "Testing a DAG¶ Airflow users should treat DAGs as production level code, and DAGs should have various associated tests to ensure that they produce expected results. You can write a wide variety of tests for a DAG. Let’s take a look at some of them.  DAG Loader Test¶ This test should ensure that your DAG does not contain a piece of code that raises error while loading. No additional code needs to be written by the user to run this test. python your-dag-file.py\n"
     ]
    }
   ],
   "source": [
    "formatted_result = \"\\n\\n\".join(results[\"documents\"][0])\n",
    "print(formatted_result)"
   ]
  },
  {
   "cell_type": "code",
   "execution_count": 113,
   "id": "42cdb422-7228-47fa-ab63-1308b3be333c",
   "metadata": {},
   "outputs": [
    {
     "name": "stdout",
     "output_type": "stream",
     "text": [
      "Response Tokens: BigBirdForQuestionAnsweringModelOutput(loss=None, start_logits=tensor([[-1.1608e+01, -1.0000e+06, -1.0000e+06, -1.0000e+06, -1.0000e+06,\n",
      "         -1.0000e+06, -1.0000e+06, -1.0000e+06, -1.0000e+06, -1.0000e+06,\n",
      "         -1.0000e+06, -1.0000e+06, -1.0000e+06, -1.0000e+06, -1.0000e+06,\n",
      "         -1.0000e+06, -1.0000e+06, -1.0000e+06, -1.0000e+06, -1.0000e+06,\n",
      "         -1.0000e+06, -1.0000e+06, -1.0000e+06, -1.0000e+06, -1.0000e+06,\n",
      "         -1.0000e+06, -1.0000e+06, -1.0000e+06, -1.0000e+06, -1.0000e+06,\n",
      "         -1.0000e+06, -1.0000e+06, -6.0038e+00, -1.3273e+01, -4.2253e+00,\n",
      "         -1.0556e+01, -4.7226e+00, -8.4252e+00, -7.3219e+00, -1.3025e+00,\n",
      "         -7.5367e+00, -5.9061e+00, -1.0644e+01, -1.2375e+00, -7.3016e+00,\n",
      "         -9.5997e+00, -1.1638e+01, -2.0047e+00, -8.3847e+00, -1.3064e+01,\n",
      "         -5.5648e+00, -7.6803e+00, -1.0448e+01, -1.2911e+01, -7.7571e+00,\n",
      "         -9.4308e+00, -1.3540e+01, -1.2837e+01, -1.3776e+01, -1.0777e+01,\n",
      "         -8.7497e+00, -1.1388e+01, -8.9814e+00, -9.6167e+00, -1.2215e+01,\n",
      "         -1.4293e+01, -8.3787e+00, -9.3312e+00, -1.3563e+01, -1.0053e+01,\n",
      "         -1.2479e+01, -1.4580e+01, -9.9711e+00, -1.0234e+01, -1.0137e+01,\n",
      "         -1.0783e+01, -1.1533e+01, -9.6236e+00, -1.0285e+01, -1.1380e+01,\n",
      "         -1.2082e+01, -1.0724e+01, -1.1582e+01, -1.3410e+01, -1.0210e+01,\n",
      "         -1.3041e+01, -1.3016e+01, -1.1904e+01, -1.3993e+01, -1.0712e+01,\n",
      "         -1.3498e+01, -1.2851e+01, -6.4762e+00, -8.0348e+00, -1.4145e+01,\n",
      "         -9.1517e+00, -1.3986e+01, -6.4335e+00, -9.4696e+00, -8.5667e+00,\n",
      "         -1.4002e+01, -5.1042e+00, -9.5641e+00, -7.4219e+00, -9.0856e+00,\n",
      "         -8.8920e+00, -1.2823e+01, -9.9419e+00, -9.1899e+00, -1.0801e+01,\n",
      "         -1.2288e+01, -1.4636e+01, -1.1358e+01, -1.3632e+01, -1.4287e+01,\n",
      "         -1.1641e+01, -1.4687e+01, -9.5207e+00, -1.0537e+01, -1.2077e+01,\n",
      "         -1.3890e+01, -1.2841e+01, -1.3562e+01, -1.4076e+01, -1.2091e+01,\n",
      "         -1.3404e+01, -1.0522e+01, -1.3669e+01, -1.3397e+01, -8.2202e+00,\n",
      "         -9.6857e+00, -1.4648e+01, -1.0533e+01, -1.4848e+01, -1.0713e+01,\n",
      "         -1.4593e+01, -1.1429e+01, -9.0973e+00, -1.2255e+01, -7.2301e+00,\n",
      "         -8.5897e+00, -1.1561e+01, -1.4254e+01, -5.3242e+00, -1.2928e+01,\n",
      "         -9.3758e+00, -7.9698e+00, -8.7271e+00, -1.4374e+01, -1.0294e+01,\n",
      "         -1.1006e+01, -1.2405e+01, -1.3741e+01, -1.2231e+01, -1.2250e+01,\n",
      "         -1.3253e+01, -8.3195e+00, -9.8131e+00, -1.0871e+01, -8.2745e+00,\n",
      "         -1.4624e+01, -1.0990e+01, -1.2876e+01, -6.9769e+00, -1.0573e+01,\n",
      "         -1.1661e+01, -1.1143e+01, -1.1160e+01, -1.1403e+01, -1.4207e+01,\n",
      "         -8.8455e+00, -9.6680e+00, -9.3679e+00, -9.1392e+00, -1.0019e+01,\n",
      "         -1.2372e+01, -1.2243e+01, -1.2526e+01, -1.4459e+01, -1.1275e+01,\n",
      "         -1.2912e+01, -1.1834e+01, -9.8286e+00, -1.0272e+01, -1.3682e+01,\n",
      "         -9.3482e+00, -1.4518e+01, -8.3222e+00, -1.4901e+01, -1.0869e+01,\n",
      "         -1.4524e+01, -7.8978e+00, -9.3173e+00, -8.9011e+00, -1.5039e+01,\n",
      "         -1.1119e+01, -1.4548e+01, -7.3161e+00, -1.0222e+01, -7.9208e+00,\n",
      "         -8.5618e+00, -1.5445e+01, -1.1127e+01, -1.5293e+01, -9.8131e+00,\n",
      "         -1.0000e+01, -1.0163e+01, -1.1025e+01, -1.2690e+01, -1.1450e+01,\n",
      "         -1.1216e+01, -1.2443e+01, -1.1325e+01, -1.3903e+01, -1.1470e+01,\n",
      "         -1.4543e+01, -1.3070e+01, -1.2836e+01, -1.4666e+01, -1.0517e+01,\n",
      "         -1.4300e+01, -1.3260e+01, -1.0204e+01, -9.2215e+00, -1.0945e+01,\n",
      "         -4.0439e+00, -8.0555e+00, -1.2144e+01, -9.1719e+00, -1.1911e+01,\n",
      "         -1.4216e+01, -1.2987e+01, -1.3691e+01, -6.4614e+00, -1.1478e+01,\n",
      "         -1.1772e+01, -1.2027e+01, -8.6175e+00, -1.4634e+01, -1.3548e+01,\n",
      "         -6.6789e+00, -1.0126e+01, -7.9492e+00, -9.1534e+00, -1.1692e+01,\n",
      "         -5.5689e+00, -1.2684e+01, -7.6911e+00, -1.2691e+01, -7.5800e+00,\n",
      "         -1.1757e+01, -1.2492e+01, -6.9507e+00, -9.7585e+00, -1.3220e+01,\n",
      "         -8.0014e+00, -1.3285e+01, -7.4379e+00, -7.4162e+00, -1.2188e+01,\n",
      "         -1.1730e+01, -6.0324e+00, -7.4022e+00, -1.3189e+01, -1.2273e+01,\n",
      "         -1.3910e+01, -1.1881e+01, -7.8819e+00, -9.6235e+00, -1.2585e+01,\n",
      "         -1.1487e+01, -9.0618e+00, -1.4494e+01, -1.2365e+01, -6.2940e+00,\n",
      "         -9.1202e+00, -7.6524e+00, -1.3184e+01, -1.0214e+01, -7.9634e+00,\n",
      "         -1.1016e+01, -1.0336e+01, -1.1676e+01, -5.6797e+00, -9.1713e+00,\n",
      "         -1.2723e+01, -1.2241e+01, -7.9811e+00, -1.0860e+01, -1.3220e+01,\n",
      "         -9.6363e+00, -7.6913e+00, -1.3192e+01, -6.2390e+00, -9.1437e+00,\n",
      "         -9.0305e+00, -1.2377e+01, -1.2428e+01, -1.4958e+01, -8.2231e+00,\n",
      "         -1.0764e+01, -1.4855e+01, -9.5290e+00, -1.4070e+01, -1.0568e+01,\n",
      "         -1.1521e+01, -1.3725e+01, -9.9093e+00, -1.3229e+01, -1.4184e+01,\n",
      "         -9.7446e+00, -7.4334e+00, -8.3511e+00, -9.6686e+00, -1.3572e+01,\n",
      "         -1.4521e+01, -9.8525e+00, -8.2412e+00, -9.4944e+00, -1.4194e+01,\n",
      "         -1.0705e+01, -1.4514e+01, -8.2751e+00, -1.1755e+01, -1.0513e+01,\n",
      "         -1.3172e+01, -8.1191e+00, -9.8016e+00, -1.0473e+01, -1.2358e+01,\n",
      "         -1.2497e+01, -1.4359e+01, -9.7314e+00, -1.0829e+01, -1.5064e+01,\n",
      "         -1.1113e+01, -1.4350e+01, -1.2038e+01, -1.4047e+01, -1.3431e+01,\n",
      "         -1.0234e+01, -1.0298e+01, -1.1985e+01, -1.2978e+01, -1.4154e+01,\n",
      "         -1.4202e+01, -1.1371e+01, -1.5005e+01, -1.2724e+01, -1.1410e+01,\n",
      "         -1.3896e+01, -9.5531e+00, -9.6065e+00, -1.0682e+01, -1.2156e+01,\n",
      "         -1.2500e+01, -1.4208e+01, -8.8059e+00, -1.0190e+01, -1.5579e+01,\n",
      "         -1.1281e+01, -1.4780e+01, -1.1898e+01, -1.3991e+01, -1.3561e+01,\n",
      "         -9.8350e+00, -9.9952e+00, -1.1171e+01, -1.4312e+01, -1.4292e+01,\n",
      "         -9.9287e+00, -1.4326e+01, -1.0655e+01, -1.0743e+01, -9.9721e+00,\n",
      "         -1.0293e+01, -1.4465e+01, -7.1553e+00, -1.2127e+01, -9.7485e+00,\n",
      "         -1.5148e+01, -1.2310e+01, -8.2835e+00, -9.4536e+00, -8.6676e+00,\n",
      "         -1.0183e+01, -1.3089e+01, -8.4530e+00, -1.1154e+01, -1.0725e+01,\n",
      "         -1.2415e+01, -8.1826e+00, -1.1603e+01, -1.1579e+01, -6.3449e+00,\n",
      "         -1.5148e+01, -7.5175e+00, -8.5240e+00, -1.1851e+01, -1.5933e+01,\n",
      "         -1.3299e+01, -1.4791e+01, -7.7436e+00, -9.2496e+00, -1.0857e+01,\n",
      "         -1.4001e+01, -9.3424e+00, -1.5577e+01, -1.3157e+01, -6.4792e+00,\n",
      "         -8.7773e+00, -1.3978e+01, -1.0039e+01, -1.3844e+01, -8.2346e+00,\n",
      "         -9.4937e+00, -1.2555e+01, -1.4447e+01, -1.1865e+01, -1.2579e+01,\n",
      "         -1.3974e+01, -1.4341e+01, -1.1008e+01, -1.0053e+01, -1.0306e+01,\n",
      "         -1.2544e+01, -1.6216e+01, -1.4288e+01, -9.9237e+00, -1.0973e+01,\n",
      "         -1.1710e+01, -1.4496e+01, -1.2118e+01, -1.4899e+01, -1.1637e+01,\n",
      "         -9.6706e+00, -1.0307e+01, -1.0104e+01, -1.6173e+01, -1.3662e+01,\n",
      "         -6.7937e+00, -8.1952e+00, -1.3890e+01, -1.1167e+01, -1.3986e+01,\n",
      "         -1.0970e+01, -1.3589e+01, -1.6142e+01, -1.4556e+01, -1.4864e+01,\n",
      "         -7.4900e+00, -8.6663e+00, -1.0565e+01, -1.4101e+01, -1.2882e+01,\n",
      "         -1.5107e+01, -1.4515e+01, -8.6515e+00, -1.0150e+01, -1.4334e+01,\n",
      "         -1.3296e+01, -1.0182e+01, -1.5074e+01, -1.3594e+01, -1.0524e+01,\n",
      "         -1.2422e+01, -1.1151e+01, -1.3140e+01, -1.0689e+01, -1.3494e+01,\n",
      "         -1.1875e+01, -1.2195e+01, -1.1948e+01, -1.4128e+01, -9.1377e+00,\n",
      "         -1.3064e+01, -1.1493e+01, -1.3941e+01, -1.0113e+01, -1.0675e+01,\n",
      "         -1.2261e+01, -7.8773e+00, -8.4556e+00, -1.1719e+01, -1.2623e+01,\n",
      "         -1.2057e+01, -1.1908e+01, -1.2151e+01, -1.4105e+01, -1.1863e+01,\n",
      "         -1.2115e+01, -9.1880e+00, -1.5150e+01, -1.4813e+01, -1.2091e+01,\n",
      "         -1.2327e+01, -1.2502e+01, -1.2470e+01, -1.3736e+01, -1.4416e+01,\n",
      "         -1.2058e+01, -1.4170e+01, -1.2059e+01, -1.4537e+01, -1.3888e+01,\n",
      "         -1.1165e+01, -1.2818e+01, -1.3000e+01, -1.5145e+01, -9.4124e+00,\n",
      "         -9.7405e+00, -9.0220e+00, -1.3958e+01, -1.1851e+01, -1.0813e+01,\n",
      "         -1.4529e+01, -1.2229e+01, -1.0452e+01, -1.1583e+01, -7.5770e+00,\n",
      "         -1.0039e+01, -1.5841e+01, -7.7478e+00, -1.0493e+01, -1.0331e+01,\n",
      "         -1.2037e+01, -1.4250e+01, -1.2125e+01, -1.3066e+01, -1.0231e+01,\n",
      "         -1.4049e+01, -1.3709e+01, -1.5319e+01, -8.6947e+00, -9.9127e+00,\n",
      "         -1.4246e+01, -8.5540e+00, -1.0152e+01, -1.1693e+01, -1.3785e+01,\n",
      "         -1.0766e+01, -1.0801e+01, -1.0360e+01, -1.4597e+01, -8.8704e+00,\n",
      "         -8.3691e+00, -9.0449e+00, -1.2587e+01, -1.4184e+01, -1.0865e+01,\n",
      "         -1.4100e+01, -6.9044e+00, -1.4325e+01, -1.0259e+01, -1.2970e+01,\n",
      "         -1.0736e+01, -1.0037e+01, -1.2071e+01, -1.1745e+01, -1.5634e+01,\n",
      "         -8.0942e+00, -1.1929e+01, -1.0129e+01, -1.2422e+01, -1.5075e+01,\n",
      "         -1.3840e+01, -1.0573e+01, -1.2902e+01, -1.4398e+01, -1.0745e+01,\n",
      "         -1.1501e+01, -8.9708e+00, -1.1703e+01, -8.7618e+00, -1.3232e+01,\n",
      "         -5.1356e+00, -6.9847e+00, -1.2223e+01, -4.1233e+00, -9.8934e+00,\n",
      "         -1.3678e+01, -8.7608e+00, -1.4238e+01, -7.8842e+00,  4.7824e-01]],\n",
      "       grad_fn=<CloneBackward0>), end_logits=tensor([[-1.1571e+01, -1.0000e+06, -1.0000e+06, -1.0000e+06, -1.0000e+06,\n",
      "         -1.0000e+06, -1.0000e+06, -1.0000e+06, -1.0000e+06, -1.0000e+06,\n",
      "         -1.0000e+06, -1.0000e+06, -1.0000e+06, -1.0000e+06, -1.0000e+06,\n",
      "         -1.0000e+06, -1.0000e+06, -1.0000e+06, -1.0000e+06, -1.0000e+06,\n",
      "         -1.0000e+06, -1.0000e+06, -1.0000e+06, -1.0000e+06, -1.0000e+06,\n",
      "         -1.0000e+06, -1.0000e+06, -1.0000e+06, -1.0000e+06, -1.0000e+06,\n",
      "         -1.0000e+06, -1.0000e+06, -8.6194e+00, -1.2113e+01, -9.0272e+00,\n",
      "         -1.4883e+01, -8.5569e+00, -7.2726e+00, -1.0251e+01, -1.1125e+01,\n",
      "         -3.2442e+00, -8.0662e+00, -1.0974e+01, -9.6454e+00, -4.3447e+00,\n",
      "         -9.2662e+00, -1.3953e+01, -1.0679e+01, -6.1600e+00, -1.4826e+01,\n",
      "         -9.5277e+00, -6.7591e+00, -1.2718e+01, -1.3571e+01, -9.8977e+00,\n",
      "         -1.0868e+01, -1.6380e+01, -1.5014e+01, -1.7487e+01, -1.3663e+01,\n",
      "         -1.0790e+01, -1.0694e+01, -1.2838e+01, -1.2550e+01, -1.4664e+01,\n",
      "         -1.7392e+01, -1.3423e+01, -1.1195e+01, -1.6889e+01, -1.3974e+01,\n",
      "         -1.4121e+01, -1.7640e+01, -1.4749e+01, -1.1258e+01, -1.2001e+01,\n",
      "         -1.4074e+01, -1.6528e+01, -1.4055e+01, -1.2624e+01, -1.4605e+01,\n",
      "         -1.1613e+01, -1.5607e+01, -1.4725e+01, -1.6827e+01, -1.3769e+01,\n",
      "         -1.4490e+01, -1.5704e+01, -1.5285e+01, -1.7430e+01, -1.3942e+01,\n",
      "         -1.6820e+01, -1.6994e+01, -9.6176e+00, -9.7726e+00, -1.7205e+01,\n",
      "         -1.2498e+01, -1.7011e+01, -1.2804e+01, -8.8663e+00, -1.0054e+01,\n",
      "         -1.7499e+01, -1.3128e+01, -8.8451e+00, -1.2835e+01, -8.1848e+00,\n",
      "         -1.0655e+01, -1.5708e+01, -1.2594e+01, -1.4083e+01, -1.1578e+01,\n",
      "         -1.5636e+01, -1.7971e+01, -1.5317e+01, -1.5973e+01, -1.7782e+01,\n",
      "         -1.4347e+01, -1.7235e+01, -1.4180e+01, -1.1499e+01, -1.4669e+01,\n",
      "         -1.6886e+01, -1.5854e+01, -1.6600e+01, -1.6589e+01, -1.5647e+01,\n",
      "         -1.7098e+01, -1.3205e+01, -1.6345e+01, -1.7203e+01, -1.0188e+01,\n",
      "         -1.1181e+01, -1.7289e+01, -1.3744e+01, -1.7304e+01, -1.4188e+01,\n",
      "         -1.6987e+01, -1.4245e+01, -1.1097e+01, -1.1794e+01, -1.0935e+01,\n",
      "         -1.0390e+01, -1.4361e+01, -1.7441e+01, -8.0596e+00, -1.4576e+01,\n",
      "         -1.2255e+01, -1.3329e+01, -1.0251e+01, -1.7627e+01, -1.5075e+01,\n",
      "         -1.4022e+01, -1.4903e+01, -1.6863e+01, -1.4337e+01, -1.6129e+01,\n",
      "         -1.6999e+01, -1.1921e+01, -1.4985e+01, -1.2721e+01, -1.1651e+01,\n",
      "         -1.7464e+01, -1.5721e+01, -1.6780e+01, -1.3116e+01, -9.9500e+00,\n",
      "         -1.5375e+01, -1.4230e+01, -1.3813e+01, -1.2875e+01, -1.7628e+01,\n",
      "         -1.4597e+01, -1.1651e+01, -1.3641e+01, -1.3965e+01, -1.1801e+01,\n",
      "         -1.1876e+01, -1.4885e+01, -1.5271e+01, -1.8056e+01, -1.4373e+01,\n",
      "         -1.6384e+01, -1.5743e+01, -1.4930e+01, -1.2572e+01, -1.6375e+01,\n",
      "         -1.3524e+01, -1.7600e+01, -1.1433e+01, -1.7518e+01, -1.4863e+01,\n",
      "         -1.7740e+01, -1.4265e+01, -1.0653e+01, -1.2671e+01, -1.7683e+01,\n",
      "         -1.5427e+01, -1.7798e+01, -1.4899e+01, -9.9815e+00, -9.7376e+00,\n",
      "         -1.2325e+01, -1.7418e+01, -1.4810e+01, -1.7351e+01, -1.2991e+01,\n",
      "         -1.5570e+01, -1.3654e+01, -1.3115e+01, -1.4162e+01, -1.6171e+01,\n",
      "         -1.4465e+01, -1.4031e+01, -1.3370e+01, -1.6004e+01, -1.4363e+01,\n",
      "         -1.6665e+01, -1.6242e+01, -1.5939e+01, -1.6712e+01, -1.2514e+01,\n",
      "         -1.7573e+01, -1.5901e+01, -1.2921e+01, -1.3762e+01, -1.5924e+01,\n",
      "         -1.1243e+01, -5.7601e+00, -1.5177e+01, -1.4030e+01, -1.1484e+01,\n",
      "         -1.5753e+01, -1.6250e+01, -1.5956e+01, -9.2256e+00, -1.3768e+01,\n",
      "         -1.3871e+01, -1.4487e+01, -1.0736e+01, -1.6308e+01, -1.6103e+01,\n",
      "         -1.0822e+01, -1.0706e+01, -1.1982e+01, -9.3967e+00, -1.3326e+01,\n",
      "         -8.6801e+00, -1.4922e+01, -8.2564e+00, -1.6582e+01, -1.0537e+01,\n",
      "         -1.3539e+01, -1.6364e+01, -8.1385e+00, -1.1777e+01, -1.5438e+01,\n",
      "         -9.5869e+00, -1.7237e+01, -1.1247e+01, -9.8515e+00, -1.4401e+01,\n",
      "         -1.6482e+01, -1.1055e+01, -7.4314e+00, -1.5975e+01, -1.4464e+01,\n",
      "         -1.5440e+01, -1.6275e+01, -1.2370e+01, -1.0330e+01, -1.3750e+01,\n",
      "         -1.5840e+01, -1.1514e+01, -1.6782e+01, -1.5204e+01, -8.5172e+00,\n",
      "         -1.2459e+01, -1.0149e+01, -1.6835e+01, -1.3808e+01, -1.1898e+01,\n",
      "         -1.3074e+01, -1.4370e+01, -1.7133e+01, -9.0757e+00, -1.1103e+01,\n",
      "         -1.4902e+01, -1.3352e+01, -9.9415e+00, -1.2936e+01, -1.7067e+01,\n",
      "         -1.5059e+01, -1.0057e+01, -1.6692e+01, -1.3729e+01, -8.9608e+00,\n",
      "         -1.0760e+01, -1.6579e+01, -1.5403e+01, -1.8426e+01, -1.0634e+01,\n",
      "         -1.3988e+01, -1.8459e+01, -1.2742e+01, -1.7820e+01, -1.2895e+01,\n",
      "         -1.5824e+01, -1.7931e+01, -1.3188e+01, -1.6571e+01, -1.8344e+01,\n",
      "         -1.3903e+01, -1.2550e+01, -9.1693e+00, -1.2718e+01, -1.7052e+01,\n",
      "         -1.8476e+01, -1.4376e+01, -9.7729e+00, -1.1765e+01, -1.7358e+01,\n",
      "         -1.4450e+01, -1.7414e+01, -1.1235e+01, -1.6568e+01, -1.5190e+01,\n",
      "         -1.7281e+01, -1.4490e+01, -1.1018e+01, -1.2459e+01, -1.5922e+01,\n",
      "         -1.5172e+01, -1.8200e+01, -1.3523e+01, -1.2774e+01, -1.8690e+01,\n",
      "         -1.4451e+01, -1.8103e+01, -1.4429e+01, -1.6712e+01, -1.7297e+01,\n",
      "         -1.4805e+01, -1.1195e+01, -1.4725e+01, -1.7070e+01, -1.8665e+01,\n",
      "         -1.6625e+01, -1.4374e+01, -1.7932e+01, -1.7308e+01, -1.4904e+01,\n",
      "         -1.7186e+01, -1.4125e+01, -1.1460e+01, -1.3075e+01, -1.5749e+01,\n",
      "         -1.5087e+01, -1.7617e+01, -1.2653e+01, -1.1822e+01, -1.8022e+01,\n",
      "         -1.4770e+01, -1.8343e+01, -1.4531e+01, -1.6431e+01, -1.7318e+01,\n",
      "         -1.4989e+01, -1.0680e+01, -1.3593e+01, -1.7196e+01, -1.7899e+01,\n",
      "         -1.2798e+01, -1.6120e+01, -1.4519e+01, -1.4414e+01, -1.2017e+01,\n",
      "         -1.3530e+01, -1.7298e+01, -9.9628e+00, -1.6911e+01, -1.1842e+01,\n",
      "         -1.6501e+01, -1.4797e+01, -1.2807e+01, -1.0237e+01, -1.3273e+01,\n",
      "         -1.1980e+01, -1.4922e+01, -1.0437e+01, -1.4083e+01, -1.2366e+01,\n",
      "         -1.6308e+01, -1.1590e+01, -1.5024e+01, -1.6831e+01, -8.4349e+00,\n",
      "         -1.6836e+01, -1.0947e+01, -1.0490e+01, -1.5581e+01, -1.6457e+01,\n",
      "         -1.6224e+01, -1.7975e+01, -1.3403e+01, -1.3306e+01, -1.2001e+01,\n",
      "         -1.6749e+01, -1.1676e+01, -1.5802e+01, -1.6771e+01, -1.1492e+01,\n",
      "         -8.8298e+00, -1.5288e+01, -1.3158e+01, -1.7510e+01, -1.5194e+01,\n",
      "         -1.4831e+01, -1.3008e+01, -1.7189e+01, -1.4668e+01, -1.1911e+01,\n",
      "         -1.5485e+01, -1.7879e+01, -1.4045e+01, -1.6583e+01, -1.2258e+01,\n",
      "         -1.4762e+01, -1.7183e+01, -1.7855e+01, -1.5169e+01, -1.4739e+01,\n",
      "         -1.3628e+01, -1.7544e+01, -1.4952e+01, -1.7461e+01, -1.4211e+01,\n",
      "         -1.5916e+01, -1.2718e+01, -1.4154e+01, -1.7244e+01, -1.7614e+01,\n",
      "         -1.0631e+01, -9.7507e+00, -1.6586e+01, -1.3552e+01, -1.6994e+01,\n",
      "         -1.4459e+01, -1.7040e+01, -1.7226e+01, -1.7333e+01, -1.8095e+01,\n",
      "         -1.2060e+01, -1.2255e+01, -1.0406e+01, -1.6914e+01, -1.2292e+01,\n",
      "         -1.6631e+01, -1.8095e+01, -1.3524e+01, -1.1343e+01, -1.6898e+01,\n",
      "         -1.7185e+01, -1.2735e+01, -1.7149e+01, -1.6232e+01, -1.3613e+01,\n",
      "         -1.3832e+01, -1.4136e+01, -1.5709e+01, -1.3469e+01, -1.5744e+01,\n",
      "         -1.4380e+01, -1.3673e+01, -1.4999e+01, -1.7156e+01, -1.1335e+01,\n",
      "         -1.6564e+01, -1.4686e+01, -1.7660e+01, -1.4349e+01, -1.1998e+01,\n",
      "         -1.4223e+01, -1.1560e+01, -9.9679e+00, -1.3875e+01, -1.5398e+01,\n",
      "         -1.4586e+01, -1.5583e+01, -1.3912e+01, -1.7182e+01, -1.5191e+01,\n",
      "         -1.4805e+01, -1.1713e+01, -1.8025e+01, -1.7735e+01, -1.5700e+01,\n",
      "         -1.4066e+01, -1.5627e+01, -1.5711e+01, -1.6908e+01, -1.6860e+01,\n",
      "         -1.4506e+01, -1.7242e+01, -1.4715e+01, -1.7784e+01, -1.7486e+01,\n",
      "         -1.3741e+01, -1.6188e+01, -1.5543e+01, -1.7089e+01, -1.4616e+01,\n",
      "         -1.3402e+01, -1.1999e+01, -1.7471e+01, -1.5522e+01, -1.3319e+01,\n",
      "         -1.6795e+01, -1.4961e+01, -1.4192e+01, -1.6656e+01, -1.3757e+01,\n",
      "         -1.0238e+01, -1.6846e+01, -1.1784e+01, -1.2721e+01, -1.2264e+01,\n",
      "         -1.5800e+01, -1.7778e+01, -1.5030e+01, -1.6544e+01, -1.3603e+01,\n",
      "         -1.6527e+01, -1.5846e+01, -1.7641e+01, -1.4324e+01, -1.0508e+01,\n",
      "         -1.5170e+01, -1.0371e+01, -1.2333e+01, -1.3758e+01, -1.7687e+01,\n",
      "         -1.3094e+01, -1.3886e+01, -1.3336e+01, -1.8203e+01, -1.5022e+01,\n",
      "         -1.2865e+01, -9.5686e+00, -1.5407e+01, -1.6726e+01, -1.3889e+01,\n",
      "         -1.7326e+01, -9.7636e+00, -1.4494e+01, -1.2077e+01, -1.5667e+01,\n",
      "         -1.3736e+01, -1.2054e+01, -1.4191e+01, -1.3855e+01, -1.7056e+01,\n",
      "         -1.1968e+01, -1.4589e+01, -1.2802e+01, -1.4192e+01, -1.6574e+01,\n",
      "         -1.6060e+01, -1.3075e+01, -1.6268e+01, -1.8118e+01, -1.3078e+01,\n",
      "         -1.4324e+01, -1.2627e+01, -1.6562e+01, -1.1058e+01, -1.7277e+01,\n",
      "         -8.5119e+00, -1.3049e+01, -1.6857e+01, -1.3038e+01, -6.4758e+00,\n",
      "         -1.5220e+01, -9.5156e+00, -1.5981e+01, -9.1902e+00, -1.9208e+00]],\n",
      "       grad_fn=<CloneBackward0>), pooler_output=None, hidden_states=None, attentions=None)\n"
     ]
    }
   ],
   "source": [
    "question = f\"Q: {question}?\"\n",
    "context = f\"Context: {formatted_result}\"\n",
    "encoded_input = tokenizer(question, context, return_tensors='pt')\n",
    "output = model(**encoded_input)\n",
    "print(f\"Response Tokens: {output}\")"
   ]
  },
  {
   "cell_type": "code",
   "execution_count": null,
   "id": "0ab4e509-fe05-4aed-8219-c3395f0d38b8",
   "metadata": {},
   "outputs": [],
   "source": []
  }
 ],
 "metadata": {
  "kernelspec": {
   "display_name": "Python 3 (ipykernel)",
   "language": "python",
   "name": "python3"
  },
  "language_info": {
   "codemirror_mode": {
    "name": "ipython",
    "version": 3
   },
   "file_extension": ".py",
   "mimetype": "text/x-python",
   "name": "python",
   "nbconvert_exporter": "python",
   "pygments_lexer": "ipython3",
   "version": "3.11.4"
  }
 },
 "nbformat": 4,
 "nbformat_minor": 5
}
